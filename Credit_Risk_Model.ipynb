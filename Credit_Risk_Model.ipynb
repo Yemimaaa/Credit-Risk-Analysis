{
 "cells": [
  {
   "cell_type": "markdown",
   "id": "d87570fa-294e-431f-ae86-4064aa5f4dd0",
   "metadata": {},
   "source": [
    "# MODEL PREDIKSI RISIKO KREDIT\n",
    "#### Yemima Sipayung"
   ]
  },
  {
   "cell_type": "markdown",
   "id": "93d1e4ea-3bc7-4b5b-bf51-e71861cdc819",
   "metadata": {},
   "source": [
    "> Risiko kredit adalah suatu risiko kerugian yang dialami perusahaan yang disebabkan oleh ketidakmampuan dari debitur atas kewajiban pembayaran utangnya, baik utang pokok maupun bunga, ataupun keduanya. Salah satu faktor penyebab terjadinya risiko kredit adalah kesalahan penilaian dalam keputusan pemberian pinjaman. Untuk meminimalkan kemungkinan terjadinya kerugian tersebut, perlu dilakukan pengurangan tingkat risiko dengan meningkatkan kehati-hatian dan memperhatikan berbagai faktor yang menyebabkan terjadinya risiko kredit dalam pemberian pinjaman kepada peminjamnya. Pada kesempatan kali ini, akan dilakukan analisis prediksi tingkat risiko kredit berdasarkan data historis atas transaksi yang pernah dilakukan oleh peminjam. Penelitian ini bertujuan untuk membuat model prediksi tingkat risiko kredit dengan menggunakan algoritma machine learning."
   ]
  },
  {
   "cell_type": "markdown",
   "id": "2aa547b3-3427-42ad-b9fc-a4ce13d68140",
   "metadata": {
    "tags": []
   },
   "source": [
    "**Features Dictionary**\n",
    "- 'id': A unique LC assigned ID for the loan listing.\n",
    "- 'member_id': borrower member\n",
    "- 'loan_amnt': Last month payment was\n",
    "- 'funded_amnt': The total amount committed to that loan at that point in time\n",
    "- 'funded_amnt_inv': The total amount committed to that loan at that point funded by investors\n",
    "- 'term': The number of payments on the loan. Values are in months and can be either 36 or 60.\n",
    "- 'int_rate': Indicates if income was verified by LC, not verified, or if the income source was verified\n",
    "- 'installment': The monthly payment owed by the borrower if the loan originates\n",
    "- 'grade': LC assigned loan grade\n",
    "- 'sub_grade': LC assigned loan subgrade\n",
    "- 'emp_title': The job title supplied by the Borrower when applying for the loan.*\n",
    "- 'emp_length': Employment length in years. Possible values are between 0 and 10 where 0 means less than one year and 10 means ten or more years. \n",
    "- 'home_ownership': The home ownership status provided by the borrower during registration. Our values are: RENT, OWN, MORTGAGE, OTHER.\n",
    "- 'annual_inc': The self-reported annual income provided by the borrower during registration.\n",
    "- 'verification_status': Indicates if the co-borrowers' joint income was verified by LC, not verified, or if the income source was verified\n",
    "- 'issue_d': The month which the loan was funded\n",
    "- 'loan_status': Current status of the loan\n",
    "- 'pymnt_plan': Indicates if a payment plan has been put in place for the loan\n",
    "- 'url': URL for the LC page with listing data.\n",
    "- 'desc': Loan description provided by the borrower\n",
    "- 'purpose': A category provided by the borrower for the loan request. \n",
    "- 'title': The loan title provided by the borrower\n",
    "- 'zip_code': The first 3 numbers of the zip code provided by the borrower in the loan application.\n",
    "- 'addr_state': The state provided by the borrower in the loan application\n",
    "- 'dti': A ratio calculated using the borrower’s total monthly debt payments on the total debt obligations, excluding mortgage and the requested LC loan, divided by the borrower’s self-reported monthly income.\n",
    "- 'delinq_2yrs': The number of 30+ days past-due incidences of delinquency in the borrower's credit file for the past 2 years\n",
    "- 'earliest_cr_line': The date the borrower's earliest reported credit line was opened\n",
    "- 'inq_last_6mths': Number of credit inquiries in past 6 months\n",
    "- 'mths_since_last_delinq': The number of months since the borrower's last delinquency\n",
    "- 'mths_since_last_record': The number of months since the last public record.\n",
    "- 'open_acc': The number of open credit lines in the borrower's credit file.\n",
    "- 'pub_rec': Number of derogatory public records\n",
    "- 'revol_bal': Total credit revolving balance\n",
    "- 'revol_util': Revolving line utilization rate, or the amount of credit the borrower is using relative to all available revolving credit.        \n",
    "- 'total_acc': The total number of credit lines currently in the borrower's credit file\n",
    "- 'initial_list_status':\n",
    "- 'out_prncp': Remaining outstanding principal for total amount funded\n",
    "- 'out_prncp_inv': Remaining outstanding principal for portion of total amount funded by investors\n",
    "- 'total_pymnt': Payments received to date for total amount funded\n",
    "- 'total_pymnt_inv': Payments received to date for portion of total amount funded by investors\n",
    "- 'total_rec_prncp': Principal received to date\n",
    "- 'total_rec_int': Interest received to date\n",
    "- 'total_rec_late_fee': Late fees received to date\n",
    "- 'recoveries': Indicates if a payment plan has been put in place for the loan\n",
    "- 'collection_recovery_fee': post charge off collection fee\n",
    "- 'last_pymnt_d': Last month payment was received\n",
    "- 'last_pymnt_amnt': Last total payment amount received\n",
    "- 'next_pymnt_d': Next scheduled payment date\n",
    "- 'last_credit_pull_d': The most recent month LC pulled credit for this loan\n",
    "- 'collections_12_mths_ex_med': Number of collections in 12 months excluding medical collections\n",
    "- 'mths_since_last_major_derog': Months since most recent 90-day or worse rating\n",
    "- 'policy_code': publicly available policy_code=1, new products not publicly available policy_code=2\n",
    "- 'application_type': Indicates whether the loan is an individual application or a joint application with two co-borrowers\n",
    "- 'acc_now_delinq': The number of accounts on which the borrower is now delinquent.\n",
    "- 'tot_coll_amt': Total collection amounts ever owed\n",
    "- 'tot_cur_bal': Total current balance of all accounts\n",
    "- 'total_rev_hi_lim': Total revolving high credit/credit limit"
   ]
  },
  {
   "cell_type": "markdown",
   "id": "cb6427df-7ca4-43d5-915b-8a8a9b678974",
   "metadata": {
    "jp-MarkdownHeadingCollapsed": true,
    "tags": []
   },
   "source": [
    "## IMPORT LIBRARIES"
   ]
  },
  {
   "cell_type": "code",
   "execution_count": 1,
   "id": "d3cb6d58-96cc-418c-a3c4-763855fa012e",
   "metadata": {
    "tags": []
   },
   "outputs": [],
   "source": [
    "import numpy as np\n",
    "import pandas as pd\n",
    "import seaborn as sns\n",
    "import matplotlib.pyplot as plt\n",
    "import scipy.stats as ss\n",
    "import warnings\n",
    "warnings.filterwarnings(\"ignore\", category=FutureWarning)"
   ]
  },
  {
   "cell_type": "markdown",
   "id": "d82aacc4-ab30-4dd8-bd09-7bbcbee78869",
   "metadata": {
    "jp-MarkdownHeadingCollapsed": true,
    "tags": []
   },
   "source": [
    "## OVERVIEW"
   ]
  },
  {
   "cell_type": "code",
   "execution_count": 2,
   "id": "3bec0c4b-d709-4e28-b6d7-226b28c20ce8",
   "metadata": {},
   "outputs": [],
   "source": [
    "df = pd.read_csv('loan_data_2007_2014.csv', low_memory = False)"
   ]
  },
  {
   "cell_type": "code",
   "execution_count": 3,
   "id": "03648f08-9cb3-4e30-a701-1dbb24fdd417",
   "metadata": {},
   "outputs": [
    {
     "data": {
      "text/html": [
       "<div>\n",
       "<style scoped>\n",
       "    .dataframe tbody tr th:only-of-type {\n",
       "        vertical-align: middle;\n",
       "    }\n",
       "\n",
       "    .dataframe tbody tr th {\n",
       "        vertical-align: top;\n",
       "    }\n",
       "\n",
       "    .dataframe thead th {\n",
       "        text-align: right;\n",
       "    }\n",
       "</style>\n",
       "<table border=\"1\" class=\"dataframe\">\n",
       "  <thead>\n",
       "    <tr style=\"text-align: right;\">\n",
       "      <th></th>\n",
       "      <th>Unnamed: 0</th>\n",
       "      <th>id</th>\n",
       "      <th>member_id</th>\n",
       "      <th>loan_amnt</th>\n",
       "      <th>funded_amnt</th>\n",
       "      <th>funded_amnt_inv</th>\n",
       "      <th>term</th>\n",
       "      <th>int_rate</th>\n",
       "      <th>installment</th>\n",
       "      <th>grade</th>\n",
       "      <th>...</th>\n",
       "      <th>total_bal_il</th>\n",
       "      <th>il_util</th>\n",
       "      <th>open_rv_12m</th>\n",
       "      <th>open_rv_24m</th>\n",
       "      <th>max_bal_bc</th>\n",
       "      <th>all_util</th>\n",
       "      <th>total_rev_hi_lim</th>\n",
       "      <th>inq_fi</th>\n",
       "      <th>total_cu_tl</th>\n",
       "      <th>inq_last_12m</th>\n",
       "    </tr>\n",
       "  </thead>\n",
       "  <tbody>\n",
       "    <tr>\n",
       "      <th>0</th>\n",
       "      <td>0</td>\n",
       "      <td>1077501</td>\n",
       "      <td>1296599</td>\n",
       "      <td>5000</td>\n",
       "      <td>5000</td>\n",
       "      <td>4975.0</td>\n",
       "      <td>36 months</td>\n",
       "      <td>10.65</td>\n",
       "      <td>162.87</td>\n",
       "      <td>B</td>\n",
       "      <td>...</td>\n",
       "      <td>NaN</td>\n",
       "      <td>NaN</td>\n",
       "      <td>NaN</td>\n",
       "      <td>NaN</td>\n",
       "      <td>NaN</td>\n",
       "      <td>NaN</td>\n",
       "      <td>NaN</td>\n",
       "      <td>NaN</td>\n",
       "      <td>NaN</td>\n",
       "      <td>NaN</td>\n",
       "    </tr>\n",
       "    <tr>\n",
       "      <th>1</th>\n",
       "      <td>1</td>\n",
       "      <td>1077430</td>\n",
       "      <td>1314167</td>\n",
       "      <td>2500</td>\n",
       "      <td>2500</td>\n",
       "      <td>2500.0</td>\n",
       "      <td>60 months</td>\n",
       "      <td>15.27</td>\n",
       "      <td>59.83</td>\n",
       "      <td>C</td>\n",
       "      <td>...</td>\n",
       "      <td>NaN</td>\n",
       "      <td>NaN</td>\n",
       "      <td>NaN</td>\n",
       "      <td>NaN</td>\n",
       "      <td>NaN</td>\n",
       "      <td>NaN</td>\n",
       "      <td>NaN</td>\n",
       "      <td>NaN</td>\n",
       "      <td>NaN</td>\n",
       "      <td>NaN</td>\n",
       "    </tr>\n",
       "    <tr>\n",
       "      <th>2</th>\n",
       "      <td>2</td>\n",
       "      <td>1077175</td>\n",
       "      <td>1313524</td>\n",
       "      <td>2400</td>\n",
       "      <td>2400</td>\n",
       "      <td>2400.0</td>\n",
       "      <td>36 months</td>\n",
       "      <td>15.96</td>\n",
       "      <td>84.33</td>\n",
       "      <td>C</td>\n",
       "      <td>...</td>\n",
       "      <td>NaN</td>\n",
       "      <td>NaN</td>\n",
       "      <td>NaN</td>\n",
       "      <td>NaN</td>\n",
       "      <td>NaN</td>\n",
       "      <td>NaN</td>\n",
       "      <td>NaN</td>\n",
       "      <td>NaN</td>\n",
       "      <td>NaN</td>\n",
       "      <td>NaN</td>\n",
       "    </tr>\n",
       "  </tbody>\n",
       "</table>\n",
       "<p>3 rows × 75 columns</p>\n",
       "</div>"
      ],
      "text/plain": [
       "   Unnamed: 0       id  member_id  loan_amnt  funded_amnt  funded_amnt_inv  \\\n",
       "0           0  1077501    1296599       5000         5000           4975.0   \n",
       "1           1  1077430    1314167       2500         2500           2500.0   \n",
       "2           2  1077175    1313524       2400         2400           2400.0   \n",
       "\n",
       "         term  int_rate  installment grade  ... total_bal_il il_util  \\\n",
       "0   36 months     10.65       162.87     B  ...          NaN     NaN   \n",
       "1   60 months     15.27        59.83     C  ...          NaN     NaN   \n",
       "2   36 months     15.96        84.33     C  ...          NaN     NaN   \n",
       "\n",
       "  open_rv_12m open_rv_24m  max_bal_bc all_util total_rev_hi_lim inq_fi  \\\n",
       "0         NaN         NaN         NaN      NaN              NaN    NaN   \n",
       "1         NaN         NaN         NaN      NaN              NaN    NaN   \n",
       "2         NaN         NaN         NaN      NaN              NaN    NaN   \n",
       "\n",
       "  total_cu_tl inq_last_12m  \n",
       "0         NaN          NaN  \n",
       "1         NaN          NaN  \n",
       "2         NaN          NaN  \n",
       "\n",
       "[3 rows x 75 columns]"
      ]
     },
     "execution_count": 3,
     "metadata": {},
     "output_type": "execute_result"
    }
   ],
   "source": [
    "df.head(3)"
   ]
  },
  {
   "cell_type": "code",
   "execution_count": 4,
   "id": "3f5414a8-2742-4358-aca7-ada76f97a1ba",
   "metadata": {},
   "outputs": [
    {
     "data": {
      "text/html": [
       "<div>\n",
       "<style scoped>\n",
       "    .dataframe tbody tr th:only-of-type {\n",
       "        vertical-align: middle;\n",
       "    }\n",
       "\n",
       "    .dataframe tbody tr th {\n",
       "        vertical-align: top;\n",
       "    }\n",
       "\n",
       "    .dataframe thead th {\n",
       "        text-align: right;\n",
       "    }\n",
       "</style>\n",
       "<table border=\"1\" class=\"dataframe\">\n",
       "  <thead>\n",
       "    <tr style=\"text-align: right;\">\n",
       "      <th></th>\n",
       "      <th>Unnamed: 0</th>\n",
       "      <th>id</th>\n",
       "      <th>member_id</th>\n",
       "      <th>loan_amnt</th>\n",
       "      <th>funded_amnt</th>\n",
       "      <th>funded_amnt_inv</th>\n",
       "      <th>term</th>\n",
       "      <th>int_rate</th>\n",
       "      <th>installment</th>\n",
       "      <th>grade</th>\n",
       "      <th>...</th>\n",
       "      <th>total_bal_il</th>\n",
       "      <th>il_util</th>\n",
       "      <th>open_rv_12m</th>\n",
       "      <th>open_rv_24m</th>\n",
       "      <th>max_bal_bc</th>\n",
       "      <th>all_util</th>\n",
       "      <th>total_rev_hi_lim</th>\n",
       "      <th>inq_fi</th>\n",
       "      <th>total_cu_tl</th>\n",
       "      <th>inq_last_12m</th>\n",
       "    </tr>\n",
       "  </thead>\n",
       "  <tbody>\n",
       "    <tr>\n",
       "      <th>466282</th>\n",
       "      <td>466282</td>\n",
       "      <td>9584776</td>\n",
       "      <td>11436914</td>\n",
       "      <td>20700</td>\n",
       "      <td>20700</td>\n",
       "      <td>20700.0</td>\n",
       "      <td>60 months</td>\n",
       "      <td>16.99</td>\n",
       "      <td>514.34</td>\n",
       "      <td>D</td>\n",
       "      <td>...</td>\n",
       "      <td>NaN</td>\n",
       "      <td>NaN</td>\n",
       "      <td>NaN</td>\n",
       "      <td>NaN</td>\n",
       "      <td>NaN</td>\n",
       "      <td>NaN</td>\n",
       "      <td>13100.0</td>\n",
       "      <td>NaN</td>\n",
       "      <td>NaN</td>\n",
       "      <td>NaN</td>\n",
       "    </tr>\n",
       "    <tr>\n",
       "      <th>466283</th>\n",
       "      <td>466283</td>\n",
       "      <td>9604874</td>\n",
       "      <td>11457002</td>\n",
       "      <td>2000</td>\n",
       "      <td>2000</td>\n",
       "      <td>2000.0</td>\n",
       "      <td>36 months</td>\n",
       "      <td>7.90</td>\n",
       "      <td>62.59</td>\n",
       "      <td>A</td>\n",
       "      <td>...</td>\n",
       "      <td>NaN</td>\n",
       "      <td>NaN</td>\n",
       "      <td>NaN</td>\n",
       "      <td>NaN</td>\n",
       "      <td>NaN</td>\n",
       "      <td>NaN</td>\n",
       "      <td>53100.0</td>\n",
       "      <td>NaN</td>\n",
       "      <td>NaN</td>\n",
       "      <td>NaN</td>\n",
       "    </tr>\n",
       "    <tr>\n",
       "      <th>466284</th>\n",
       "      <td>466284</td>\n",
       "      <td>9199665</td>\n",
       "      <td>11061576</td>\n",
       "      <td>10000</td>\n",
       "      <td>10000</td>\n",
       "      <td>9975.0</td>\n",
       "      <td>36 months</td>\n",
       "      <td>19.20</td>\n",
       "      <td>367.58</td>\n",
       "      <td>D</td>\n",
       "      <td>...</td>\n",
       "      <td>NaN</td>\n",
       "      <td>NaN</td>\n",
       "      <td>NaN</td>\n",
       "      <td>NaN</td>\n",
       "      <td>NaN</td>\n",
       "      <td>NaN</td>\n",
       "      <td>16000.0</td>\n",
       "      <td>NaN</td>\n",
       "      <td>NaN</td>\n",
       "      <td>NaN</td>\n",
       "    </tr>\n",
       "  </tbody>\n",
       "</table>\n",
       "<p>3 rows × 75 columns</p>\n",
       "</div>"
      ],
      "text/plain": [
       "        Unnamed: 0       id  member_id  loan_amnt  funded_amnt  \\\n",
       "466282      466282  9584776   11436914      20700        20700   \n",
       "466283      466283  9604874   11457002       2000         2000   \n",
       "466284      466284  9199665   11061576      10000        10000   \n",
       "\n",
       "        funded_amnt_inv        term  int_rate  installment grade  ...  \\\n",
       "466282          20700.0   60 months     16.99       514.34     D  ...   \n",
       "466283           2000.0   36 months      7.90        62.59     A  ...   \n",
       "466284           9975.0   36 months     19.20       367.58     D  ...   \n",
       "\n",
       "       total_bal_il il_util open_rv_12m open_rv_24m  max_bal_bc all_util  \\\n",
       "466282          NaN     NaN         NaN         NaN         NaN      NaN   \n",
       "466283          NaN     NaN         NaN         NaN         NaN      NaN   \n",
       "466284          NaN     NaN         NaN         NaN         NaN      NaN   \n",
       "\n",
       "       total_rev_hi_lim inq_fi total_cu_tl inq_last_12m  \n",
       "466282          13100.0    NaN         NaN          NaN  \n",
       "466283          53100.0    NaN         NaN          NaN  \n",
       "466284          16000.0    NaN         NaN          NaN  \n",
       "\n",
       "[3 rows x 75 columns]"
      ]
     },
     "execution_count": 4,
     "metadata": {},
     "output_type": "execute_result"
    }
   ],
   "source": [
    "df.tail(3)"
   ]
  },
  {
   "cell_type": "code",
   "execution_count": 5,
   "id": "3950abe0-6694-4eda-8a65-8edaac50c422",
   "metadata": {
    "tags": []
   },
   "outputs": [
    {
     "name": "stdout",
     "output_type": "stream",
     "text": [
      "<class 'pandas.core.frame.DataFrame'>\n",
      "RangeIndex: 466285 entries, 0 to 466284\n",
      "Data columns (total 75 columns):\n",
      " #   Column                       Non-Null Count   Dtype  \n",
      "---  ------                       --------------   -----  \n",
      " 0   Unnamed: 0                   466285 non-null  int64  \n",
      " 1   id                           466285 non-null  int64  \n",
      " 2   member_id                    466285 non-null  int64  \n",
      " 3   loan_amnt                    466285 non-null  int64  \n",
      " 4   funded_amnt                  466285 non-null  int64  \n",
      " 5   funded_amnt_inv              466285 non-null  float64\n",
      " 6   term                         466285 non-null  object \n",
      " 7   int_rate                     466285 non-null  float64\n",
      " 8   installment                  466285 non-null  float64\n",
      " 9   grade                        466285 non-null  object \n",
      " 10  sub_grade                    466285 non-null  object \n",
      " 11  emp_title                    438697 non-null  object \n",
      " 12  emp_length                   445277 non-null  object \n",
      " 13  home_ownership               466285 non-null  object \n",
      " 14  annual_inc                   466281 non-null  float64\n",
      " 15  verification_status          466285 non-null  object \n",
      " 16  issue_d                      466285 non-null  object \n",
      " 17  loan_status                  466285 non-null  object \n",
      " 18  pymnt_plan                   466285 non-null  object \n",
      " 19  url                          466285 non-null  object \n",
      " 20  desc                         125983 non-null  object \n",
      " 21  purpose                      466285 non-null  object \n",
      " 22  title                        466265 non-null  object \n",
      " 23  zip_code                     466285 non-null  object \n",
      " 24  addr_state                   466285 non-null  object \n",
      " 25  dti                          466285 non-null  float64\n",
      " 26  delinq_2yrs                  466256 non-null  float64\n",
      " 27  earliest_cr_line             466256 non-null  object \n",
      " 28  inq_last_6mths               466256 non-null  float64\n",
      " 29  mths_since_last_delinq       215934 non-null  float64\n",
      " 30  mths_since_last_record       62638 non-null   float64\n",
      " 31  open_acc                     466256 non-null  float64\n",
      " 32  pub_rec                      466256 non-null  float64\n",
      " 33  revol_bal                    466285 non-null  int64  \n",
      " 34  revol_util                   465945 non-null  float64\n",
      " 35  total_acc                    466256 non-null  float64\n",
      " 36  initial_list_status          466285 non-null  object \n",
      " 37  out_prncp                    466285 non-null  float64\n",
      " 38  out_prncp_inv                466285 non-null  float64\n",
      " 39  total_pymnt                  466285 non-null  float64\n",
      " 40  total_pymnt_inv              466285 non-null  float64\n",
      " 41  total_rec_prncp              466285 non-null  float64\n",
      " 42  total_rec_int                466285 non-null  float64\n",
      " 43  total_rec_late_fee           466285 non-null  float64\n",
      " 44  recoveries                   466285 non-null  float64\n",
      " 45  collection_recovery_fee      466285 non-null  float64\n",
      " 46  last_pymnt_d                 465909 non-null  object \n",
      " 47  last_pymnt_amnt              466285 non-null  float64\n",
      " 48  next_pymnt_d                 239071 non-null  object \n",
      " 49  last_credit_pull_d           466243 non-null  object \n",
      " 50  collections_12_mths_ex_med   466140 non-null  float64\n",
      " 51  mths_since_last_major_derog  98974 non-null   float64\n",
      " 52  policy_code                  466285 non-null  int64  \n",
      " 53  application_type             466285 non-null  object \n",
      " 54  annual_inc_joint             0 non-null       float64\n",
      " 55  dti_joint                    0 non-null       float64\n",
      " 56  verification_status_joint    0 non-null       float64\n",
      " 57  acc_now_delinq               466256 non-null  float64\n",
      " 58  tot_coll_amt                 396009 non-null  float64\n",
      " 59  tot_cur_bal                  396009 non-null  float64\n",
      " 60  open_acc_6m                  0 non-null       float64\n",
      " 61  open_il_6m                   0 non-null       float64\n",
      " 62  open_il_12m                  0 non-null       float64\n",
      " 63  open_il_24m                  0 non-null       float64\n",
      " 64  mths_since_rcnt_il           0 non-null       float64\n",
      " 65  total_bal_il                 0 non-null       float64\n",
      " 66  il_util                      0 non-null       float64\n",
      " 67  open_rv_12m                  0 non-null       float64\n",
      " 68  open_rv_24m                  0 non-null       float64\n",
      " 69  max_bal_bc                   0 non-null       float64\n",
      " 70  all_util                     0 non-null       float64\n",
      " 71  total_rev_hi_lim             396009 non-null  float64\n",
      " 72  inq_fi                       0 non-null       float64\n",
      " 73  total_cu_tl                  0 non-null       float64\n",
      " 74  inq_last_12m                 0 non-null       float64\n",
      "dtypes: float64(46), int64(7), object(22)\n",
      "memory usage: 266.8+ MB\n"
     ]
    }
   ],
   "source": [
    "df.info()"
   ]
  },
  {
   "cell_type": "markdown",
   "id": "c67d5ef6-feea-4e91-a428-035126f82e7f",
   "metadata": {},
   "source": [
    ">Data yang digunakan memiliki 75 kolom dan 466285 baris.Terdapat kolom yang tidak memiliki nilai sama sekali, dan beberapa kolom yang memiliki null values."
   ]
  },
  {
   "cell_type": "code",
   "execution_count": 6,
   "id": "d2e9167f-a9e0-4a79-a4d1-1bbf31f4275f",
   "metadata": {},
   "outputs": [],
   "source": [
    "# pd.set_option('display.max_rows', None)"
   ]
  },
  {
   "cell_type": "code",
   "execution_count": 7,
   "id": "6561ef16-b34f-42e8-822c-54c7a1c9f87a",
   "metadata": {
    "tags": []
   },
   "outputs": [
    {
     "data": {
      "text/html": [
       "<div>\n",
       "<style scoped>\n",
       "    .dataframe tbody tr th:only-of-type {\n",
       "        vertical-align: middle;\n",
       "    }\n",
       "\n",
       "    .dataframe tbody tr th {\n",
       "        vertical-align: top;\n",
       "    }\n",
       "\n",
       "    .dataframe thead th {\n",
       "        text-align: right;\n",
       "    }\n",
       "</style>\n",
       "<table border=\"1\" class=\"dataframe\">\n",
       "  <thead>\n",
       "    <tr style=\"text-align: right;\">\n",
       "      <th></th>\n",
       "      <th>Features</th>\n",
       "      <th>dataType</th>\n",
       "      <th>nullvalues</th>\n",
       "      <th>unique</th>\n",
       "      <th>uniqueSample</th>\n",
       "    </tr>\n",
       "  </thead>\n",
       "  <tbody>\n",
       "    <tr>\n",
       "      <th>0</th>\n",
       "      <td>Unnamed: 0</td>\n",
       "      <td>int64</td>\n",
       "      <td>0</td>\n",
       "      <td>466285</td>\n",
       "      <td>[0, 1, 2, 3, 4, 5, 6, 7, 8, 9, 10, 11, 12, 13,...</td>\n",
       "    </tr>\n",
       "    <tr>\n",
       "      <th>1</th>\n",
       "      <td>id</td>\n",
       "      <td>int64</td>\n",
       "      <td>0</td>\n",
       "      <td>466285</td>\n",
       "      <td>[1077501, 1077430, 1077175, 1076863, 1075358, ...</td>\n",
       "    </tr>\n",
       "    <tr>\n",
       "      <th>2</th>\n",
       "      <td>member_id</td>\n",
       "      <td>int64</td>\n",
       "      <td>0</td>\n",
       "      <td>466285</td>\n",
       "      <td>[1296599, 1314167, 1313524, 1277178, 1311748, ...</td>\n",
       "    </tr>\n",
       "    <tr>\n",
       "      <th>3</th>\n",
       "      <td>loan_amnt</td>\n",
       "      <td>int64</td>\n",
       "      <td>0</td>\n",
       "      <td>1352</td>\n",
       "      <td>[5000, 2500, 2400, 10000, 3000, 7000, 5600, 53...</td>\n",
       "    </tr>\n",
       "    <tr>\n",
       "      <th>4</th>\n",
       "      <td>funded_amnt</td>\n",
       "      <td>int64</td>\n",
       "      <td>0</td>\n",
       "      <td>1354</td>\n",
       "      <td>[5000, 2500, 2400, 10000, 3000, 7000, 5600, 53...</td>\n",
       "    </tr>\n",
       "    <tr>\n",
       "      <th>...</th>\n",
       "      <td>...</td>\n",
       "      <td>...</td>\n",
       "      <td>...</td>\n",
       "      <td>...</td>\n",
       "      <td>...</td>\n",
       "    </tr>\n",
       "    <tr>\n",
       "      <th>70</th>\n",
       "      <td>all_util</td>\n",
       "      <td>float64</td>\n",
       "      <td>466285</td>\n",
       "      <td>0</td>\n",
       "      <td>[nan]</td>\n",
       "    </tr>\n",
       "    <tr>\n",
       "      <th>71</th>\n",
       "      <td>total_rev_hi_lim</td>\n",
       "      <td>float64</td>\n",
       "      <td>70276</td>\n",
       "      <td>14612</td>\n",
       "      <td>[nan, 59900.0, 15100.0, 61100.0, 8100.0, 15400...</td>\n",
       "    </tr>\n",
       "    <tr>\n",
       "      <th>72</th>\n",
       "      <td>inq_fi</td>\n",
       "      <td>float64</td>\n",
       "      <td>466285</td>\n",
       "      <td>0</td>\n",
       "      <td>[nan]</td>\n",
       "    </tr>\n",
       "    <tr>\n",
       "      <th>73</th>\n",
       "      <td>total_cu_tl</td>\n",
       "      <td>float64</td>\n",
       "      <td>466285</td>\n",
       "      <td>0</td>\n",
       "      <td>[nan]</td>\n",
       "    </tr>\n",
       "    <tr>\n",
       "      <th>74</th>\n",
       "      <td>inq_last_12m</td>\n",
       "      <td>float64</td>\n",
       "      <td>466285</td>\n",
       "      <td>0</td>\n",
       "      <td>[nan]</td>\n",
       "    </tr>\n",
       "  </tbody>\n",
       "</table>\n",
       "<p>75 rows × 5 columns</p>\n",
       "</div>"
      ],
      "text/plain": [
       "            Features dataType  nullvalues  unique  \\\n",
       "0         Unnamed: 0    int64           0  466285   \n",
       "1                 id    int64           0  466285   \n",
       "2          member_id    int64           0  466285   \n",
       "3          loan_amnt    int64           0    1352   \n",
       "4        funded_amnt    int64           0    1354   \n",
       "..               ...      ...         ...     ...   \n",
       "70          all_util  float64      466285       0   \n",
       "71  total_rev_hi_lim  float64       70276   14612   \n",
       "72            inq_fi  float64      466285       0   \n",
       "73       total_cu_tl  float64      466285       0   \n",
       "74      inq_last_12m  float64      466285       0   \n",
       "\n",
       "                                         uniqueSample  \n",
       "0   [0, 1, 2, 3, 4, 5, 6, 7, 8, 9, 10, 11, 12, 13,...  \n",
       "1   [1077501, 1077430, 1077175, 1076863, 1075358, ...  \n",
       "2   [1296599, 1314167, 1313524, 1277178, 1311748, ...  \n",
       "3   [5000, 2500, 2400, 10000, 3000, 7000, 5600, 53...  \n",
       "4   [5000, 2500, 2400, 10000, 3000, 7000, 5600, 53...  \n",
       "..                                                ...  \n",
       "70                                              [nan]  \n",
       "71  [nan, 59900.0, 15100.0, 61100.0, 8100.0, 15400...  \n",
       "72                                              [nan]  \n",
       "73                                              [nan]  \n",
       "74                                              [nan]  \n",
       "\n",
       "[75 rows x 5 columns]"
      ]
     },
     "execution_count": 7,
     "metadata": {},
     "output_type": "execute_result"
    }
   ],
   "source": [
    "pd.DataFrame({'Features' : df.columns, 'dataType' : df.dtypes.values, \n",
    "              'nullvalues' : [df[i].isna().sum() for i in df.columns],\n",
    "              'unique' : [df[i].nunique() for i in df.columns],\n",
    "              'uniqueSample' : [list(pd.Series(df[i].unique())) for i in df.columns]}).reset_index(drop = True)"
   ]
  },
  {
   "cell_type": "code",
   "execution_count": 8,
   "id": "c475dbb4-8e81-4f55-b3e4-20beaa9be7a0",
   "metadata": {
    "tags": []
   },
   "outputs": [
    {
     "data": {
      "text/html": [
       "<div>\n",
       "<style scoped>\n",
       "    .dataframe tbody tr th:only-of-type {\n",
       "        vertical-align: middle;\n",
       "    }\n",
       "\n",
       "    .dataframe tbody tr th {\n",
       "        vertical-align: top;\n",
       "    }\n",
       "\n",
       "    .dataframe thead th {\n",
       "        text-align: right;\n",
       "    }\n",
       "</style>\n",
       "<table border=\"1\" class=\"dataframe\">\n",
       "  <thead>\n",
       "    <tr style=\"text-align: right;\">\n",
       "      <th></th>\n",
       "      <th>count</th>\n",
       "      <th>mean</th>\n",
       "      <th>std</th>\n",
       "      <th>min</th>\n",
       "      <th>25%</th>\n",
       "      <th>50%</th>\n",
       "      <th>75%</th>\n",
       "      <th>max</th>\n",
       "    </tr>\n",
       "  </thead>\n",
       "  <tbody>\n",
       "    <tr>\n",
       "      <th>Unnamed: 0</th>\n",
       "      <td>466285.0</td>\n",
       "      <td>2.331420e+05</td>\n",
       "      <td>1.346050e+05</td>\n",
       "      <td>0.00</td>\n",
       "      <td>1.165710e+05</td>\n",
       "      <td>2.331420e+05</td>\n",
       "      <td>3.497130e+05</td>\n",
       "      <td>4.662840e+05</td>\n",
       "    </tr>\n",
       "    <tr>\n",
       "      <th>id</th>\n",
       "      <td>466285.0</td>\n",
       "      <td>1.307973e+07</td>\n",
       "      <td>1.089371e+07</td>\n",
       "      <td>54734.00</td>\n",
       "      <td>3.639987e+06</td>\n",
       "      <td>1.010790e+07</td>\n",
       "      <td>2.073121e+07</td>\n",
       "      <td>3.809811e+07</td>\n",
       "    </tr>\n",
       "    <tr>\n",
       "      <th>member_id</th>\n",
       "      <td>466285.0</td>\n",
       "      <td>1.459766e+07</td>\n",
       "      <td>1.168237e+07</td>\n",
       "      <td>70473.00</td>\n",
       "      <td>4.379705e+06</td>\n",
       "      <td>1.194108e+07</td>\n",
       "      <td>2.300154e+07</td>\n",
       "      <td>4.086083e+07</td>\n",
       "    </tr>\n",
       "    <tr>\n",
       "      <th>loan_amnt</th>\n",
       "      <td>466285.0</td>\n",
       "      <td>1.431728e+04</td>\n",
       "      <td>8.286509e+03</td>\n",
       "      <td>500.00</td>\n",
       "      <td>8.000000e+03</td>\n",
       "      <td>1.200000e+04</td>\n",
       "      <td>2.000000e+04</td>\n",
       "      <td>3.500000e+04</td>\n",
       "    </tr>\n",
       "    <tr>\n",
       "      <th>funded_amnt</th>\n",
       "      <td>466285.0</td>\n",
       "      <td>1.429180e+04</td>\n",
       "      <td>8.274371e+03</td>\n",
       "      <td>500.00</td>\n",
       "      <td>8.000000e+03</td>\n",
       "      <td>1.200000e+04</td>\n",
       "      <td>2.000000e+04</td>\n",
       "      <td>3.500000e+04</td>\n",
       "    </tr>\n",
       "    <tr>\n",
       "      <th>funded_amnt_inv</th>\n",
       "      <td>466285.0</td>\n",
       "      <td>1.422233e+04</td>\n",
       "      <td>8.297638e+03</td>\n",
       "      <td>0.00</td>\n",
       "      <td>8.000000e+03</td>\n",
       "      <td>1.200000e+04</td>\n",
       "      <td>1.995000e+04</td>\n",
       "      <td>3.500000e+04</td>\n",
       "    </tr>\n",
       "    <tr>\n",
       "      <th>int_rate</th>\n",
       "      <td>466285.0</td>\n",
       "      <td>1.382924e+01</td>\n",
       "      <td>4.357587e+00</td>\n",
       "      <td>5.42</td>\n",
       "      <td>1.099000e+01</td>\n",
       "      <td>1.366000e+01</td>\n",
       "      <td>1.649000e+01</td>\n",
       "      <td>2.606000e+01</td>\n",
       "    </tr>\n",
       "    <tr>\n",
       "      <th>installment</th>\n",
       "      <td>466285.0</td>\n",
       "      <td>4.320612e+02</td>\n",
       "      <td>2.434855e+02</td>\n",
       "      <td>15.67</td>\n",
       "      <td>2.566900e+02</td>\n",
       "      <td>3.798900e+02</td>\n",
       "      <td>5.665800e+02</td>\n",
       "      <td>1.409990e+03</td>\n",
       "    </tr>\n",
       "    <tr>\n",
       "      <th>annual_inc</th>\n",
       "      <td>466281.0</td>\n",
       "      <td>7.327738e+04</td>\n",
       "      <td>5.496357e+04</td>\n",
       "      <td>1896.00</td>\n",
       "      <td>4.500000e+04</td>\n",
       "      <td>6.300000e+04</td>\n",
       "      <td>8.896000e+04</td>\n",
       "      <td>7.500000e+06</td>\n",
       "    </tr>\n",
       "    <tr>\n",
       "      <th>dti</th>\n",
       "      <td>466285.0</td>\n",
       "      <td>1.721876e+01</td>\n",
       "      <td>7.851121e+00</td>\n",
       "      <td>0.00</td>\n",
       "      <td>1.136000e+01</td>\n",
       "      <td>1.687000e+01</td>\n",
       "      <td>2.278000e+01</td>\n",
       "      <td>3.999000e+01</td>\n",
       "    </tr>\n",
       "    <tr>\n",
       "      <th>delinq_2yrs</th>\n",
       "      <td>466256.0</td>\n",
       "      <td>2.846784e-01</td>\n",
       "      <td>7.973651e-01</td>\n",
       "      <td>0.00</td>\n",
       "      <td>0.000000e+00</td>\n",
       "      <td>0.000000e+00</td>\n",
       "      <td>0.000000e+00</td>\n",
       "      <td>2.900000e+01</td>\n",
       "    </tr>\n",
       "    <tr>\n",
       "      <th>inq_last_6mths</th>\n",
       "      <td>466256.0</td>\n",
       "      <td>8.047446e-01</td>\n",
       "      <td>1.091598e+00</td>\n",
       "      <td>0.00</td>\n",
       "      <td>0.000000e+00</td>\n",
       "      <td>0.000000e+00</td>\n",
       "      <td>1.000000e+00</td>\n",
       "      <td>3.300000e+01</td>\n",
       "    </tr>\n",
       "    <tr>\n",
       "      <th>mths_since_last_delinq</th>\n",
       "      <td>215934.0</td>\n",
       "      <td>3.410443e+01</td>\n",
       "      <td>2.177849e+01</td>\n",
       "      <td>0.00</td>\n",
       "      <td>1.600000e+01</td>\n",
       "      <td>3.100000e+01</td>\n",
       "      <td>4.900000e+01</td>\n",
       "      <td>1.880000e+02</td>\n",
       "    </tr>\n",
       "    <tr>\n",
       "      <th>mths_since_last_record</th>\n",
       "      <td>62638.0</td>\n",
       "      <td>7.430601e+01</td>\n",
       "      <td>3.035765e+01</td>\n",
       "      <td>0.00</td>\n",
       "      <td>5.300000e+01</td>\n",
       "      <td>7.600000e+01</td>\n",
       "      <td>1.020000e+02</td>\n",
       "      <td>1.290000e+02</td>\n",
       "    </tr>\n",
       "    <tr>\n",
       "      <th>open_acc</th>\n",
       "      <td>466256.0</td>\n",
       "      <td>1.118707e+01</td>\n",
       "      <td>4.987526e+00</td>\n",
       "      <td>0.00</td>\n",
       "      <td>8.000000e+00</td>\n",
       "      <td>1.000000e+01</td>\n",
       "      <td>1.400000e+01</td>\n",
       "      <td>8.400000e+01</td>\n",
       "    </tr>\n",
       "    <tr>\n",
       "      <th>pub_rec</th>\n",
       "      <td>466256.0</td>\n",
       "      <td>1.605642e-01</td>\n",
       "      <td>5.108626e-01</td>\n",
       "      <td>0.00</td>\n",
       "      <td>0.000000e+00</td>\n",
       "      <td>0.000000e+00</td>\n",
       "      <td>0.000000e+00</td>\n",
       "      <td>6.300000e+01</td>\n",
       "    </tr>\n",
       "    <tr>\n",
       "      <th>revol_bal</th>\n",
       "      <td>466285.0</td>\n",
       "      <td>1.623020e+04</td>\n",
       "      <td>2.067625e+04</td>\n",
       "      <td>0.00</td>\n",
       "      <td>6.413000e+03</td>\n",
       "      <td>1.176400e+04</td>\n",
       "      <td>2.033300e+04</td>\n",
       "      <td>2.568995e+06</td>\n",
       "    </tr>\n",
       "    <tr>\n",
       "      <th>revol_util</th>\n",
       "      <td>465945.0</td>\n",
       "      <td>5.617695e+01</td>\n",
       "      <td>2.373263e+01</td>\n",
       "      <td>0.00</td>\n",
       "      <td>3.920000e+01</td>\n",
       "      <td>5.760000e+01</td>\n",
       "      <td>7.470000e+01</td>\n",
       "      <td>8.923000e+02</td>\n",
       "    </tr>\n",
       "    <tr>\n",
       "      <th>total_acc</th>\n",
       "      <td>466256.0</td>\n",
       "      <td>2.506443e+01</td>\n",
       "      <td>1.160014e+01</td>\n",
       "      <td>1.00</td>\n",
       "      <td>1.700000e+01</td>\n",
       "      <td>2.300000e+01</td>\n",
       "      <td>3.200000e+01</td>\n",
       "      <td>1.560000e+02</td>\n",
       "    </tr>\n",
       "    <tr>\n",
       "      <th>out_prncp</th>\n",
       "      <td>466285.0</td>\n",
       "      <td>4.410062e+03</td>\n",
       "      <td>6.355079e+03</td>\n",
       "      <td>0.00</td>\n",
       "      <td>0.000000e+00</td>\n",
       "      <td>4.414700e+02</td>\n",
       "      <td>7.341650e+03</td>\n",
       "      <td>3.216038e+04</td>\n",
       "    </tr>\n",
       "    <tr>\n",
       "      <th>out_prncp_inv</th>\n",
       "      <td>466285.0</td>\n",
       "      <td>4.408452e+03</td>\n",
       "      <td>6.353198e+03</td>\n",
       "      <td>0.00</td>\n",
       "      <td>0.000000e+00</td>\n",
       "      <td>4.413800e+02</td>\n",
       "      <td>7.338390e+03</td>\n",
       "      <td>3.216038e+04</td>\n",
       "    </tr>\n",
       "    <tr>\n",
       "      <th>total_pymnt</th>\n",
       "      <td>466285.0</td>\n",
       "      <td>1.154069e+04</td>\n",
       "      <td>8.265627e+03</td>\n",
       "      <td>0.00</td>\n",
       "      <td>5.552125e+03</td>\n",
       "      <td>9.419251e+03</td>\n",
       "      <td>1.530816e+04</td>\n",
       "      <td>5.777758e+04</td>\n",
       "    </tr>\n",
       "    <tr>\n",
       "      <th>total_pymnt_inv</th>\n",
       "      <td>466285.0</td>\n",
       "      <td>1.146989e+04</td>\n",
       "      <td>8.254158e+03</td>\n",
       "      <td>0.00</td>\n",
       "      <td>5.499250e+03</td>\n",
       "      <td>9.355430e+03</td>\n",
       "      <td>1.523131e+04</td>\n",
       "      <td>5.777758e+04</td>\n",
       "    </tr>\n",
       "    <tr>\n",
       "      <th>total_rec_prncp</th>\n",
       "      <td>466285.0</td>\n",
       "      <td>8.866015e+03</td>\n",
       "      <td>7.031688e+03</td>\n",
       "      <td>0.00</td>\n",
       "      <td>3.708560e+03</td>\n",
       "      <td>6.817760e+03</td>\n",
       "      <td>1.200000e+04</td>\n",
       "      <td>3.500003e+04</td>\n",
       "    </tr>\n",
       "    <tr>\n",
       "      <th>total_rec_int</th>\n",
       "      <td>466285.0</td>\n",
       "      <td>2.588677e+03</td>\n",
       "      <td>2.483810e+03</td>\n",
       "      <td>0.00</td>\n",
       "      <td>9.572800e+02</td>\n",
       "      <td>1.818880e+03</td>\n",
       "      <td>3.304530e+03</td>\n",
       "      <td>2.420562e+04</td>\n",
       "    </tr>\n",
       "    <tr>\n",
       "      <th>total_rec_late_fee</th>\n",
       "      <td>466285.0</td>\n",
       "      <td>6.501292e-01</td>\n",
       "      <td>5.265730e+00</td>\n",
       "      <td>0.00</td>\n",
       "      <td>0.000000e+00</td>\n",
       "      <td>0.000000e+00</td>\n",
       "      <td>0.000000e+00</td>\n",
       "      <td>3.586800e+02</td>\n",
       "    </tr>\n",
       "    <tr>\n",
       "      <th>recoveries</th>\n",
       "      <td>466285.0</td>\n",
       "      <td>8.534421e+01</td>\n",
       "      <td>5.522161e+02</td>\n",
       "      <td>0.00</td>\n",
       "      <td>0.000000e+00</td>\n",
       "      <td>0.000000e+00</td>\n",
       "      <td>0.000000e+00</td>\n",
       "      <td>3.352027e+04</td>\n",
       "    </tr>\n",
       "    <tr>\n",
       "      <th>collection_recovery_fee</th>\n",
       "      <td>466285.0</td>\n",
       "      <td>8.961534e+00</td>\n",
       "      <td>8.549144e+01</td>\n",
       "      <td>0.00</td>\n",
       "      <td>0.000000e+00</td>\n",
       "      <td>0.000000e+00</td>\n",
       "      <td>0.000000e+00</td>\n",
       "      <td>7.002190e+03</td>\n",
       "    </tr>\n",
       "    <tr>\n",
       "      <th>last_pymnt_amnt</th>\n",
       "      <td>466285.0</td>\n",
       "      <td>3.123914e+03</td>\n",
       "      <td>5.554737e+03</td>\n",
       "      <td>0.00</td>\n",
       "      <td>3.126200e+02</td>\n",
       "      <td>5.459600e+02</td>\n",
       "      <td>3.187510e+03</td>\n",
       "      <td>3.623444e+04</td>\n",
       "    </tr>\n",
       "    <tr>\n",
       "      <th>collections_12_mths_ex_med</th>\n",
       "      <td>466140.0</td>\n",
       "      <td>9.085253e-03</td>\n",
       "      <td>1.086484e-01</td>\n",
       "      <td>0.00</td>\n",
       "      <td>0.000000e+00</td>\n",
       "      <td>0.000000e+00</td>\n",
       "      <td>0.000000e+00</td>\n",
       "      <td>2.000000e+01</td>\n",
       "    </tr>\n",
       "    <tr>\n",
       "      <th>mths_since_last_major_derog</th>\n",
       "      <td>98974.0</td>\n",
       "      <td>4.285255e+01</td>\n",
       "      <td>2.166259e+01</td>\n",
       "      <td>0.00</td>\n",
       "      <td>2.600000e+01</td>\n",
       "      <td>4.200000e+01</td>\n",
       "      <td>5.900000e+01</td>\n",
       "      <td>1.880000e+02</td>\n",
       "    </tr>\n",
       "    <tr>\n",
       "      <th>policy_code</th>\n",
       "      <td>466285.0</td>\n",
       "      <td>1.000000e+00</td>\n",
       "      <td>0.000000e+00</td>\n",
       "      <td>1.00</td>\n",
       "      <td>1.000000e+00</td>\n",
       "      <td>1.000000e+00</td>\n",
       "      <td>1.000000e+00</td>\n",
       "      <td>1.000000e+00</td>\n",
       "    </tr>\n",
       "    <tr>\n",
       "      <th>annual_inc_joint</th>\n",
       "      <td>0.0</td>\n",
       "      <td>NaN</td>\n",
       "      <td>NaN</td>\n",
       "      <td>NaN</td>\n",
       "      <td>NaN</td>\n",
       "      <td>NaN</td>\n",
       "      <td>NaN</td>\n",
       "      <td>NaN</td>\n",
       "    </tr>\n",
       "    <tr>\n",
       "      <th>dti_joint</th>\n",
       "      <td>0.0</td>\n",
       "      <td>NaN</td>\n",
       "      <td>NaN</td>\n",
       "      <td>NaN</td>\n",
       "      <td>NaN</td>\n",
       "      <td>NaN</td>\n",
       "      <td>NaN</td>\n",
       "      <td>NaN</td>\n",
       "    </tr>\n",
       "    <tr>\n",
       "      <th>verification_status_joint</th>\n",
       "      <td>0.0</td>\n",
       "      <td>NaN</td>\n",
       "      <td>NaN</td>\n",
       "      <td>NaN</td>\n",
       "      <td>NaN</td>\n",
       "      <td>NaN</td>\n",
       "      <td>NaN</td>\n",
       "      <td>NaN</td>\n",
       "    </tr>\n",
       "    <tr>\n",
       "      <th>acc_now_delinq</th>\n",
       "      <td>466256.0</td>\n",
       "      <td>4.002093e-03</td>\n",
       "      <td>6.863680e-02</td>\n",
       "      <td>0.00</td>\n",
       "      <td>0.000000e+00</td>\n",
       "      <td>0.000000e+00</td>\n",
       "      <td>0.000000e+00</td>\n",
       "      <td>5.000000e+00</td>\n",
       "    </tr>\n",
       "    <tr>\n",
       "      <th>tot_coll_amt</th>\n",
       "      <td>396009.0</td>\n",
       "      <td>1.919135e+02</td>\n",
       "      <td>1.463021e+04</td>\n",
       "      <td>0.00</td>\n",
       "      <td>0.000000e+00</td>\n",
       "      <td>0.000000e+00</td>\n",
       "      <td>0.000000e+00</td>\n",
       "      <td>9.152545e+06</td>\n",
       "    </tr>\n",
       "    <tr>\n",
       "      <th>tot_cur_bal</th>\n",
       "      <td>396009.0</td>\n",
       "      <td>1.388017e+05</td>\n",
       "      <td>1.521147e+05</td>\n",
       "      <td>0.00</td>\n",
       "      <td>2.861800e+04</td>\n",
       "      <td>8.153900e+04</td>\n",
       "      <td>2.089530e+05</td>\n",
       "      <td>8.000078e+06</td>\n",
       "    </tr>\n",
       "    <tr>\n",
       "      <th>open_acc_6m</th>\n",
       "      <td>0.0</td>\n",
       "      <td>NaN</td>\n",
       "      <td>NaN</td>\n",
       "      <td>NaN</td>\n",
       "      <td>NaN</td>\n",
       "      <td>NaN</td>\n",
       "      <td>NaN</td>\n",
       "      <td>NaN</td>\n",
       "    </tr>\n",
       "    <tr>\n",
       "      <th>open_il_6m</th>\n",
       "      <td>0.0</td>\n",
       "      <td>NaN</td>\n",
       "      <td>NaN</td>\n",
       "      <td>NaN</td>\n",
       "      <td>NaN</td>\n",
       "      <td>NaN</td>\n",
       "      <td>NaN</td>\n",
       "      <td>NaN</td>\n",
       "    </tr>\n",
       "    <tr>\n",
       "      <th>open_il_12m</th>\n",
       "      <td>0.0</td>\n",
       "      <td>NaN</td>\n",
       "      <td>NaN</td>\n",
       "      <td>NaN</td>\n",
       "      <td>NaN</td>\n",
       "      <td>NaN</td>\n",
       "      <td>NaN</td>\n",
       "      <td>NaN</td>\n",
       "    </tr>\n",
       "    <tr>\n",
       "      <th>open_il_24m</th>\n",
       "      <td>0.0</td>\n",
       "      <td>NaN</td>\n",
       "      <td>NaN</td>\n",
       "      <td>NaN</td>\n",
       "      <td>NaN</td>\n",
       "      <td>NaN</td>\n",
       "      <td>NaN</td>\n",
       "      <td>NaN</td>\n",
       "    </tr>\n",
       "    <tr>\n",
       "      <th>mths_since_rcnt_il</th>\n",
       "      <td>0.0</td>\n",
       "      <td>NaN</td>\n",
       "      <td>NaN</td>\n",
       "      <td>NaN</td>\n",
       "      <td>NaN</td>\n",
       "      <td>NaN</td>\n",
       "      <td>NaN</td>\n",
       "      <td>NaN</td>\n",
       "    </tr>\n",
       "    <tr>\n",
       "      <th>total_bal_il</th>\n",
       "      <td>0.0</td>\n",
       "      <td>NaN</td>\n",
       "      <td>NaN</td>\n",
       "      <td>NaN</td>\n",
       "      <td>NaN</td>\n",
       "      <td>NaN</td>\n",
       "      <td>NaN</td>\n",
       "      <td>NaN</td>\n",
       "    </tr>\n",
       "    <tr>\n",
       "      <th>il_util</th>\n",
       "      <td>0.0</td>\n",
       "      <td>NaN</td>\n",
       "      <td>NaN</td>\n",
       "      <td>NaN</td>\n",
       "      <td>NaN</td>\n",
       "      <td>NaN</td>\n",
       "      <td>NaN</td>\n",
       "      <td>NaN</td>\n",
       "    </tr>\n",
       "    <tr>\n",
       "      <th>open_rv_12m</th>\n",
       "      <td>0.0</td>\n",
       "      <td>NaN</td>\n",
       "      <td>NaN</td>\n",
       "      <td>NaN</td>\n",
       "      <td>NaN</td>\n",
       "      <td>NaN</td>\n",
       "      <td>NaN</td>\n",
       "      <td>NaN</td>\n",
       "    </tr>\n",
       "    <tr>\n",
       "      <th>open_rv_24m</th>\n",
       "      <td>0.0</td>\n",
       "      <td>NaN</td>\n",
       "      <td>NaN</td>\n",
       "      <td>NaN</td>\n",
       "      <td>NaN</td>\n",
       "      <td>NaN</td>\n",
       "      <td>NaN</td>\n",
       "      <td>NaN</td>\n",
       "    </tr>\n",
       "    <tr>\n",
       "      <th>max_bal_bc</th>\n",
       "      <td>0.0</td>\n",
       "      <td>NaN</td>\n",
       "      <td>NaN</td>\n",
       "      <td>NaN</td>\n",
       "      <td>NaN</td>\n",
       "      <td>NaN</td>\n",
       "      <td>NaN</td>\n",
       "      <td>NaN</td>\n",
       "    </tr>\n",
       "    <tr>\n",
       "      <th>all_util</th>\n",
       "      <td>0.0</td>\n",
       "      <td>NaN</td>\n",
       "      <td>NaN</td>\n",
       "      <td>NaN</td>\n",
       "      <td>NaN</td>\n",
       "      <td>NaN</td>\n",
       "      <td>NaN</td>\n",
       "      <td>NaN</td>\n",
       "    </tr>\n",
       "    <tr>\n",
       "      <th>total_rev_hi_lim</th>\n",
       "      <td>396009.0</td>\n",
       "      <td>3.037909e+04</td>\n",
       "      <td>3.724713e+04</td>\n",
       "      <td>0.00</td>\n",
       "      <td>1.350000e+04</td>\n",
       "      <td>2.280000e+04</td>\n",
       "      <td>3.790000e+04</td>\n",
       "      <td>9.999999e+06</td>\n",
       "    </tr>\n",
       "    <tr>\n",
       "      <th>inq_fi</th>\n",
       "      <td>0.0</td>\n",
       "      <td>NaN</td>\n",
       "      <td>NaN</td>\n",
       "      <td>NaN</td>\n",
       "      <td>NaN</td>\n",
       "      <td>NaN</td>\n",
       "      <td>NaN</td>\n",
       "      <td>NaN</td>\n",
       "    </tr>\n",
       "    <tr>\n",
       "      <th>total_cu_tl</th>\n",
       "      <td>0.0</td>\n",
       "      <td>NaN</td>\n",
       "      <td>NaN</td>\n",
       "      <td>NaN</td>\n",
       "      <td>NaN</td>\n",
       "      <td>NaN</td>\n",
       "      <td>NaN</td>\n",
       "      <td>NaN</td>\n",
       "    </tr>\n",
       "    <tr>\n",
       "      <th>inq_last_12m</th>\n",
       "      <td>0.0</td>\n",
       "      <td>NaN</td>\n",
       "      <td>NaN</td>\n",
       "      <td>NaN</td>\n",
       "      <td>NaN</td>\n",
       "      <td>NaN</td>\n",
       "      <td>NaN</td>\n",
       "      <td>NaN</td>\n",
       "    </tr>\n",
       "  </tbody>\n",
       "</table>\n",
       "</div>"
      ],
      "text/plain": [
       "                                count          mean           std       min  \\\n",
       "Unnamed: 0                   466285.0  2.331420e+05  1.346050e+05      0.00   \n",
       "id                           466285.0  1.307973e+07  1.089371e+07  54734.00   \n",
       "member_id                    466285.0  1.459766e+07  1.168237e+07  70473.00   \n",
       "loan_amnt                    466285.0  1.431728e+04  8.286509e+03    500.00   \n",
       "funded_amnt                  466285.0  1.429180e+04  8.274371e+03    500.00   \n",
       "funded_amnt_inv              466285.0  1.422233e+04  8.297638e+03      0.00   \n",
       "int_rate                     466285.0  1.382924e+01  4.357587e+00      5.42   \n",
       "installment                  466285.0  4.320612e+02  2.434855e+02     15.67   \n",
       "annual_inc                   466281.0  7.327738e+04  5.496357e+04   1896.00   \n",
       "dti                          466285.0  1.721876e+01  7.851121e+00      0.00   \n",
       "delinq_2yrs                  466256.0  2.846784e-01  7.973651e-01      0.00   \n",
       "inq_last_6mths               466256.0  8.047446e-01  1.091598e+00      0.00   \n",
       "mths_since_last_delinq       215934.0  3.410443e+01  2.177849e+01      0.00   \n",
       "mths_since_last_record        62638.0  7.430601e+01  3.035765e+01      0.00   \n",
       "open_acc                     466256.0  1.118707e+01  4.987526e+00      0.00   \n",
       "pub_rec                      466256.0  1.605642e-01  5.108626e-01      0.00   \n",
       "revol_bal                    466285.0  1.623020e+04  2.067625e+04      0.00   \n",
       "revol_util                   465945.0  5.617695e+01  2.373263e+01      0.00   \n",
       "total_acc                    466256.0  2.506443e+01  1.160014e+01      1.00   \n",
       "out_prncp                    466285.0  4.410062e+03  6.355079e+03      0.00   \n",
       "out_prncp_inv                466285.0  4.408452e+03  6.353198e+03      0.00   \n",
       "total_pymnt                  466285.0  1.154069e+04  8.265627e+03      0.00   \n",
       "total_pymnt_inv              466285.0  1.146989e+04  8.254158e+03      0.00   \n",
       "total_rec_prncp              466285.0  8.866015e+03  7.031688e+03      0.00   \n",
       "total_rec_int                466285.0  2.588677e+03  2.483810e+03      0.00   \n",
       "total_rec_late_fee           466285.0  6.501292e-01  5.265730e+00      0.00   \n",
       "recoveries                   466285.0  8.534421e+01  5.522161e+02      0.00   \n",
       "collection_recovery_fee      466285.0  8.961534e+00  8.549144e+01      0.00   \n",
       "last_pymnt_amnt              466285.0  3.123914e+03  5.554737e+03      0.00   \n",
       "collections_12_mths_ex_med   466140.0  9.085253e-03  1.086484e-01      0.00   \n",
       "mths_since_last_major_derog   98974.0  4.285255e+01  2.166259e+01      0.00   \n",
       "policy_code                  466285.0  1.000000e+00  0.000000e+00      1.00   \n",
       "annual_inc_joint                  0.0           NaN           NaN       NaN   \n",
       "dti_joint                         0.0           NaN           NaN       NaN   \n",
       "verification_status_joint         0.0           NaN           NaN       NaN   \n",
       "acc_now_delinq               466256.0  4.002093e-03  6.863680e-02      0.00   \n",
       "tot_coll_amt                 396009.0  1.919135e+02  1.463021e+04      0.00   \n",
       "tot_cur_bal                  396009.0  1.388017e+05  1.521147e+05      0.00   \n",
       "open_acc_6m                       0.0           NaN           NaN       NaN   \n",
       "open_il_6m                        0.0           NaN           NaN       NaN   \n",
       "open_il_12m                       0.0           NaN           NaN       NaN   \n",
       "open_il_24m                       0.0           NaN           NaN       NaN   \n",
       "mths_since_rcnt_il                0.0           NaN           NaN       NaN   \n",
       "total_bal_il                      0.0           NaN           NaN       NaN   \n",
       "il_util                           0.0           NaN           NaN       NaN   \n",
       "open_rv_12m                       0.0           NaN           NaN       NaN   \n",
       "open_rv_24m                       0.0           NaN           NaN       NaN   \n",
       "max_bal_bc                        0.0           NaN           NaN       NaN   \n",
       "all_util                          0.0           NaN           NaN       NaN   \n",
       "total_rev_hi_lim             396009.0  3.037909e+04  3.724713e+04      0.00   \n",
       "inq_fi                            0.0           NaN           NaN       NaN   \n",
       "total_cu_tl                       0.0           NaN           NaN       NaN   \n",
       "inq_last_12m                      0.0           NaN           NaN       NaN   \n",
       "\n",
       "                                      25%           50%           75%  \\\n",
       "Unnamed: 0                   1.165710e+05  2.331420e+05  3.497130e+05   \n",
       "id                           3.639987e+06  1.010790e+07  2.073121e+07   \n",
       "member_id                    4.379705e+06  1.194108e+07  2.300154e+07   \n",
       "loan_amnt                    8.000000e+03  1.200000e+04  2.000000e+04   \n",
       "funded_amnt                  8.000000e+03  1.200000e+04  2.000000e+04   \n",
       "funded_amnt_inv              8.000000e+03  1.200000e+04  1.995000e+04   \n",
       "int_rate                     1.099000e+01  1.366000e+01  1.649000e+01   \n",
       "installment                  2.566900e+02  3.798900e+02  5.665800e+02   \n",
       "annual_inc                   4.500000e+04  6.300000e+04  8.896000e+04   \n",
       "dti                          1.136000e+01  1.687000e+01  2.278000e+01   \n",
       "delinq_2yrs                  0.000000e+00  0.000000e+00  0.000000e+00   \n",
       "inq_last_6mths               0.000000e+00  0.000000e+00  1.000000e+00   \n",
       "mths_since_last_delinq       1.600000e+01  3.100000e+01  4.900000e+01   \n",
       "mths_since_last_record       5.300000e+01  7.600000e+01  1.020000e+02   \n",
       "open_acc                     8.000000e+00  1.000000e+01  1.400000e+01   \n",
       "pub_rec                      0.000000e+00  0.000000e+00  0.000000e+00   \n",
       "revol_bal                    6.413000e+03  1.176400e+04  2.033300e+04   \n",
       "revol_util                   3.920000e+01  5.760000e+01  7.470000e+01   \n",
       "total_acc                    1.700000e+01  2.300000e+01  3.200000e+01   \n",
       "out_prncp                    0.000000e+00  4.414700e+02  7.341650e+03   \n",
       "out_prncp_inv                0.000000e+00  4.413800e+02  7.338390e+03   \n",
       "total_pymnt                  5.552125e+03  9.419251e+03  1.530816e+04   \n",
       "total_pymnt_inv              5.499250e+03  9.355430e+03  1.523131e+04   \n",
       "total_rec_prncp              3.708560e+03  6.817760e+03  1.200000e+04   \n",
       "total_rec_int                9.572800e+02  1.818880e+03  3.304530e+03   \n",
       "total_rec_late_fee           0.000000e+00  0.000000e+00  0.000000e+00   \n",
       "recoveries                   0.000000e+00  0.000000e+00  0.000000e+00   \n",
       "collection_recovery_fee      0.000000e+00  0.000000e+00  0.000000e+00   \n",
       "last_pymnt_amnt              3.126200e+02  5.459600e+02  3.187510e+03   \n",
       "collections_12_mths_ex_med   0.000000e+00  0.000000e+00  0.000000e+00   \n",
       "mths_since_last_major_derog  2.600000e+01  4.200000e+01  5.900000e+01   \n",
       "policy_code                  1.000000e+00  1.000000e+00  1.000000e+00   \n",
       "annual_inc_joint                      NaN           NaN           NaN   \n",
       "dti_joint                             NaN           NaN           NaN   \n",
       "verification_status_joint             NaN           NaN           NaN   \n",
       "acc_now_delinq               0.000000e+00  0.000000e+00  0.000000e+00   \n",
       "tot_coll_amt                 0.000000e+00  0.000000e+00  0.000000e+00   \n",
       "tot_cur_bal                  2.861800e+04  8.153900e+04  2.089530e+05   \n",
       "open_acc_6m                           NaN           NaN           NaN   \n",
       "open_il_6m                            NaN           NaN           NaN   \n",
       "open_il_12m                           NaN           NaN           NaN   \n",
       "open_il_24m                           NaN           NaN           NaN   \n",
       "mths_since_rcnt_il                    NaN           NaN           NaN   \n",
       "total_bal_il                          NaN           NaN           NaN   \n",
       "il_util                               NaN           NaN           NaN   \n",
       "open_rv_12m                           NaN           NaN           NaN   \n",
       "open_rv_24m                           NaN           NaN           NaN   \n",
       "max_bal_bc                            NaN           NaN           NaN   \n",
       "all_util                              NaN           NaN           NaN   \n",
       "total_rev_hi_lim             1.350000e+04  2.280000e+04  3.790000e+04   \n",
       "inq_fi                                NaN           NaN           NaN   \n",
       "total_cu_tl                           NaN           NaN           NaN   \n",
       "inq_last_12m                          NaN           NaN           NaN   \n",
       "\n",
       "                                      max  \n",
       "Unnamed: 0                   4.662840e+05  \n",
       "id                           3.809811e+07  \n",
       "member_id                    4.086083e+07  \n",
       "loan_amnt                    3.500000e+04  \n",
       "funded_amnt                  3.500000e+04  \n",
       "funded_amnt_inv              3.500000e+04  \n",
       "int_rate                     2.606000e+01  \n",
       "installment                  1.409990e+03  \n",
       "annual_inc                   7.500000e+06  \n",
       "dti                          3.999000e+01  \n",
       "delinq_2yrs                  2.900000e+01  \n",
       "inq_last_6mths               3.300000e+01  \n",
       "mths_since_last_delinq       1.880000e+02  \n",
       "mths_since_last_record       1.290000e+02  \n",
       "open_acc                     8.400000e+01  \n",
       "pub_rec                      6.300000e+01  \n",
       "revol_bal                    2.568995e+06  \n",
       "revol_util                   8.923000e+02  \n",
       "total_acc                    1.560000e+02  \n",
       "out_prncp                    3.216038e+04  \n",
       "out_prncp_inv                3.216038e+04  \n",
       "total_pymnt                  5.777758e+04  \n",
       "total_pymnt_inv              5.777758e+04  \n",
       "total_rec_prncp              3.500003e+04  \n",
       "total_rec_int                2.420562e+04  \n",
       "total_rec_late_fee           3.586800e+02  \n",
       "recoveries                   3.352027e+04  \n",
       "collection_recovery_fee      7.002190e+03  \n",
       "last_pymnt_amnt              3.623444e+04  \n",
       "collections_12_mths_ex_med   2.000000e+01  \n",
       "mths_since_last_major_derog  1.880000e+02  \n",
       "policy_code                  1.000000e+00  \n",
       "annual_inc_joint                      NaN  \n",
       "dti_joint                             NaN  \n",
       "verification_status_joint             NaN  \n",
       "acc_now_delinq               5.000000e+00  \n",
       "tot_coll_amt                 9.152545e+06  \n",
       "tot_cur_bal                  8.000078e+06  \n",
       "open_acc_6m                           NaN  \n",
       "open_il_6m                            NaN  \n",
       "open_il_12m                           NaN  \n",
       "open_il_24m                           NaN  \n",
       "mths_since_rcnt_il                    NaN  \n",
       "total_bal_il                          NaN  \n",
       "il_util                               NaN  \n",
       "open_rv_12m                           NaN  \n",
       "open_rv_24m                           NaN  \n",
       "max_bal_bc                            NaN  \n",
       "all_util                              NaN  \n",
       "total_rev_hi_lim             9.999999e+06  \n",
       "inq_fi                                NaN  \n",
       "total_cu_tl                           NaN  \n",
       "inq_last_12m                          NaN  "
      ]
     },
     "execution_count": 8,
     "metadata": {},
     "output_type": "execute_result"
    }
   ],
   "source": [
    "df.describe().T"
   ]
  },
  {
   "cell_type": "code",
   "execution_count": 9,
   "id": "8a220731-b813-42b1-9da6-dbe25a55b376",
   "metadata": {
    "tags": []
   },
   "outputs": [
    {
     "data": {
      "text/html": [
       "<div>\n",
       "<style scoped>\n",
       "    .dataframe tbody tr th:only-of-type {\n",
       "        vertical-align: middle;\n",
       "    }\n",
       "\n",
       "    .dataframe tbody tr th {\n",
       "        vertical-align: top;\n",
       "    }\n",
       "\n",
       "    .dataframe thead th {\n",
       "        text-align: right;\n",
       "    }\n",
       "</style>\n",
       "<table border=\"1\" class=\"dataframe\">\n",
       "  <thead>\n",
       "    <tr style=\"text-align: right;\">\n",
       "      <th></th>\n",
       "      <th>count</th>\n",
       "      <th>unique</th>\n",
       "      <th>top</th>\n",
       "      <th>freq</th>\n",
       "    </tr>\n",
       "  </thead>\n",
       "  <tbody>\n",
       "    <tr>\n",
       "      <th>term</th>\n",
       "      <td>466285</td>\n",
       "      <td>2</td>\n",
       "      <td>36 months</td>\n",
       "      <td>337953</td>\n",
       "    </tr>\n",
       "    <tr>\n",
       "      <th>grade</th>\n",
       "      <td>466285</td>\n",
       "      <td>7</td>\n",
       "      <td>B</td>\n",
       "      <td>136929</td>\n",
       "    </tr>\n",
       "    <tr>\n",
       "      <th>sub_grade</th>\n",
       "      <td>466285</td>\n",
       "      <td>35</td>\n",
       "      <td>B3</td>\n",
       "      <td>31686</td>\n",
       "    </tr>\n",
       "    <tr>\n",
       "      <th>emp_title</th>\n",
       "      <td>438697</td>\n",
       "      <td>205475</td>\n",
       "      <td>Teacher</td>\n",
       "      <td>5399</td>\n",
       "    </tr>\n",
       "    <tr>\n",
       "      <th>emp_length</th>\n",
       "      <td>445277</td>\n",
       "      <td>11</td>\n",
       "      <td>10+ years</td>\n",
       "      <td>150049</td>\n",
       "    </tr>\n",
       "    <tr>\n",
       "      <th>home_ownership</th>\n",
       "      <td>466285</td>\n",
       "      <td>6</td>\n",
       "      <td>MORTGAGE</td>\n",
       "      <td>235875</td>\n",
       "    </tr>\n",
       "    <tr>\n",
       "      <th>verification_status</th>\n",
       "      <td>466285</td>\n",
       "      <td>3</td>\n",
       "      <td>Verified</td>\n",
       "      <td>168055</td>\n",
       "    </tr>\n",
       "    <tr>\n",
       "      <th>issue_d</th>\n",
       "      <td>466285</td>\n",
       "      <td>91</td>\n",
       "      <td>Oct-14</td>\n",
       "      <td>38782</td>\n",
       "    </tr>\n",
       "    <tr>\n",
       "      <th>loan_status</th>\n",
       "      <td>466285</td>\n",
       "      <td>9</td>\n",
       "      <td>Current</td>\n",
       "      <td>224226</td>\n",
       "    </tr>\n",
       "    <tr>\n",
       "      <th>pymnt_plan</th>\n",
       "      <td>466285</td>\n",
       "      <td>2</td>\n",
       "      <td>n</td>\n",
       "      <td>466276</td>\n",
       "    </tr>\n",
       "    <tr>\n",
       "      <th>url</th>\n",
       "      <td>466285</td>\n",
       "      <td>466285</td>\n",
       "      <td>https://www.lendingclub.com/browse/loanDetail....</td>\n",
       "      <td>1</td>\n",
       "    </tr>\n",
       "    <tr>\n",
       "      <th>desc</th>\n",
       "      <td>125983</td>\n",
       "      <td>124436</td>\n",
       "      <td></td>\n",
       "      <td>234</td>\n",
       "    </tr>\n",
       "    <tr>\n",
       "      <th>purpose</th>\n",
       "      <td>466285</td>\n",
       "      <td>14</td>\n",
       "      <td>debt_consolidation</td>\n",
       "      <td>274195</td>\n",
       "    </tr>\n",
       "    <tr>\n",
       "      <th>title</th>\n",
       "      <td>466265</td>\n",
       "      <td>63099</td>\n",
       "      <td>Debt consolidation</td>\n",
       "      <td>164075</td>\n",
       "    </tr>\n",
       "    <tr>\n",
       "      <th>zip_code</th>\n",
       "      <td>466285</td>\n",
       "      <td>888</td>\n",
       "      <td>945xx</td>\n",
       "      <td>5304</td>\n",
       "    </tr>\n",
       "    <tr>\n",
       "      <th>addr_state</th>\n",
       "      <td>466285</td>\n",
       "      <td>50</td>\n",
       "      <td>CA</td>\n",
       "      <td>71450</td>\n",
       "    </tr>\n",
       "    <tr>\n",
       "      <th>earliest_cr_line</th>\n",
       "      <td>466256</td>\n",
       "      <td>664</td>\n",
       "      <td>Oct-00</td>\n",
       "      <td>3674</td>\n",
       "    </tr>\n",
       "    <tr>\n",
       "      <th>initial_list_status</th>\n",
       "      <td>466285</td>\n",
       "      <td>2</td>\n",
       "      <td>f</td>\n",
       "      <td>303005</td>\n",
       "    </tr>\n",
       "    <tr>\n",
       "      <th>last_pymnt_d</th>\n",
       "      <td>465909</td>\n",
       "      <td>98</td>\n",
       "      <td>Jan-16</td>\n",
       "      <td>179620</td>\n",
       "    </tr>\n",
       "    <tr>\n",
       "      <th>next_pymnt_d</th>\n",
       "      <td>239071</td>\n",
       "      <td>100</td>\n",
       "      <td>Feb-16</td>\n",
       "      <td>208393</td>\n",
       "    </tr>\n",
       "    <tr>\n",
       "      <th>last_credit_pull_d</th>\n",
       "      <td>466243</td>\n",
       "      <td>103</td>\n",
       "      <td>Jan-16</td>\n",
       "      <td>327699</td>\n",
       "    </tr>\n",
       "    <tr>\n",
       "      <th>application_type</th>\n",
       "      <td>466285</td>\n",
       "      <td>1</td>\n",
       "      <td>INDIVIDUAL</td>\n",
       "      <td>466285</td>\n",
       "    </tr>\n",
       "  </tbody>\n",
       "</table>\n",
       "</div>"
      ],
      "text/plain": [
       "                      count  unique  \\\n",
       "term                 466285       2   \n",
       "grade                466285       7   \n",
       "sub_grade            466285      35   \n",
       "emp_title            438697  205475   \n",
       "emp_length           445277      11   \n",
       "home_ownership       466285       6   \n",
       "verification_status  466285       3   \n",
       "issue_d              466285      91   \n",
       "loan_status          466285       9   \n",
       "pymnt_plan           466285       2   \n",
       "url                  466285  466285   \n",
       "desc                 125983  124436   \n",
       "purpose              466285      14   \n",
       "title                466265   63099   \n",
       "zip_code             466285     888   \n",
       "addr_state           466285      50   \n",
       "earliest_cr_line     466256     664   \n",
       "initial_list_status  466285       2   \n",
       "last_pymnt_d         465909      98   \n",
       "next_pymnt_d         239071     100   \n",
       "last_credit_pull_d   466243     103   \n",
       "application_type     466285       1   \n",
       "\n",
       "                                                                   top    freq  \n",
       "term                                                         36 months  337953  \n",
       "grade                                                                B  136929  \n",
       "sub_grade                                                           B3   31686  \n",
       "emp_title                                                      Teacher    5399  \n",
       "emp_length                                                   10+ years  150049  \n",
       "home_ownership                                                MORTGAGE  235875  \n",
       "verification_status                                           Verified  168055  \n",
       "issue_d                                                         Oct-14   38782  \n",
       "loan_status                                                    Current  224226  \n",
       "pymnt_plan                                                           n  466276  \n",
       "url                  https://www.lendingclub.com/browse/loanDetail....       1  \n",
       "desc                                                                       234  \n",
       "purpose                                             debt_consolidation  274195  \n",
       "title                                               Debt consolidation  164075  \n",
       "zip_code                                                         945xx    5304  \n",
       "addr_state                                                          CA   71450  \n",
       "earliest_cr_line                                                Oct-00    3674  \n",
       "initial_list_status                                                  f  303005  \n",
       "last_pymnt_d                                                    Jan-16  179620  \n",
       "next_pymnt_d                                                    Feb-16  208393  \n",
       "last_credit_pull_d                                              Jan-16  327699  \n",
       "application_type                                            INDIVIDUAL  466285  "
      ]
     },
     "execution_count": 9,
     "metadata": {},
     "output_type": "execute_result"
    }
   ],
   "source": [
    "df.describe(include = object).T"
   ]
  },
  {
   "cell_type": "markdown",
   "id": "ed1a70d5-ecc4-4617-8918-b7cdb9448f43",
   "metadata": {
    "jp-MarkdownHeadingCollapsed": true,
    "tags": []
   },
   "source": [
    "## PREPROCESS"
   ]
  },
  {
   "cell_type": "markdown",
   "id": "d34bcc37-edb3-46d1-88c8-71823a06d986",
   "metadata": {},
   "source": [
    "Hapus kolom yang semua datanya adalah null, tidak unique, dan yang tidak dibutuhkan dalam model."
   ]
  },
  {
   "cell_type": "code",
   "execution_count": 10,
   "id": "ebd22506-f22b-4dc5-be0f-e7f774cee367",
   "metadata": {},
   "outputs": [],
   "source": [
    "df.dropna(axis=1, how='all', inplace=True)"
   ]
  },
  {
   "cell_type": "code",
   "execution_count": 11,
   "id": "3a3d1c37-3414-44bc-a82a-028591551baf",
   "metadata": {},
   "outputs": [
    {
     "data": {
      "text/plain": [
       "(466285, 58)"
      ]
     },
     "execution_count": 11,
     "metadata": {},
     "output_type": "execute_result"
    }
   ],
   "source": [
    "df.shape"
   ]
  },
  {
   "cell_type": "code",
   "execution_count": 12,
   "id": "031cc439-1541-4b13-8a3a-1be6ce4918d4",
   "metadata": {},
   "outputs": [],
   "source": [
    "leakage_col = ['issue_d', 'pymnt_plan', 'out_prncp', 'out_prncp_inv', 'total_pymnt', 'total_pymnt_inv', \n",
    "                'total_rec_prncp', 'total_rec_int', 'recoveries', 'collection_recovery_fee', \n",
    "                'last_pymnt_d', 'last_pymnt_amnt']\n",
    "df.drop(columns=leakage_col, axis=1, inplace=True)"
   ]
  },
  {
   "cell_type": "markdown",
   "id": "1b578074-3721-4fb5-9215-f9c82c6ab389",
   "metadata": {},
   "source": [
    "leakage_col merupakan kolom dengan data yang tidak kita butuhkan untuk dalam data training. Kita tidak akan memperoleh data ini sebelum peminjam melakukan pinjaman. Contohnya pada kolom 'out_prncp'atau pokok pinjaman, data ini akan berisi nol jika peminjam sudah menyelesaikan seluruh pinjaman, dan akan bernilai (selain nol) pada saat pinjaman dilakukan."
   ]
  },
  {
   "cell_type": "code",
   "execution_count": 13,
   "id": "e8e5c700-7610-490f-9e47-4d252f0012e9",
   "metadata": {},
   "outputs": [],
   "source": [
    "df.drop(columns = ['policy_code', 'application_type', 'Unnamed: 0', \n",
    "                   'id', 'member_id', 'title', 'url', \n",
    "                   'zip_code', 'desc', 'sub_grade', 'mths_since_last_delinq',\n",
    "                  'mths_since_last_record', 'next_pymnt_d', \n",
    "                   'mths_since_last_major_derog'], axis=1, inplace = True) # menghapus kolom yang datanya tidak dibutuhkan"
   ]
  },
  {
   "cell_type": "code",
   "execution_count": 14,
   "id": "1167bd09-8f2d-4820-afb3-37d89293533a",
   "metadata": {
    "tags": []
   },
   "outputs": [
    {
     "name": "stdout",
     "output_type": "stream",
     "text": [
      "<class 'pandas.core.frame.DataFrame'>\n",
      "RangeIndex: 466285 entries, 0 to 466284\n",
      "Data columns (total 32 columns):\n",
      " #   Column                      Non-Null Count   Dtype  \n",
      "---  ------                      --------------   -----  \n",
      " 0   loan_amnt                   466285 non-null  int64  \n",
      " 1   funded_amnt                 466285 non-null  int64  \n",
      " 2   funded_amnt_inv             466285 non-null  float64\n",
      " 3   term                        466285 non-null  object \n",
      " 4   int_rate                    466285 non-null  float64\n",
      " 5   installment                 466285 non-null  float64\n",
      " 6   grade                       466285 non-null  object \n",
      " 7   emp_title                   438697 non-null  object \n",
      " 8   emp_length                  445277 non-null  object \n",
      " 9   home_ownership              466285 non-null  object \n",
      " 10  annual_inc                  466281 non-null  float64\n",
      " 11  verification_status         466285 non-null  object \n",
      " 12  loan_status                 466285 non-null  object \n",
      " 13  purpose                     466285 non-null  object \n",
      " 14  addr_state                  466285 non-null  object \n",
      " 15  dti                         466285 non-null  float64\n",
      " 16  delinq_2yrs                 466256 non-null  float64\n",
      " 17  earliest_cr_line            466256 non-null  object \n",
      " 18  inq_last_6mths              466256 non-null  float64\n",
      " 19  open_acc                    466256 non-null  float64\n",
      " 20  pub_rec                     466256 non-null  float64\n",
      " 21  revol_bal                   466285 non-null  int64  \n",
      " 22  revol_util                  465945 non-null  float64\n",
      " 23  total_acc                   466256 non-null  float64\n",
      " 24  initial_list_status         466285 non-null  object \n",
      " 25  total_rec_late_fee          466285 non-null  float64\n",
      " 26  last_credit_pull_d          466243 non-null  object \n",
      " 27  collections_12_mths_ex_med  466140 non-null  float64\n",
      " 28  acc_now_delinq              466256 non-null  float64\n",
      " 29  tot_coll_amt                396009 non-null  float64\n",
      " 30  tot_cur_bal                 396009 non-null  float64\n",
      " 31  total_rev_hi_lim            396009 non-null  float64\n",
      "dtypes: float64(17), int64(3), object(12)\n",
      "memory usage: 113.8+ MB\n"
     ]
    }
   ],
   "source": [
    "df.info()"
   ]
  },
  {
   "cell_type": "markdown",
   "id": "191e5cb8-0116-424f-b182-43b918d231ac",
   "metadata": {},
   "source": [
    "1. term"
   ]
  },
  {
   "cell_type": "code",
   "execution_count": 15,
   "id": "4350df25-6dd8-41bc-9f8f-b9f5e7f424b6",
   "metadata": {},
   "outputs": [
    {
     "data": {
      "text/plain": [
       "0     36 months\n",
       "1     60 months\n",
       "2     36 months\n",
       "3     36 months\n",
       "4     60 months\n",
       "Name: term, dtype: object"
      ]
     },
     "execution_count": 15,
     "metadata": {},
     "output_type": "execute_result"
    }
   ],
   "source": [
    "df['term'].head()"
   ]
  },
  {
   "cell_type": "code",
   "execution_count": 16,
   "id": "a35f758f-c346-4550-aeef-11adf8e06af5",
   "metadata": {
    "tags": []
   },
   "outputs": [],
   "source": [
    "df['term'] = pd.to_numeric(df['term'].str.replace(' months', ''))"
   ]
  },
  {
   "cell_type": "code",
   "execution_count": 17,
   "id": "0d175ea1-de76-4af7-8e9a-8e22b93d92cf",
   "metadata": {},
   "outputs": [
    {
     "data": {
      "text/plain": [
       "array([36, 60], dtype=int64)"
      ]
     },
     "execution_count": 17,
     "metadata": {},
     "output_type": "execute_result"
    }
   ],
   "source": [
    "df['term'].unique()"
   ]
  },
  {
   "cell_type": "markdown",
   "id": "99f26977-7901-42e5-9c39-ab586c7e4b9e",
   "metadata": {},
   "source": [
    "2. emp_length"
   ]
  },
  {
   "cell_type": "code",
   "execution_count": 18,
   "id": "4f798fcd-4bbc-4eb2-a443-86c5261d31d7",
   "metadata": {},
   "outputs": [
    {
     "data": {
      "text/plain": [
       "array(['10+ years', '< 1 year', '1 year', '3 years', '8 years', '9 years',\n",
       "       '4 years', '5 years', '6 years', '2 years', '7 years', nan],\n",
       "      dtype=object)"
      ]
     },
     "execution_count": 18,
     "metadata": {},
     "output_type": "execute_result"
    }
   ],
   "source": [
    "df['emp_length'].unique()"
   ]
  },
  {
   "cell_type": "code",
   "execution_count": 19,
   "id": "df740fbe-abfa-4d4e-bde5-1969e1785702",
   "metadata": {},
   "outputs": [],
   "source": [
    "emp_map = {\n",
    "    '< 1 year' : '0',\n",
    "    '1 year' : '1',\n",
    "    '2 years' : '2',\n",
    "    '3 years' : '3',\n",
    "    '4 years' : '4',\n",
    "    '5 years' : '5',\n",
    "    '6 years' : '6',\n",
    "    '7 years' : '7',\n",
    "    '8 years' : '8',\n",
    "    '9 years' : '9',\n",
    "    '10+ years' : '10'\n",
    "}"
   ]
  },
  {
   "cell_type": "code",
   "execution_count": 20,
   "id": "b3963242-6175-44c3-a4a3-488e32a82fb2",
   "metadata": {},
   "outputs": [
    {
     "data": {
      "text/plain": [
       "array([10,  0,  1,  3,  8,  9,  4,  5,  6,  2,  7])"
      ]
     },
     "execution_count": 20,
     "metadata": {},
     "output_type": "execute_result"
    }
   ],
   "source": [
    "df['emp_length'] = df['emp_length'].map(emp_map).fillna('0').astype(int)\n",
    "df['emp_length'].unique()"
   ]
  },
  {
   "cell_type": "markdown",
   "id": "0463949a-5b3a-40a6-bdbc-43be92c1aa9f",
   "metadata": {},
   "source": [
    "3. earliest_cr_line"
   ]
  },
  {
   "cell_type": "code",
   "execution_count": 21,
   "id": "29d60552-f541-4965-b904-f3ce753ba768",
   "metadata": {
    "tags": []
   },
   "outputs": [
    {
     "data": {
      "text/plain": [
       "0    Jan-85\n",
       "1    Apr-99\n",
       "2    Nov-01\n",
       "3    Feb-96\n",
       "4    Jan-96\n",
       "Name: earliest_cr_line, dtype: object"
      ]
     },
     "execution_count": 21,
     "metadata": {},
     "output_type": "execute_result"
    }
   ],
   "source": [
    "df['earliest_cr_line'].head()"
   ]
  },
  {
   "cell_type": "code",
   "execution_count": 22,
   "id": "fc4bae86-12e0-4a55-b3bf-f6f97bcc3cad",
   "metadata": {},
   "outputs": [],
   "source": [
    "df['earliest_cr_line_date'] = pd.to_datetime(df['earliest_cr_line'], format = '%b-%y')\n",
    "df['mths_since_earliest_cr_line'] = round(pd.to_numeric((pd.to_datetime('2017-12-31') # asumsikan bahwa skrg tgl 31 des 2017\n",
    "                                                         - df['earliest_cr_line_date']) \n",
    "                                                        / np.timedelta64(1, 'M'))) # menghitung brp bulan perbedaan dilakukan credit line terakhir dgn sekarang dan convert to numeric"
   ]
  },
  {
   "cell_type": "code",
   "execution_count": 23,
   "id": "babe7e6e-5333-487b-89e2-be477a590c5f",
   "metadata": {},
   "outputs": [
    {
     "data": {
      "text/plain": [
       "count    466256.000000\n",
       "mean        240.482430\n",
       "std          93.974829\n",
       "min        -611.000000\n",
       "25%         184.000000\n",
       "50%         226.000000\n",
       "75%         286.000000\n",
       "max         588.000000\n",
       "Name: mths_since_earliest_cr_line, dtype: float64"
      ]
     },
     "execution_count": 23,
     "metadata": {},
     "output_type": "execute_result"
    }
   ],
   "source": [
    "df['mths_since_earliest_cr_line'].describe()"
   ]
  },
  {
   "cell_type": "code",
   "execution_count": 24,
   "id": "6b673556-2103-47d9-95c7-598e369f3adf",
   "metadata": {},
   "outputs": [
    {
     "data": {
      "image/png": "[encoded data removed]",
      "text/plain": [
       "<Figure size 432x288 with 1 Axes>"
      ]
     },
     "metadata": {
      "needs_background": "light"
     },
     "output_type": "display_data"
    }
   ],
   "source": [
    "df['mths_since_earliest_cr_line'].plot.box()\n",
    "plt.show()"
   ]
  },
  {
   "cell_type": "code",
   "execution_count": 25,
   "id": "3fe8be96-d680-4a2a-8a79-baaef9d31746",
   "metadata": {
    "tags": []
   },
   "outputs": [
    {
     "data": {
      "text/html": [
       "<div>\n",
       "<style scoped>\n",
       "    .dataframe tbody tr th:only-of-type {\n",
       "        vertical-align: middle;\n",
       "    }\n",
       "\n",
       "    .dataframe tbody tr th {\n",
       "        vertical-align: top;\n",
       "    }\n",
       "\n",
       "    .dataframe thead th {\n",
       "        text-align: right;\n",
       "    }\n",
       "</style>\n",
       "<table border=\"1\" class=\"dataframe\">\n",
       "  <thead>\n",
       "    <tr style=\"text-align: right;\">\n",
       "      <th></th>\n",
       "      <th>earliest_cr_line</th>\n",
       "      <th>earliest_cr_line_date</th>\n",
       "      <th>mths_since_earliest_cr_line</th>\n",
       "    </tr>\n",
       "  </thead>\n",
       "  <tbody>\n",
       "    <tr>\n",
       "      <th>1580</th>\n",
       "      <td>Sep-62</td>\n",
       "      <td>2062-09-01</td>\n",
       "      <td>-536.0</td>\n",
       "    </tr>\n",
       "    <tr>\n",
       "      <th>1770</th>\n",
       "      <td>Sep-68</td>\n",
       "      <td>2068-09-01</td>\n",
       "      <td>-608.0</td>\n",
       "    </tr>\n",
       "    <tr>\n",
       "      <th>2799</th>\n",
       "      <td>Sep-64</td>\n",
       "      <td>2064-09-01</td>\n",
       "      <td>-560.0</td>\n",
       "    </tr>\n",
       "    <tr>\n",
       "      <th>3282</th>\n",
       "      <td>Sep-67</td>\n",
       "      <td>2067-09-01</td>\n",
       "      <td>-596.0</td>\n",
       "    </tr>\n",
       "    <tr>\n",
       "      <th>3359</th>\n",
       "      <td>Feb-65</td>\n",
       "      <td>2065-02-01</td>\n",
       "      <td>-565.0</td>\n",
       "    </tr>\n",
       "    <tr>\n",
       "      <th>...</th>\n",
       "      <td>...</td>\n",
       "      <td>...</td>\n",
       "      <td>...</td>\n",
       "    </tr>\n",
       "    <tr>\n",
       "      <th>464003</th>\n",
       "      <td>Jan-68</td>\n",
       "      <td>2068-01-01</td>\n",
       "      <td>-600.0</td>\n",
       "    </tr>\n",
       "    <tr>\n",
       "      <th>464260</th>\n",
       "      <td>Jul-66</td>\n",
       "      <td>2066-07-01</td>\n",
       "      <td>-582.0</td>\n",
       "    </tr>\n",
       "    <tr>\n",
       "      <th>465100</th>\n",
       "      <td>Oct-67</td>\n",
       "      <td>2067-10-01</td>\n",
       "      <td>-597.0</td>\n",
       "    </tr>\n",
       "    <tr>\n",
       "      <th>465500</th>\n",
       "      <td>Sep-67</td>\n",
       "      <td>2067-09-01</td>\n",
       "      <td>-596.0</td>\n",
       "    </tr>\n",
       "    <tr>\n",
       "      <th>465655</th>\n",
       "      <td>Jan-56</td>\n",
       "      <td>2056-01-01</td>\n",
       "      <td>-456.0</td>\n",
       "    </tr>\n",
       "  </tbody>\n",
       "</table>\n",
       "<p>1169 rows × 3 columns</p>\n",
       "</div>"
      ],
      "text/plain": [
       "       earliest_cr_line earliest_cr_line_date  mths_since_earliest_cr_line\n",
       "1580             Sep-62            2062-09-01                       -536.0\n",
       "1770             Sep-68            2068-09-01                       -608.0\n",
       "2799             Sep-64            2064-09-01                       -560.0\n",
       "3282             Sep-67            2067-09-01                       -596.0\n",
       "3359             Feb-65            2065-02-01                       -565.0\n",
       "...                 ...                   ...                          ...\n",
       "464003           Jan-68            2068-01-01                       -600.0\n",
       "464260           Jul-66            2066-07-01                       -582.0\n",
       "465100           Oct-67            2067-10-01                       -597.0\n",
       "465500           Sep-67            2067-09-01                       -596.0\n",
       "465655           Jan-56            2056-01-01                       -456.0\n",
       "\n",
       "[1169 rows x 3 columns]"
      ]
     },
     "execution_count": 25,
     "metadata": {},
     "output_type": "execute_result"
    }
   ],
   "source": [
    "df.loc[: , ['earliest_cr_line', 'earliest_cr_line_date', \n",
    "            'mths_since_earliest_cr_line']][df['mths_since_earliest_cr_line'] < 0]"
   ]
  },
  {
   "cell_type": "markdown",
   "id": "4383412b-7cf2-478c-b154-618e4fff57e9",
   "metadata": {},
   "source": [
    "Dapat dilihat bahwa pada kolom 'mths_since_earliest_cr_line' merupakan outlier dengan data datetime-nya yaitu > 2016 (belum terjadi pada saat data dikumpulkan)"
   ]
  },
  {
   "cell_type": "code",
   "execution_count": 26,
   "id": "720e3bf2-aa57-4dc1-ada2-8f265bf14c13",
   "metadata": {
    "tags": []
   },
   "outputs": [
    {
     "name": "stderr",
     "output_type": "stream",
     "text": [
      "C:\\Users\\yemim\\AppData\\Local\\Temp\\ipykernel_22872\\1539702680.py:2: SettingWithCopyWarning: \n",
      "A value is trying to be set on a copy of a slice from a DataFrame\n",
      "\n",
      "See the caveats in the documentation: https://pandas.pydata.org/pandas-docs/stable/user_guide/indexing.html#returning-a-view-versus-a-copy\n",
      "  df['earliest_cr_line_date'][df['mths_since_earliest_cr_line'] < 0] = df['earliest_cr_line_date'][df['mths_since_earliest_cr_line'] < 0].str.replace('20','19')\n"
     ]
    }
   ],
   "source": [
    "df['earliest_cr_line_date'] = df['earliest_cr_line_date'].astype(str)\n",
    "df['earliest_cr_line_date'][df['mths_since_earliest_cr_line'] < 0] = df['earliest_cr_line_date'][df['mths_since_earliest_cr_line'] < 0].str.replace('20','19')"
   ]
  },
  {
   "cell_type": "markdown",
   "id": "a7750ced-1e1a-470a-8f96-39bb7946a186",
   "metadata": {},
   "source": [
    "Mengubah data tsb menjadi string dan mengganti 20 menjadi 19, contoh: 2068 menjadi 1968"
   ]
  },
  {
   "cell_type": "code",
   "execution_count": 27,
   "id": "ae1df4b2-62a5-4dff-b950-34d75e6eea97",
   "metadata": {},
   "outputs": [
    {
     "data": {
      "text/plain": [
       "0   1985-01-01\n",
       "1   1999-04-01\n",
       "2   2001-11-01\n",
       "3   1996-02-01\n",
       "4   1996-01-01\n",
       "Name: earliest_cr_line_date, dtype: datetime64[ns]"
      ]
     },
     "execution_count": 27,
     "metadata": {},
     "output_type": "execute_result"
    }
   ],
   "source": [
    "df['earliest_cr_line_date'] = pd.to_datetime(df['earliest_cr_line_date'])\n",
    "df['earliest_cr_line_date'].head()"
   ]
  },
  {
   "cell_type": "code",
   "execution_count": 28,
   "id": "917420df-822c-4c1d-9943-a284de030e88",
   "metadata": {},
   "outputs": [
    {
     "data": {
      "text/plain": [
       "count    466256.000000\n",
       "mean        243.491078\n",
       "std          86.928944\n",
       "min          74.000000\n",
       "25%         185.000000\n",
       "50%         227.000000\n",
       "75%         286.000000\n",
       "max         888.000000\n",
       "Name: mths_since_earliest_cr_line_date, dtype: float64"
      ]
     },
     "execution_count": 28,
     "metadata": {},
     "output_type": "execute_result"
    }
   ],
   "source": [
    "df['mths_since_earliest_cr_line_date'] = round(pd.to_numeric((pd.to_datetime('2017-12-31') - df['earliest_cr_line_date']) / np.timedelta64(1, 'M')))\n",
    "\n",
    "df['mths_since_earliest_cr_line_date'].describe()"
   ]
  },
  {
   "cell_type": "code",
   "execution_count": 29,
   "id": "39d8abd8-a3ce-4ec4-beaf-65e2a9f3df2e",
   "metadata": {
    "tags": []
   },
   "outputs": [],
   "source": [
    "df.drop(columns = ['earliest_cr_line_date' ,'mths_since_earliest_cr_line', \n",
    "                   'earliest_cr_line'], inplace = True)"
   ]
  },
  {
   "cell_type": "markdown",
   "id": "0544cab9-1526-42a6-8f68-6f316c22ce5c",
   "metadata": {},
   "source": [
    "4. last_credit_pull_d"
   ]
  },
  {
   "cell_type": "code",
   "execution_count": 30,
   "id": "cc39f68a-6075-482c-9aeb-85c4050fb226",
   "metadata": {},
   "outputs": [],
   "source": [
    "df['last_credit_pull_d'] = pd.to_datetime(df['last_credit_pull_d'], \n",
    "                                          format = '%b-%y').fillna(pd.to_datetime(\"2016-01-01\"))\n",
    "\n",
    "\n",
    "df['mths_since_last_credit_pull_d'] = round(pd.to_numeric((pd.to_datetime('2017-12-31') - df['last_credit_pull_d']) / np.timedelta64(1, 'M')))"
   ]
  },
  {
   "cell_type": "code",
   "execution_count": 31,
   "id": "28e7af28-bb6d-4a24-9435-64555c6eaee5",
   "metadata": {},
   "outputs": [],
   "source": [
    "df.drop(columns = ['last_credit_pull_d'], inplace = True)"
   ]
  },
  {
   "cell_type": "code",
   "execution_count": 32,
   "id": "bf684939-a5f8-4031-8c8d-bc1e0da98f06",
   "metadata": {},
   "outputs": [
    {
     "data": {
      "text/plain": [
       "count    466285.000000\n",
       "mean         28.045223\n",
       "std           9.636066\n",
       "min          24.000000\n",
       "25%          24.000000\n",
       "50%          24.000000\n",
       "75%          26.000000\n",
       "max         128.000000\n",
       "Name: mths_since_last_credit_pull_d, dtype: float64"
      ]
     },
     "execution_count": 32,
     "metadata": {},
     "output_type": "execute_result"
    }
   ],
   "source": [
    "df['mths_since_last_credit_pull_d'].describe()"
   ]
  },
  {
   "cell_type": "markdown",
   "id": "6dc49f43-dcba-44e9-ae0c-184e6960c614",
   "metadata": {},
   "source": [
    "Cek missing value pada kolom lain"
   ]
  },
  {
   "cell_type": "code",
   "execution_count": 33,
   "id": "f041004f-f990-4430-bbd9-6ba42fff608d",
   "metadata": {
    "tags": []
   },
   "outputs": [
    {
     "data": {
      "text/plain": [
       "loan_amnt                               0\n",
       "funded_amnt                             0\n",
       "funded_amnt_inv                         0\n",
       "term                                    0\n",
       "int_rate                                0\n",
       "installment                             0\n",
       "grade                                   0\n",
       "emp_title                           27588\n",
       "emp_length                              0\n",
       "home_ownership                          0\n",
       "annual_inc                              4\n",
       "verification_status                     0\n",
       "loan_status                             0\n",
       "purpose                                 0\n",
       "addr_state                              0\n",
       "dti                                     0\n",
       "delinq_2yrs                            29\n",
       "inq_last_6mths                         29\n",
       "open_acc                               29\n",
       "pub_rec                                29\n",
       "revol_bal                               0\n",
       "revol_util                            340\n",
       "total_acc                              29\n",
       "initial_list_status                     0\n",
       "total_rec_late_fee                      0\n",
       "collections_12_mths_ex_med            145\n",
       "acc_now_delinq                         29\n",
       "tot_coll_amt                        70276\n",
       "tot_cur_bal                         70276\n",
       "total_rev_hi_lim                    70276\n",
       "mths_since_earliest_cr_line_date       29\n",
       "mths_since_last_credit_pull_d           0\n",
       "dtype: int64"
      ]
     },
     "execution_count": 33,
     "metadata": {},
     "output_type": "execute_result"
    }
   ],
   "source": [
    "df.isnull().sum()"
   ]
  },
  {
   "cell_type": "markdown",
   "id": "0d98c2a1-55ab-4bb3-8364-8a7f2bed8cbc",
   "metadata": {},
   "source": [
    "1. total columns"
   ]
  },
  {
   "cell_type": "code",
   "execution_count": 34,
   "id": "7e449d65-cd40-4937-9ace-3fecfc9aa479",
   "metadata": {
    "tags": []
   },
   "outputs": [],
   "source": [
    "total_cols = ['tot_coll_amt', 'tot_cur_bal', 'total_rev_hi_lim']"
   ]
  },
  {
   "cell_type": "code",
   "execution_count": 35,
   "id": "767ce82f-30c4-43cf-84f3-c03358e84257",
   "metadata": {
    "tags": []
   },
   "outputs": [
    {
     "data": {
      "text/plain": [
       "tot_coll_amt        15.071469\n",
       "tot_cur_bal         15.071469\n",
       "total_rev_hi_lim    15.071469\n",
       "dtype: float64"
      ]
     },
     "execution_count": 35,
     "metadata": {},
     "output_type": "execute_result"
    }
   ],
   "source": [
    "df[total_cols].isnull().sum()*100/len(df)"
   ]
  },
  {
   "cell_type": "code",
   "execution_count": 36,
   "id": "b9cc5e45-ee06-49f4-b14c-f66d96ccb172",
   "metadata": {
    "tags": []
   },
   "outputs": [
    {
     "data": {
      "text/html": [
       "<div>\n",
       "<style scoped>\n",
       "    .dataframe tbody tr th:only-of-type {\n",
       "        vertical-align: middle;\n",
       "    }\n",
       "\n",
       "    .dataframe tbody tr th {\n",
       "        vertical-align: top;\n",
       "    }\n",
       "\n",
       "    .dataframe thead th {\n",
       "        text-align: right;\n",
       "    }\n",
       "</style>\n",
       "<table border=\"1\" class=\"dataframe\">\n",
       "  <thead>\n",
       "    <tr style=\"text-align: right;\">\n",
       "      <th></th>\n",
       "      <th>tot_coll_amt</th>\n",
       "      <th>tot_cur_bal</th>\n",
       "      <th>total_rev_hi_lim</th>\n",
       "    </tr>\n",
       "  </thead>\n",
       "  <tbody>\n",
       "    <tr>\n",
       "      <th>0</th>\n",
       "      <td>NaN</td>\n",
       "      <td>NaN</td>\n",
       "      <td>NaN</td>\n",
       "    </tr>\n",
       "    <tr>\n",
       "      <th>1</th>\n",
       "      <td>NaN</td>\n",
       "      <td>NaN</td>\n",
       "      <td>NaN</td>\n",
       "    </tr>\n",
       "    <tr>\n",
       "      <th>2</th>\n",
       "      <td>NaN</td>\n",
       "      <td>NaN</td>\n",
       "      <td>NaN</td>\n",
       "    </tr>\n",
       "    <tr>\n",
       "      <th>3</th>\n",
       "      <td>NaN</td>\n",
       "      <td>NaN</td>\n",
       "      <td>NaN</td>\n",
       "    </tr>\n",
       "    <tr>\n",
       "      <th>4</th>\n",
       "      <td>NaN</td>\n",
       "      <td>NaN</td>\n",
       "      <td>NaN</td>\n",
       "    </tr>\n",
       "  </tbody>\n",
       "</table>\n",
       "</div>"
      ],
      "text/plain": [
       "   tot_coll_amt  tot_cur_bal  total_rev_hi_lim\n",
       "0           NaN          NaN               NaN\n",
       "1           NaN          NaN               NaN\n",
       "2           NaN          NaN               NaN\n",
       "3           NaN          NaN               NaN\n",
       "4           NaN          NaN               NaN"
      ]
     },
     "execution_count": 36,
     "metadata": {},
     "output_type": "execute_result"
    }
   ],
   "source": [
    "# cek kolom total yang memiliki jumlah null values yang sama\n",
    "df[total_cols].head()"
   ]
  },
  {
   "cell_type": "code",
   "execution_count": 37,
   "id": "b8f1fa6d-8faf-47ec-9a87-a7501136a31c",
   "metadata": {},
   "outputs": [
    {
     "data": {
      "text/html": [
       "<div>\n",
       "<style scoped>\n",
       "    .dataframe tbody tr th:only-of-type {\n",
       "        vertical-align: middle;\n",
       "    }\n",
       "\n",
       "    .dataframe tbody tr th {\n",
       "        vertical-align: top;\n",
       "    }\n",
       "\n",
       "    .dataframe thead th {\n",
       "        text-align: right;\n",
       "    }\n",
       "</style>\n",
       "<table border=\"1\" class=\"dataframe\">\n",
       "  <thead>\n",
       "    <tr style=\"text-align: right;\">\n",
       "      <th></th>\n",
       "      <th>tot_coll_amt</th>\n",
       "      <th>tot_cur_bal</th>\n",
       "      <th>total_rev_hi_lim</th>\n",
       "    </tr>\n",
       "  </thead>\n",
       "  <tbody>\n",
       "    <tr>\n",
       "      <th>348038</th>\n",
       "      <td>0.0</td>\n",
       "      <td>42725.0</td>\n",
       "      <td>20800.0</td>\n",
       "    </tr>\n",
       "    <tr>\n",
       "      <th>86825</th>\n",
       "      <td>6084.0</td>\n",
       "      <td>295407.0</td>\n",
       "      <td>14600.0</td>\n",
       "    </tr>\n",
       "    <tr>\n",
       "      <th>115838</th>\n",
       "      <td>0.0</td>\n",
       "      <td>83999.0</td>\n",
       "      <td>40600.0</td>\n",
       "    </tr>\n",
       "    <tr>\n",
       "      <th>106862</th>\n",
       "      <td>0.0</td>\n",
       "      <td>147701.0</td>\n",
       "      <td>16200.0</td>\n",
       "    </tr>\n",
       "    <tr>\n",
       "      <th>133762</th>\n",
       "      <td>0.0</td>\n",
       "      <td>9077.0</td>\n",
       "      <td>14000.0</td>\n",
       "    </tr>\n",
       "    <tr>\n",
       "      <th>360859</th>\n",
       "      <td>417.0</td>\n",
       "      <td>263334.0</td>\n",
       "      <td>52000.0</td>\n",
       "    </tr>\n",
       "    <tr>\n",
       "      <th>3273</th>\n",
       "      <td>NaN</td>\n",
       "      <td>NaN</td>\n",
       "      <td>NaN</td>\n",
       "    </tr>\n",
       "    <tr>\n",
       "      <th>46005</th>\n",
       "      <td>0.0</td>\n",
       "      <td>28061.0</td>\n",
       "      <td>16250.0</td>\n",
       "    </tr>\n",
       "    <tr>\n",
       "      <th>297165</th>\n",
       "      <td>0.0</td>\n",
       "      <td>387607.0</td>\n",
       "      <td>75000.0</td>\n",
       "    </tr>\n",
       "    <tr>\n",
       "      <th>317634</th>\n",
       "      <td>0.0</td>\n",
       "      <td>56265.0</td>\n",
       "      <td>40429.0</td>\n",
       "    </tr>\n",
       "  </tbody>\n",
       "</table>\n",
       "</div>"
      ],
      "text/plain": [
       "        tot_coll_amt  tot_cur_bal  total_rev_hi_lim\n",
       "348038           0.0      42725.0           20800.0\n",
       "86825         6084.0     295407.0           14600.0\n",
       "115838           0.0      83999.0           40600.0\n",
       "106862           0.0     147701.0           16200.0\n",
       "133762           0.0       9077.0           14000.0\n",
       "360859         417.0     263334.0           52000.0\n",
       "3273             NaN          NaN               NaN\n",
       "46005            0.0      28061.0           16250.0\n",
       "297165           0.0     387607.0           75000.0\n",
       "317634           0.0      56265.0           40429.0"
      ]
     },
     "execution_count": 37,
     "metadata": {},
     "output_type": "execute_result"
    }
   ],
   "source": [
    "df[total_cols].sample(10)"
   ]
  },
  {
   "cell_type": "markdown",
   "id": "d0d17308-add0-4f04-b2be-9e872ee0d0f7",
   "metadata": {},
   "source": [
    "Dari tabel sample acak tsb dapat dilihat bahwa null values dari ketika kolom tsb berada pada index (data) yang sama"
   ]
  },
  {
   "cell_type": "code",
   "execution_count": 38,
   "id": "5cc1dd70-51d6-4ce0-ac80-da8bd36525ea",
   "metadata": {},
   "outputs": [
    {
     "data": {
      "text/html": [
       "<div>\n",
       "<style scoped>\n",
       "    .dataframe tbody tr th:only-of-type {\n",
       "        vertical-align: middle;\n",
       "    }\n",
       "\n",
       "    .dataframe tbody tr th {\n",
       "        vertical-align: top;\n",
       "    }\n",
       "\n",
       "    .dataframe thead th {\n",
       "        text-align: right;\n",
       "    }\n",
       "</style>\n",
       "<table border=\"1\" class=\"dataframe\">\n",
       "  <thead>\n",
       "    <tr style=\"text-align: right;\">\n",
       "      <th></th>\n",
       "      <th>tot_coll_amt</th>\n",
       "      <th>tot_cur_bal</th>\n",
       "      <th>total_rev_hi_lim</th>\n",
       "    </tr>\n",
       "  </thead>\n",
       "  <tbody>\n",
       "    <tr>\n",
       "      <th>count</th>\n",
       "      <td>3.960090e+05</td>\n",
       "      <td>3.960090e+05</td>\n",
       "      <td>3.960090e+05</td>\n",
       "    </tr>\n",
       "    <tr>\n",
       "      <th>mean</th>\n",
       "      <td>1.919135e+02</td>\n",
       "      <td>1.388017e+05</td>\n",
       "      <td>3.037909e+04</td>\n",
       "    </tr>\n",
       "    <tr>\n",
       "      <th>std</th>\n",
       "      <td>1.463021e+04</td>\n",
       "      <td>1.521147e+05</td>\n",
       "      <td>3.724713e+04</td>\n",
       "    </tr>\n",
       "    <tr>\n",
       "      <th>min</th>\n",
       "      <td>0.000000e+00</td>\n",
       "      <td>0.000000e+00</td>\n",
       "      <td>0.000000e+00</td>\n",
       "    </tr>\n",
       "    <tr>\n",
       "      <th>25%</th>\n",
       "      <td>0.000000e+00</td>\n",
       "      <td>2.861800e+04</td>\n",
       "      <td>1.350000e+04</td>\n",
       "    </tr>\n",
       "    <tr>\n",
       "      <th>50%</th>\n",
       "      <td>0.000000e+00</td>\n",
       "      <td>8.153900e+04</td>\n",
       "      <td>2.280000e+04</td>\n",
       "    </tr>\n",
       "    <tr>\n",
       "      <th>75%</th>\n",
       "      <td>0.000000e+00</td>\n",
       "      <td>2.089530e+05</td>\n",
       "      <td>3.790000e+04</td>\n",
       "    </tr>\n",
       "    <tr>\n",
       "      <th>max</th>\n",
       "      <td>9.152545e+06</td>\n",
       "      <td>8.000078e+06</td>\n",
       "      <td>9.999999e+06</td>\n",
       "    </tr>\n",
       "  </tbody>\n",
       "</table>\n",
       "</div>"
      ],
      "text/plain": [
       "       tot_coll_amt   tot_cur_bal  total_rev_hi_lim\n",
       "count  3.960090e+05  3.960090e+05      3.960090e+05\n",
       "mean   1.919135e+02  1.388017e+05      3.037909e+04\n",
       "std    1.463021e+04  1.521147e+05      3.724713e+04\n",
       "min    0.000000e+00  0.000000e+00      0.000000e+00\n",
       "25%    0.000000e+00  2.861800e+04      1.350000e+04\n",
       "50%    0.000000e+00  8.153900e+04      2.280000e+04\n",
       "75%    0.000000e+00  2.089530e+05      3.790000e+04\n",
       "max    9.152545e+06  8.000078e+06      9.999999e+06"
      ]
     },
     "execution_count": 38,
     "metadata": {},
     "output_type": "execute_result"
    }
   ],
   "source": [
    "df[total_cols].describe()"
   ]
  },
  {
   "cell_type": "code",
   "execution_count": 39,
   "id": "d9c25e36-c170-4713-a179-65687d16daeb",
   "metadata": {},
   "outputs": [
    {
     "data": {
      "image/png": "[encoded data removed]",
      "text/plain": [
       "<Figure size 432x288 with 1 Axes>"
      ]
     },
     "metadata": {
      "needs_background": "light"
     },
     "output_type": "display_data"
    }
   ],
   "source": [
    "df[total_cols].boxplot()\n",
    "plt.show()"
   ]
  },
  {
   "cell_type": "markdown",
   "id": "f95464e4-4238-4665-a0ae-5b22fc475f0c",
   "metadata": {},
   "source": [
    "Dari `.info`, `.describe` dan boxplot di atas, dapat dilihat bahwa ketiga kolom tsb memiliki sebaran data yg cukup berbeda sehingga tidak memungkinkan kita untuk mengisi missing values tersebut dan memilih untuk menghapus missing values tsb."
   ]
  },
  {
   "cell_type": "code",
   "execution_count": 40,
   "id": "135c36bf-dc47-43f5-8076-5a75b2fd07e0",
   "metadata": {},
   "outputs": [],
   "source": [
    "df.dropna(subset = ['tot_coll_amt', 'tot_cur_bal', 'total_rev_hi_lim'], inplace = True)"
   ]
  },
  {
   "cell_type": "code",
   "execution_count": 41,
   "id": "f8075c95-05ec-4546-b904-b17a3beb71a5",
   "metadata": {},
   "outputs": [],
   "source": [
    "df.reset_index(drop= True, inplace = True)"
   ]
  },
  {
   "cell_type": "markdown",
   "id": "03a1be23-146d-454a-a2d7-ae2d40763286",
   "metadata": {},
   "source": [
    "2. 'revol_util'"
   ]
  },
  {
   "cell_type": "code",
   "execution_count": 42,
   "id": "8bf056ce-1469-4b23-9b2a-8e7c23783e24",
   "metadata": {},
   "outputs": [],
   "source": [
    "df['revol_util'] = df['revol_util'].fillna(df ['revol_util'].median())"
   ]
  },
  {
   "cell_type": "markdown",
   "id": "69ef7c90-21cc-411b-b4a8-643e322a1e68",
   "metadata": {},
   "source": [
    "3. 'emp_title'"
   ]
  },
  {
   "cell_type": "code",
   "execution_count": 43,
   "id": "3eae4508-d998-422b-b8dd-bedfc1d2b80c",
   "metadata": {},
   "outputs": [],
   "source": [
    "df['emp_title'] = df['emp_title'].fillna('other')"
   ]
  },
  {
   "cell_type": "code",
   "execution_count": 44,
   "id": "ade06c1b-5d1a-42c6-82ba-1729d4d4be8a",
   "metadata": {},
   "outputs": [
    {
     "data": {
      "text/plain": [
       "loan_amnt                           0\n",
       "funded_amnt                         0\n",
       "funded_amnt_inv                     0\n",
       "term                                0\n",
       "int_rate                            0\n",
       "installment                         0\n",
       "grade                               0\n",
       "emp_title                           0\n",
       "emp_length                          0\n",
       "home_ownership                      0\n",
       "annual_inc                          0\n",
       "verification_status                 0\n",
       "loan_status                         0\n",
       "purpose                             0\n",
       "addr_state                          0\n",
       "dti                                 0\n",
       "delinq_2yrs                         0\n",
       "inq_last_6mths                      0\n",
       "open_acc                            0\n",
       "pub_rec                             0\n",
       "revol_bal                           0\n",
       "revol_util                          0\n",
       "total_acc                           0\n",
       "initial_list_status                 0\n",
       "total_rec_late_fee                  0\n",
       "collections_12_mths_ex_med          0\n",
       "acc_now_delinq                      0\n",
       "tot_coll_amt                        0\n",
       "tot_cur_bal                         0\n",
       "total_rev_hi_lim                    0\n",
       "mths_since_earliest_cr_line_date    0\n",
       "mths_since_last_credit_pull_d       0\n",
       "dtype: int64"
      ]
     },
     "execution_count": 44,
     "metadata": {},
     "output_type": "execute_result"
    }
   ],
   "source": [
    "df.isna().sum()"
   ]
  },
  {
   "cell_type": "markdown",
   "id": "347e0662-1b23-455d-8826-2189f2127c61",
   "metadata": {
    "tags": []
   },
   "source": [
    "### Formatting target feature"
   ]
  },
  {
   "cell_type": "code",
   "execution_count": 45,
   "id": "59d4bda5-d22f-4240-88cb-0246c0c74ccd",
   "metadata": {},
   "outputs": [
    {
     "data": {
      "text/plain": [
       "Current               220639\n",
       "Fully Paid            131050\n",
       "Charged Off            32456\n",
       "Late (31-120 days)      6779\n",
       "In Grace Period         3080\n",
       "Late (16-30 days)       1191\n",
       "Default                  814\n",
       "Name: loan_status, dtype: int64"
      ]
     },
     "execution_count": 45,
     "metadata": {},
     "output_type": "execute_result"
    }
   ],
   "source": [
    "df['loan_status'].value_counts()"
   ]
  },
  {
   "cell_type": "code",
   "execution_count": 46,
   "id": "638fa4c0-6960-4849-b075-8b147ea9189c",
   "metadata": {
    "tags": []
   },
   "outputs": [],
   "source": [
    "ambigu = ['Current', 'In Grace Period']\n",
    "good_loan =  ['Fully Paid']\n",
    "\n",
    "df = df[df.loan_status.isin(ambigu) == False]\n",
    "df['good_risky_loan'] = np.where(df['loan_status'].isin(good_loan), 'good', 'risky')"
   ]
  },
  {
   "cell_type": "code",
   "execution_count": 47,
   "id": "19985bb6-b2e1-447f-9856-a1e4840305d8",
   "metadata": {},
   "outputs": [],
   "source": [
    "df = df.drop(['loan_status'], axis = 1)"
   ]
  },
  {
   "cell_type": "markdown",
   "id": "11c3f392-e74b-4e3d-b13c-9d09ff25d082",
   "metadata": {
    "tags": []
   },
   "source": [
    "## EXPLORATORY DATA ANALYSIS"
   ]
  },
  {
   "cell_type": "markdown",
   "id": "d50ccb59-7fb7-4597-a395-53dd255ba67b",
   "metadata": {
    "tags": []
   },
   "source": [
    "### TARGET FEATURE"
   ]
  },
  {
   "cell_type": "code",
   "execution_count": 48,
   "id": "f97ca560-ad81-41e2-bfd8-28527c440608",
   "metadata": {},
   "outputs": [
    {
     "data": {
      "image/png": "[encoded data removed]",
      "text/plain": [
       "<Figure size 864x576 with 1 Axes>"
      ]
     },
     "metadata": {},
     "output_type": "display_data"
    }
   ],
   "source": [
    "colorp = [\"#5ACD81\", \"#2C341F\"]\n",
    "plt.figure(figsize = (12, 8))\n",
    "\n",
    "plt.title('Good vs Risky Loan', size = 13, fontweight = 'bold', color = 'black')\n",
    "labels = 'good', 'risky'\n",
    "plt.pie(df['good_risky_loan'].value_counts(), autopct = '%.0f%%', \n",
    "        textprops = {'color': 'w', 'fontsize': 17}, colors = colorp, explode = (0.1,0), shadow = True)\n",
    "plt.legend(labels, loc='lower left', fontsize = 11)\n",
    "\n",
    "plt.savefig('good_risk.png')\n",
    "plt.show()"
   ]
  },
  {
   "cell_type": "code",
   "execution_count": 49,
   "id": "a262d244-a724-43e8-a269-0e0e5a0db3f1",
   "metadata": {
    "tags": []
   },
   "outputs": [
    {
     "data": {
      "text/plain": [
       "good     131050\n",
       "risky     41240\n",
       "Name: good_risky_loan, dtype: int64"
      ]
     },
     "execution_count": 49,
     "metadata": {},
     "output_type": "execute_result"
    }
   ],
   "source": [
    "df['good_risky_loan'].value_counts()"
   ]
  },
  {
   "cell_type": "markdown",
   "id": "a2b5134a-d3a4-4843-8baf-dc1439a89731",
   "metadata": {
    "tags": []
   },
   "source": [
    "### CATEGORICAL & NUMERICAL FEATURES"
   ]
  },
  {
   "cell_type": "code",
   "execution_count": 50,
   "id": "fc0e94c9-0815-4880-b40f-692be390c735",
   "metadata": {},
   "outputs": [],
   "source": [
    "df_cat = df.select_dtypes(['object'])\n",
    "df_con = df.drop(columns = df_cat.columns)"
   ]
  },
  {
   "cell_type": "markdown",
   "id": "f5d3a8d2-ce5a-4741-99cf-7277fea56add",
   "metadata": {
    "tags": []
   },
   "source": [
    "#### Numerical Features"
   ]
  },
  {
   "cell_type": "code",
   "execution_count": 51,
   "id": "831b9cbe-47df-4f87-ac98-4b64eeb76e70",
   "metadata": {
    "tags": []
   },
   "outputs": [
    {
     "name": "stdout",
     "output_type": "stream",
     "text": [
      "<class 'pandas.core.frame.DataFrame'>\n",
      "Int64Index: 172290 entries, 3 to 396007\n",
      "Data columns (total 24 columns):\n",
      " #   Column                            Non-Null Count   Dtype  \n",
      "---  ------                            --------------   -----  \n",
      " 0   loan_amnt                         172290 non-null  int64  \n",
      " 1   funded_amnt                       172290 non-null  int64  \n",
      " 2   funded_amnt_inv                   172290 non-null  float64\n",
      " 3   term                              172290 non-null  int64  \n",
      " 4   int_rate                          172290 non-null  float64\n",
      " 5   installment                       172290 non-null  float64\n",
      " 6   emp_length                        172290 non-null  int32  \n",
      " 7   annual_inc                        172290 non-null  float64\n",
      " 8   dti                               172290 non-null  float64\n",
      " 9   delinq_2yrs                       172290 non-null  float64\n",
      " 10  inq_last_6mths                    172290 non-null  float64\n",
      " 11  open_acc                          172290 non-null  float64\n",
      " 12  pub_rec                           172290 non-null  float64\n",
      " 13  revol_bal                         172290 non-null  int64  \n",
      " 14  revol_util                        172290 non-null  float64\n",
      " 15  total_acc                         172290 non-null  float64\n",
      " 16  total_rec_late_fee                172290 non-null  float64\n",
      " 17  collections_12_mths_ex_med        172290 non-null  float64\n",
      " 18  acc_now_delinq                    172290 non-null  float64\n",
      " 19  tot_coll_amt                      172290 non-null  float64\n",
      " 20  tot_cur_bal                       172290 non-null  float64\n",
      " 21  total_rev_hi_lim                  172290 non-null  float64\n",
      " 22  mths_since_earliest_cr_line_date  172290 non-null  float64\n",
      " 23  mths_since_last_credit_pull_d     172290 non-null  float64\n",
      "dtypes: float64(19), int32(1), int64(4)\n",
      "memory usage: 32.2 MB\n"
     ]
    }
   ],
   "source": [
    "df_con.info()"
   ]
  },
  {
   "cell_type": "code",
   "execution_count": 52,
   "id": "f1ec42d8-3a1a-4c33-9079-129c0de6b4fc",
   "metadata": {
    "tags": []
   },
   "outputs": [
    {
     "data": {
      "image/png": "[encoded data removed]",
      "text/plain": [
       "<Figure size 1008x720 with 16 Axes>"
      ]
     },
     "metadata": {
      "needs_background": "light"
     },
     "output_type": "display_data"
    }
   ],
   "source": [
    "num_cols = ['mths_since_last_credit_pull_d', 'mths_since_earliest_cr_line_date', 'total_rev_hi_lim', 'tot_cur_bal', 'total_acc', 'revol_util', 'revol_bal', 'open_acc', 'inq_last_6mths', 'delinq_2yrs', 'dti', 'annual_inc', 'emp_length', 'installment']\n",
    "df_con[num_cols].hist(bins=20, figsize=(14,10), color='green')\n",
    "plt.show()"
   ]
  },
  {
   "cell_type": "code",
   "execution_count": 53,
   "id": "60da0ddd-3f9a-404e-b320-fe933f7fce3f",
   "metadata": {
    "tags": []
   },
   "outputs": [],
   "source": [
    "def risk_percentage(x, size, rot):\n",
    "    plt.style.use('ggplot')\n",
    "    ratio = (df.groupby(x)['good_risky_loan']\n",
    "         .value_counts(normalize=True) # kalkulasi ratio\n",
    "         .mul(100) # multiply by 100 to be percent\n",
    "         .rename('% risky')\n",
    "         .reset_index())\n",
    "    plt.figure(figsize = size)\n",
    "    sns.barplot(data=ratio[ratio['good_risky_loan'] == 'risky'], x=x, y='% risky', palette = 'mako')\n",
    "    plt.title(x)\n",
    "    plt.xticks(rotation = rot)\n",
    "    plt.savefig(x+\".png\")\n",
    "    plt.show()"
   ]
  },
  {
   "cell_type": "code",
   "execution_count": 54,
   "id": "eabe0d9a-a70b-49eb-abdd-a688837eacd9",
   "metadata": {
    "tags": []
   },
   "outputs": [
    {
     "data": {
      "text/plain": [
       "loan_amnt                             1281\n",
       "funded_amnt                           1281\n",
       "funded_amnt_inv                       1378\n",
       "term                                     2\n",
       "int_rate                               145\n",
       "installment                          32956\n",
       "emp_length                              11\n",
       "annual_inc                           13904\n",
       "dti                                   3911\n",
       "delinq_2yrs                             23\n",
       "inq_last_6mths                           8\n",
       "open_acc                                57\n",
       "pub_rec                                 12\n",
       "revol_bal                            42209\n",
       "revol_util                            1106\n",
       "total_acc                              100\n",
       "total_rec_late_fee                    2371\n",
       "collections_12_mths_ex_med               7\n",
       "acc_now_delinq                           6\n",
       "tot_coll_amt                          3713\n",
       "tot_cur_bal                         125106\n",
       "total_rev_hi_lim                      9194\n",
       "mths_since_earliest_cr_line_date       624\n",
       "mths_since_last_credit_pull_d           42\n",
       "dtype: int64"
      ]
     },
     "execution_count": 54,
     "metadata": {},
     "output_type": "execute_result"
    }
   ],
   "source": [
    "df_con.nunique()"
   ]
  },
  {
   "cell_type": "code",
   "execution_count": 55,
   "id": "7f922b2a-7ed9-4bae-93a5-963bfbb13005",
   "metadata": {
    "tags": []
   },
   "outputs": [
    {
     "data": {
      "image/png": "[encoded data removed]",
      "text/plain": [
       "<Figure size 720x432 with 1 Axes>"
      ]
     },
     "metadata": {},
     "output_type": "display_data"
    },
    {
     "data": {
      "image/png": "[encoded data removed]",
      "text/plain": [
       "<Figure size 720x432 with 1 Axes>"
      ]
     },
     "metadata": {},
     "output_type": "display_data"
    },
    {
     "data": {
      "image/png": "[encoded data removed]",
      "text/plain": [
       "<Figure size 720x432 with 1 Axes>"
      ]
     },
     "metadata": {},
     "output_type": "display_data"
    },
    {
     "data": {
      "image/png": "[encoded data removed]",
      "text/plain": [
       "<Figure size 720x432 with 1 Axes>"
      ]
     },
     "metadata": {},
     "output_type": "display_data"
    },
    {
     "data": {
      "image/png": "[encoded data removed]",
      "text/plain": [
       "<Figure size 720x432 with 1 Axes>"
      ]
     },
     "metadata": {},
     "output_type": "display_data"
    },
    {
     "data": {
      "image/png": "[encoded data removed]",
      "text/plain": [
       "<Figure size 720x432 with 1 Axes>"
      ]
     },
     "metadata": {},
     "output_type": "display_data"
    },
    {
     "data": {
      "image/png": "[encoded data removed]",
      "text/plain": [
       "<Figure size 720x432 with 1 Axes>"
      ]
     },
     "metadata": {},
     "output_type": "display_data"
    },
    {
     "data": {
      "image/png": "[encoded data removed]",
      "text/plain": [
       "<Figure size 720x432 with 1 Axes>"
      ]
     },
     "metadata": {},
     "output_type": "display_data"
    }
   ],
   "source": [
    "filt_con = ['acc_now_delinq', 'inq_last_6mths', 'collections_12_mths_ex_med', \n",
    "            'emp_length', 'term', 'pub_rec', 'int_rate', 'loan_amnt']\n",
    "for columnss in filt_con:\n",
    "    risk_percentage(columnss, (10,6), 0)\n",
    "   "
   ]
  },
  {
   "cell_type": "code",
   "execution_count": 56,
   "id": "f7d6cbf2-7096-4faa-9446-a3514b031ae8",
   "metadata": {
    "tags": []
   },
   "outputs": [
    {
     "data": {
      "image/png": "[encoded data removed]",
      "text/plain": [
       "<Figure size 864x360 with 2 Axes>"
      ]
     },
     "metadata": {},
     "output_type": "display_data"
    }
   ],
   "source": [
    "plt.figure(figsize=(12,5))\n",
    "sns.heatmap(data=df_con.corr(), annot=False)\n",
    "plt.savefig(\"con_corr.png\")"
   ]
  },
  {
   "cell_type": "code",
   "execution_count": 57,
   "id": "f7e39b99-81f5-4f55-ba60-74982011c895",
   "metadata": {
    "tags": []
   },
   "outputs": [
    {
     "data": {
      "text/html": [
       "<div>\n",
       "<style scoped>\n",
       "    .dataframe tbody tr th:only-of-type {\n",
       "        vertical-align: middle;\n",
       "    }\n",
       "\n",
       "    .dataframe tbody tr th {\n",
       "        vertical-align: top;\n",
       "    }\n",
       "\n",
       "    .dataframe thead th {\n",
       "        text-align: right;\n",
       "    }\n",
       "</style>\n",
       "<table border=\"1\" class=\"dataframe\">\n",
       "  <thead>\n",
       "    <tr style=\"text-align: right;\">\n",
       "      <th></th>\n",
       "      <th></th>\n",
       "      <th>Correlation Coefficient</th>\n",
       "    </tr>\n",
       "  </thead>\n",
       "  <tbody>\n",
       "    <tr>\n",
       "      <th>loan_amnt</th>\n",
       "      <th>funded_amnt</th>\n",
       "      <td>1.000000</td>\n",
       "    </tr>\n",
       "    <tr>\n",
       "      <th>funded_amnt_inv</th>\n",
       "      <th>funded_amnt</th>\n",
       "      <td>0.999845</td>\n",
       "    </tr>\n",
       "    <tr>\n",
       "      <th>loan_amnt</th>\n",
       "      <th>funded_amnt_inv</th>\n",
       "      <td>0.999845</td>\n",
       "    </tr>\n",
       "    <tr>\n",
       "      <th>installment</th>\n",
       "      <th>funded_amnt</th>\n",
       "      <td>0.970144</td>\n",
       "    </tr>\n",
       "    <tr>\n",
       "      <th>loan_amnt</th>\n",
       "      <th>installment</th>\n",
       "      <td>0.970143</td>\n",
       "    </tr>\n",
       "    <tr>\n",
       "      <th>funded_amnt_inv</th>\n",
       "      <th>installment</th>\n",
       "      <td>0.970072</td>\n",
       "    </tr>\n",
       "    <tr>\n",
       "      <th>revol_bal</th>\n",
       "      <th>total_rev_hi_lim</th>\n",
       "      <td>0.776910</td>\n",
       "    </tr>\n",
       "    <tr>\n",
       "      <th>open_acc</th>\n",
       "      <th>total_acc</th>\n",
       "      <td>0.650716</td>\n",
       "    </tr>\n",
       "    <tr>\n",
       "      <th>annual_inc</th>\n",
       "      <th>tot_cur_bal</th>\n",
       "      <td>0.521970</td>\n",
       "    </tr>\n",
       "    <tr>\n",
       "      <th>funded_amnt_inv</th>\n",
       "      <th>annual_inc</th>\n",
       "      <td>0.489551</td>\n",
       "    </tr>\n",
       "  </tbody>\n",
       "</table>\n",
       "</div>"
      ],
      "text/plain": [
       "                                  Correlation Coefficient\n",
       "loan_amnt       funded_amnt                      1.000000\n",
       "funded_amnt_inv funded_amnt                      0.999845\n",
       "loan_amnt       funded_amnt_inv                  0.999845\n",
       "installment     funded_amnt                      0.970144\n",
       "loan_amnt       installment                      0.970143\n",
       "funded_amnt_inv installment                      0.970072\n",
       "revol_bal       total_rev_hi_lim                 0.776910\n",
       "open_acc        total_acc                        0.650716\n",
       "annual_inc      tot_cur_bal                      0.521970\n",
       "funded_amnt_inv annual_inc                       0.489551"
      ]
     },
     "execution_count": 57,
     "metadata": {},
     "output_type": "execute_result"
    }
   ],
   "source": [
    "con_corr = df_con.corr('spearman')\n",
    "np.fill_diagonal(con_corr.values, np.nan)\n",
    "con_corr_table = con_corr.unstack().sort_values(ascending = False).drop_duplicates().to_frame()\n",
    "con_corr_table.columns = ['Correlation Coefficient']\n",
    "con_corr_table.head(10)"
   ]
  },
  {
   "cell_type": "code",
   "execution_count": 58,
   "id": "9848c63f-804b-4af2-b3e1-5298614f71ed",
   "metadata": {
    "tags": []
   },
   "outputs": [],
   "source": [
    "# menghapus kolom yang memiliki korelasi yang tinggi\n",
    "df_con.drop(columns = ['funded_amnt', 'funded_amnt_inv'], inplace = True)"
   ]
  },
  {
   "cell_type": "markdown",
   "id": "a12e4842-d735-41e1-afeb-a424e4f64243",
   "metadata": {
    "tags": []
   },
   "source": [
    "#### Categorical Features"
   ]
  },
  {
   "cell_type": "code",
   "execution_count": 59,
   "id": "fdebefa8-59f4-4a5e-ad06-e2c1ae3c9bf7",
   "metadata": {
    "tags": []
   },
   "outputs": [
    {
     "data": {
      "text/html": [
       "<div>\n",
       "<style scoped>\n",
       "    .dataframe tbody tr th:only-of-type {\n",
       "        vertical-align: middle;\n",
       "    }\n",
       "\n",
       "    .dataframe tbody tr th {\n",
       "        vertical-align: top;\n",
       "    }\n",
       "\n",
       "    .dataframe thead th {\n",
       "        text-align: right;\n",
       "    }\n",
       "</style>\n",
       "<table border=\"1\" class=\"dataframe\">\n",
       "  <thead>\n",
       "    <tr style=\"text-align: right;\">\n",
       "      <th></th>\n",
       "      <th>grade</th>\n",
       "      <th>emp_title</th>\n",
       "      <th>home_ownership</th>\n",
       "      <th>verification_status</th>\n",
       "      <th>purpose</th>\n",
       "      <th>addr_state</th>\n",
       "      <th>initial_list_status</th>\n",
       "      <th>good_risky_loan</th>\n",
       "    </tr>\n",
       "  </thead>\n",
       "  <tbody>\n",
       "    <tr>\n",
       "      <th>3</th>\n",
       "      <td>B</td>\n",
       "      <td>On road manager</td>\n",
       "      <td>RENT</td>\n",
       "      <td>Source Verified</td>\n",
       "      <td>debt_consolidation</td>\n",
       "      <td>NM</td>\n",
       "      <td>w</td>\n",
       "      <td>good</td>\n",
       "    </tr>\n",
       "    <tr>\n",
       "      <th>9</th>\n",
       "      <td>B</td>\n",
       "      <td>Auditor</td>\n",
       "      <td>RENT</td>\n",
       "      <td>Verified</td>\n",
       "      <td>debt_consolidation</td>\n",
       "      <td>FL</td>\n",
       "      <td>f</td>\n",
       "      <td>good</td>\n",
       "    </tr>\n",
       "    <tr>\n",
       "      <th>11</th>\n",
       "      <td>A</td>\n",
       "      <td>Area Sales Manager</td>\n",
       "      <td>MORTGAGE</td>\n",
       "      <td>Source Verified</td>\n",
       "      <td>debt_consolidation</td>\n",
       "      <td>CA</td>\n",
       "      <td>w</td>\n",
       "      <td>good</td>\n",
       "    </tr>\n",
       "    <tr>\n",
       "      <th>14</th>\n",
       "      <td>B</td>\n",
       "      <td>driver</td>\n",
       "      <td>MORTGAGE</td>\n",
       "      <td>Verified</td>\n",
       "      <td>credit_card</td>\n",
       "      <td>MI</td>\n",
       "      <td>w</td>\n",
       "      <td>good</td>\n",
       "    </tr>\n",
       "    <tr>\n",
       "      <th>15</th>\n",
       "      <td>B</td>\n",
       "      <td>PARTS MANAGER</td>\n",
       "      <td>MORTGAGE</td>\n",
       "      <td>Not Verified</td>\n",
       "      <td>debt_consolidation</td>\n",
       "      <td>CO</td>\n",
       "      <td>f</td>\n",
       "      <td>risky</td>\n",
       "    </tr>\n",
       "  </tbody>\n",
       "</table>\n",
       "</div>"
      ],
      "text/plain": [
       "   grade           emp_title home_ownership verification_status  \\\n",
       "3      B     On road manager           RENT     Source Verified   \n",
       "9      B             Auditor           RENT            Verified   \n",
       "11     A  Area Sales Manager       MORTGAGE     Source Verified   \n",
       "14     B              driver       MORTGAGE            Verified   \n",
       "15     B       PARTS MANAGER       MORTGAGE        Not Verified   \n",
       "\n",
       "               purpose addr_state initial_list_status good_risky_loan  \n",
       "3   debt_consolidation         NM                   w            good  \n",
       "9   debt_consolidation         FL                   f            good  \n",
       "11  debt_consolidation         CA                   w            good  \n",
       "14         credit_card         MI                   w            good  \n",
       "15  debt_consolidation         CO                   f           risky  "
      ]
     },
     "execution_count": 59,
     "metadata": {},
     "output_type": "execute_result"
    }
   ],
   "source": [
    "df_cat.head()"
   ]
  },
  {
   "cell_type": "code",
   "execution_count": 60,
   "id": "e7c4377e-fbd4-423a-a9a7-ddd1a92e7ddc",
   "metadata": {
    "tags": []
   },
   "outputs": [
    {
     "name": "stdout",
     "output_type": "stream",
     "text": [
      "<class 'pandas.core.frame.DataFrame'>\n",
      "Int64Index: 172290 entries, 3 to 396007\n",
      "Data columns (total 8 columns):\n",
      " #   Column               Non-Null Count   Dtype \n",
      "---  ------               --------------   ----- \n",
      " 0   grade                172290 non-null  object\n",
      " 1   emp_title            172290 non-null  object\n",
      " 2   home_ownership       172290 non-null  object\n",
      " 3   verification_status  172290 non-null  object\n",
      " 4   purpose              172290 non-null  object\n",
      " 5   addr_state           172290 non-null  object\n",
      " 6   initial_list_status  172290 non-null  object\n",
      " 7   good_risky_loan      172290 non-null  object\n",
      "dtypes: object(8)\n",
      "memory usage: 11.8+ MB\n"
     ]
    }
   ],
   "source": [
    "df_cat.info()"
   ]
  },
  {
   "cell_type": "code",
   "execution_count": 61,
   "id": "6275d917-488e-443f-9a8c-1a9644425ff5",
   "metadata": {
    "tags": []
   },
   "outputs": [
    {
     "data": {
      "image/png": "[encoded data removed]",
      "text/plain": [
       "<Figure size 936x360 with 1 Axes>"
      ]
     },
     "metadata": {},
     "output_type": "display_data"
    },
    {
     "data": {
      "image/png": "[encoded data removed]",
      "text/plain": [
       "<Figure size 936x360 with 1 Axes>"
      ]
     },
     "metadata": {},
     "output_type": "display_data"
    },
    {
     "data": {
      "image/png": "[encoded data removed]",
      "text/plain": [
       "<Figure size 936x360 with 1 Axes>"
      ]
     },
     "metadata": {},
     "output_type": "display_data"
    },
    {
     "data": {
      "image/png": "[encoded data removed]",
      "text/plain": [
       "<Figure size 936x360 with 1 Axes>"
      ]
     },
     "metadata": {},
     "output_type": "display_data"
    },
    {
     "data": {
      "image/png": "[encoded data removed]",
      "text/plain": [
       "<Figure size 936x360 with 1 Axes>"
      ]
     },
     "metadata": {},
     "output_type": "display_data"
    },
    {
     "data": {
      "image/png": "[encoded data removed]",
      "text/plain": [
       "<Figure size 936x360 with 1 Axes>"
      ]
     },
     "metadata": {},
     "output_type": "display_data"
    }
   ],
   "source": [
    "filt_cat = ['grade','home_ownership', 'verification_status', 'purpose', 'addr_state', 'initial_list_status']\n",
    "for columnsss in filt_cat:\n",
    "    risk_percentage(columnsss, (13,5), 35)       "
   ]
  },
  {
   "cell_type": "markdown",
   "id": "4672665b-5715-40b3-ace5-e539b65f0440",
   "metadata": {
    "tags": []
   },
   "source": [
    "### MODELING"
   ]
  },
  {
   "cell_type": "markdown",
   "id": "415c098b-6c35-4695-8ec2-2e8eb4739523",
   "metadata": {
    "tags": []
   },
   "source": [
    "#### ONE HOT ENCODING"
   ]
  },
  {
   "cell_type": "code",
   "execution_count": 62,
   "id": "88826f27-141a-4a02-a836-af6004a7c3b1",
   "metadata": {},
   "outputs": [
    {
     "name": "stdout",
     "output_type": "stream",
     "text": [
      "<class 'pandas.core.frame.DataFrame'>\n",
      "Int64Index: 172290 entries, 3 to 396007\n",
      "Data columns (total 8 columns):\n",
      " #   Column               Non-Null Count   Dtype \n",
      "---  ------               --------------   ----- \n",
      " 0   grade                172290 non-null  object\n",
      " 1   emp_title            172290 non-null  object\n",
      " 2   home_ownership       172290 non-null  object\n",
      " 3   verification_status  172290 non-null  object\n",
      " 4   purpose              172290 non-null  object\n",
      " 5   addr_state           172290 non-null  object\n",
      " 6   initial_list_status  172290 non-null  object\n",
      " 7   good_risky_loan      172290 non-null  object\n",
      "dtypes: object(8)\n",
      "memory usage: 11.8+ MB\n"
     ]
    }
   ],
   "source": [
    "df_cat.info()"
   ]
  },
  {
   "cell_type": "code",
   "execution_count": 63,
   "id": "90f2e4fd-9e97-4655-a06c-dabcad324854",
   "metadata": {},
   "outputs": [],
   "source": [
    "from sklearn.preprocessing import OneHotEncoder\n",
    "cat_cols = ['grade','home_ownership', 'verification_status', 'purpose', 'initial_list_status']\n",
    "onehot_cols = pd.get_dummies(df_cat[cat_cols])"
   ]
  },
  {
   "cell_type": "code",
   "execution_count": 64,
   "id": "a4d2b09b-a5a3-48d2-b19a-0b071823f07d",
   "metadata": {
    "tags": []
   },
   "outputs": [
    {
     "name": "stdout",
     "output_type": "stream",
     "text": [
      "<class 'pandas.core.frame.DataFrame'>\n",
      "Int64Index: 172290 entries, 3 to 396007\n",
      "Data columns (total 31 columns):\n",
      " #   Column                               Non-Null Count   Dtype\n",
      "---  ------                               --------------   -----\n",
      " 0   grade_A                              172290 non-null  uint8\n",
      " 1   grade_B                              172290 non-null  uint8\n",
      " 2   grade_C                              172290 non-null  uint8\n",
      " 3   grade_D                              172290 non-null  uint8\n",
      " 4   grade_E                              172290 non-null  uint8\n",
      " 5   grade_F                              172290 non-null  uint8\n",
      " 6   grade_G                              172290 non-null  uint8\n",
      " 7   home_ownership_ANY                   172290 non-null  uint8\n",
      " 8   home_ownership_MORTGAGE              172290 non-null  uint8\n",
      " 9   home_ownership_NONE                  172290 non-null  uint8\n",
      " 10  home_ownership_OTHER                 172290 non-null  uint8\n",
      " 11  home_ownership_OWN                   172290 non-null  uint8\n",
      " 12  home_ownership_RENT                  172290 non-null  uint8\n",
      " 13  verification_status_Not Verified     172290 non-null  uint8\n",
      " 14  verification_status_Source Verified  172290 non-null  uint8\n",
      " 15  verification_status_Verified         172290 non-null  uint8\n",
      " 16  purpose_car                          172290 non-null  uint8\n",
      " 17  purpose_credit_card                  172290 non-null  uint8\n",
      " 18  purpose_debt_consolidation           172290 non-null  uint8\n",
      " 19  purpose_home_improvement             172290 non-null  uint8\n",
      " 20  purpose_house                        172290 non-null  uint8\n",
      " 21  purpose_major_purchase               172290 non-null  uint8\n",
      " 22  purpose_medical                      172290 non-null  uint8\n",
      " 23  purpose_moving                       172290 non-null  uint8\n",
      " 24  purpose_other                        172290 non-null  uint8\n",
      " 25  purpose_renewable_energy             172290 non-null  uint8\n",
      " 26  purpose_small_business               172290 non-null  uint8\n",
      " 27  purpose_vacation                     172290 non-null  uint8\n",
      " 28  purpose_wedding                      172290 non-null  uint8\n",
      " 29  initial_list_status_f                172290 non-null  uint8\n",
      " 30  initial_list_status_w                172290 non-null  uint8\n",
      "dtypes: uint8(31)\n",
      "memory usage: 6.4 MB\n"
     ]
    }
   ],
   "source": [
    "onehot_cols.info()"
   ]
  },
  {
   "cell_type": "code",
   "execution_count": 65,
   "id": "55c6168b-f4bc-45fa-9548-d85bd8765534",
   "metadata": {
    "tags": []
   },
   "outputs": [
    {
     "data": {
      "text/html": [
       "<div>\n",
       "<style scoped>\n",
       "    .dataframe tbody tr th:only-of-type {\n",
       "        vertical-align: middle;\n",
       "    }\n",
       "\n",
       "    .dataframe tbody tr th {\n",
       "        vertical-align: top;\n",
       "    }\n",
       "\n",
       "    .dataframe thead th {\n",
       "        text-align: right;\n",
       "    }\n",
       "</style>\n",
       "<table border=\"1\" class=\"dataframe\">\n",
       "  <thead>\n",
       "    <tr style=\"text-align: right;\">\n",
       "      <th></th>\n",
       "      <th>grade_A</th>\n",
       "      <th>grade_B</th>\n",
       "      <th>grade_C</th>\n",
       "      <th>grade_D</th>\n",
       "      <th>grade_E</th>\n",
       "      <th>grade_F</th>\n",
       "      <th>grade_G</th>\n",
       "      <th>home_ownership_ANY</th>\n",
       "      <th>home_ownership_MORTGAGE</th>\n",
       "      <th>home_ownership_NONE</th>\n",
       "      <th>...</th>\n",
       "      <th>purpose_major_purchase</th>\n",
       "      <th>purpose_medical</th>\n",
       "      <th>purpose_moving</th>\n",
       "      <th>purpose_other</th>\n",
       "      <th>purpose_renewable_energy</th>\n",
       "      <th>purpose_small_business</th>\n",
       "      <th>purpose_vacation</th>\n",
       "      <th>purpose_wedding</th>\n",
       "      <th>initial_list_status_f</th>\n",
       "      <th>initial_list_status_w</th>\n",
       "    </tr>\n",
       "  </thead>\n",
       "  <tbody>\n",
       "    <tr>\n",
       "      <th>3</th>\n",
       "      <td>0</td>\n",
       "      <td>1</td>\n",
       "      <td>0</td>\n",
       "      <td>0</td>\n",
       "      <td>0</td>\n",
       "      <td>0</td>\n",
       "      <td>0</td>\n",
       "      <td>0</td>\n",
       "      <td>0</td>\n",
       "      <td>0</td>\n",
       "      <td>...</td>\n",
       "      <td>0</td>\n",
       "      <td>0</td>\n",
       "      <td>0</td>\n",
       "      <td>0</td>\n",
       "      <td>0</td>\n",
       "      <td>0</td>\n",
       "      <td>0</td>\n",
       "      <td>0</td>\n",
       "      <td>0</td>\n",
       "      <td>1</td>\n",
       "    </tr>\n",
       "    <tr>\n",
       "      <th>9</th>\n",
       "      <td>0</td>\n",
       "      <td>1</td>\n",
       "      <td>0</td>\n",
       "      <td>0</td>\n",
       "      <td>0</td>\n",
       "      <td>0</td>\n",
       "      <td>0</td>\n",
       "      <td>0</td>\n",
       "      <td>0</td>\n",
       "      <td>0</td>\n",
       "      <td>...</td>\n",
       "      <td>0</td>\n",
       "      <td>0</td>\n",
       "      <td>0</td>\n",
       "      <td>0</td>\n",
       "      <td>0</td>\n",
       "      <td>0</td>\n",
       "      <td>0</td>\n",
       "      <td>0</td>\n",
       "      <td>1</td>\n",
       "      <td>0</td>\n",
       "    </tr>\n",
       "    <tr>\n",
       "      <th>11</th>\n",
       "      <td>1</td>\n",
       "      <td>0</td>\n",
       "      <td>0</td>\n",
       "      <td>0</td>\n",
       "      <td>0</td>\n",
       "      <td>0</td>\n",
       "      <td>0</td>\n",
       "      <td>0</td>\n",
       "      <td>1</td>\n",
       "      <td>0</td>\n",
       "      <td>...</td>\n",
       "      <td>0</td>\n",
       "      <td>0</td>\n",
       "      <td>0</td>\n",
       "      <td>0</td>\n",
       "      <td>0</td>\n",
       "      <td>0</td>\n",
       "      <td>0</td>\n",
       "      <td>0</td>\n",
       "      <td>0</td>\n",
       "      <td>1</td>\n",
       "    </tr>\n",
       "    <tr>\n",
       "      <th>14</th>\n",
       "      <td>0</td>\n",
       "      <td>1</td>\n",
       "      <td>0</td>\n",
       "      <td>0</td>\n",
       "      <td>0</td>\n",
       "      <td>0</td>\n",
       "      <td>0</td>\n",
       "      <td>0</td>\n",
       "      <td>1</td>\n",
       "      <td>0</td>\n",
       "      <td>...</td>\n",
       "      <td>0</td>\n",
       "      <td>0</td>\n",
       "      <td>0</td>\n",
       "      <td>0</td>\n",
       "      <td>0</td>\n",
       "      <td>0</td>\n",
       "      <td>0</td>\n",
       "      <td>0</td>\n",
       "      <td>0</td>\n",
       "      <td>1</td>\n",
       "    </tr>\n",
       "    <tr>\n",
       "      <th>15</th>\n",
       "      <td>0</td>\n",
       "      <td>1</td>\n",
       "      <td>0</td>\n",
       "      <td>0</td>\n",
       "      <td>0</td>\n",
       "      <td>0</td>\n",
       "      <td>0</td>\n",
       "      <td>0</td>\n",
       "      <td>1</td>\n",
       "      <td>0</td>\n",
       "      <td>...</td>\n",
       "      <td>0</td>\n",
       "      <td>0</td>\n",
       "      <td>0</td>\n",
       "      <td>0</td>\n",
       "      <td>0</td>\n",
       "      <td>0</td>\n",
       "      <td>0</td>\n",
       "      <td>0</td>\n",
       "      <td>1</td>\n",
       "      <td>0</td>\n",
       "    </tr>\n",
       "  </tbody>\n",
       "</table>\n",
       "<p>5 rows × 31 columns</p>\n",
       "</div>"
      ],
      "text/plain": [
       "    grade_A  grade_B  grade_C  grade_D  grade_E  grade_F  grade_G  \\\n",
       "3         0        1        0        0        0        0        0   \n",
       "9         0        1        0        0        0        0        0   \n",
       "11        1        0        0        0        0        0        0   \n",
       "14        0        1        0        0        0        0        0   \n",
       "15        0        1        0        0        0        0        0   \n",
       "\n",
       "    home_ownership_ANY  home_ownership_MORTGAGE  home_ownership_NONE  ...  \\\n",
       "3                    0                        0                    0  ...   \n",
       "9                    0                        0                    0  ...   \n",
       "11                   0                        1                    0  ...   \n",
       "14                   0                        1                    0  ...   \n",
       "15                   0                        1                    0  ...   \n",
       "\n",
       "    purpose_major_purchase  purpose_medical  purpose_moving  purpose_other  \\\n",
       "3                        0                0               0              0   \n",
       "9                        0                0               0              0   \n",
       "11                       0                0               0              0   \n",
       "14                       0                0               0              0   \n",
       "15                       0                0               0              0   \n",
       "\n",
       "    purpose_renewable_energy  purpose_small_business  purpose_vacation  \\\n",
       "3                          0                       0                 0   \n",
       "9                          0                       0                 0   \n",
       "11                         0                       0                 0   \n",
       "14                         0                       0                 0   \n",
       "15                         0                       0                 0   \n",
       "\n",
       "    purpose_wedding  initial_list_status_f  initial_list_status_w  \n",
       "3                 0                      0                      1  \n",
       "9                 0                      1                      0  \n",
       "11                0                      0                      1  \n",
       "14                0                      0                      1  \n",
       "15                0                      1                      0  \n",
       "\n",
       "[5 rows x 31 columns]"
      ]
     },
     "execution_count": 65,
     "metadata": {},
     "output_type": "execute_result"
    }
   ],
   "source": [
    "onehot_cols.head()"
   ]
  },
  {
   "cell_type": "code",
   "execution_count": 66,
   "id": "9add844f-c5ea-4a37-a7dd-16e78779a104",
   "metadata": {},
   "outputs": [],
   "source": [
    "onehot_cols['target'] = np.where(df_cat['good_risky_loan'].str.contains(\"good\"), 1, 0)"
   ]
  },
  {
   "cell_type": "code",
   "execution_count": 67,
   "id": "b970f73e-4c1f-4c94-895a-b2ec993bd382",
   "metadata": {
    "tags": []
   },
   "outputs": [
    {
     "name": "stdout",
     "output_type": "stream",
     "text": [
      "<class 'pandas.core.frame.DataFrame'>\n",
      "Int64Index: 172290 entries, 3 to 396007\n",
      "Data columns (total 32 columns):\n",
      " #   Column                               Non-Null Count   Dtype\n",
      "---  ------                               --------------   -----\n",
      " 0   grade_A                              172290 non-null  uint8\n",
      " 1   grade_B                              172290 non-null  uint8\n",
      " 2   grade_C                              172290 non-null  uint8\n",
      " 3   grade_D                              172290 non-null  uint8\n",
      " 4   grade_E                              172290 non-null  uint8\n",
      " 5   grade_F                              172290 non-null  uint8\n",
      " 6   grade_G                              172290 non-null  uint8\n",
      " 7   home_ownership_ANY                   172290 non-null  uint8\n",
      " 8   home_ownership_MORTGAGE              172290 non-null  uint8\n",
      " 9   home_ownership_NONE                  172290 non-null  uint8\n",
      " 10  home_ownership_OTHER                 172290 non-null  uint8\n",
      " 11  home_ownership_OWN                   172290 non-null  uint8\n",
      " 12  home_ownership_RENT                  172290 non-null  uint8\n",
      " 13  verification_status_Not Verified     172290 non-null  uint8\n",
      " 14  verification_status_Source Verified  172290 non-null  uint8\n",
      " 15  verification_status_Verified         172290 non-null  uint8\n",
      " 16  purpose_car                          172290 non-null  uint8\n",
      " 17  purpose_credit_card                  172290 non-null  uint8\n",
      " 18  purpose_debt_consolidation           172290 non-null  uint8\n",
      " 19  purpose_home_improvement             172290 non-null  uint8\n",
      " 20  purpose_house                        172290 non-null  uint8\n",
      " 21  purpose_major_purchase               172290 non-null  uint8\n",
      " 22  purpose_medical                      172290 non-null  uint8\n",
      " 23  purpose_moving                       172290 non-null  uint8\n",
      " 24  purpose_other                        172290 non-null  uint8\n",
      " 25  purpose_renewable_energy             172290 non-null  uint8\n",
      " 26  purpose_small_business               172290 non-null  uint8\n",
      " 27  purpose_vacation                     172290 non-null  uint8\n",
      " 28  purpose_wedding                      172290 non-null  uint8\n",
      " 29  initial_list_status_f                172290 non-null  uint8\n",
      " 30  initial_list_status_w                172290 non-null  uint8\n",
      " 31  target                               172290 non-null  int32\n",
      "dtypes: int32(1), uint8(31)\n",
      "memory usage: 7.1 MB\n"
     ]
    }
   ],
   "source": [
    "onehot_cols.info()"
   ]
  },
  {
   "cell_type": "markdown",
   "id": "b88e1fc9-90df-495a-8d12-ce34f537da5c",
   "metadata": {},
   "source": [
    "#### STANDARDIZATION"
   ]
  },
  {
   "cell_type": "code",
   "execution_count": 68,
   "id": "bb2075cb-4916-4cbc-a700-8e0a7b45b9b0",
   "metadata": {
    "tags": []
   },
   "outputs": [
    {
     "name": "stdout",
     "output_type": "stream",
     "text": [
      "<class 'pandas.core.frame.DataFrame'>\n",
      "Int64Index: 172290 entries, 3 to 396007\n",
      "Data columns (total 22 columns):\n",
      " #   Column                            Non-Null Count   Dtype  \n",
      "---  ------                            --------------   -----  \n",
      " 0   loan_amnt                         172290 non-null  int64  \n",
      " 1   term                              172290 non-null  int64  \n",
      " 2   int_rate                          172290 non-null  float64\n",
      " 3   installment                       172290 non-null  float64\n",
      " 4   emp_length                        172290 non-null  int32  \n",
      " 5   annual_inc                        172290 non-null  float64\n",
      " 6   dti                               172290 non-null  float64\n",
      " 7   delinq_2yrs                       172290 non-null  float64\n",
      " 8   inq_last_6mths                    172290 non-null  float64\n",
      " 9   open_acc                          172290 non-null  float64\n",
      " 10  pub_rec                           172290 non-null  float64\n",
      " 11  revol_bal                         172290 non-null  int64  \n",
      " 12  revol_util                        172290 non-null  float64\n",
      " 13  total_acc                         172290 non-null  float64\n",
      " 14  total_rec_late_fee                172290 non-null  float64\n",
      " 15  collections_12_mths_ex_med        172290 non-null  float64\n",
      " 16  acc_now_delinq                    172290 non-null  float64\n",
      " 17  tot_coll_amt                      172290 non-null  float64\n",
      " 18  tot_cur_bal                       172290 non-null  float64\n",
      " 19  total_rev_hi_lim                  172290 non-null  float64\n",
      " 20  mths_since_earliest_cr_line_date  172290 non-null  float64\n",
      " 21  mths_since_last_credit_pull_d     172290 non-null  float64\n",
      "dtypes: float64(18), int32(1), int64(3)\n",
      "memory usage: 29.6 MB\n"
     ]
    }
   ],
   "source": [
    "df_con.info()"
   ]
  },
  {
   "cell_type": "code",
   "execution_count": 69,
   "id": "ec892146-6fd1-4388-bf44-518aff915e99",
   "metadata": {
    "tags": []
   },
   "outputs": [],
   "source": [
    "from sklearn.preprocessing import StandardScaler\n",
    "\n",
    "con_cols = [col for col in df_con.columns.tolist()]\n",
    "ss = StandardScaler()\n",
    "std_cols = pd.DataFrame(ss.fit_transform(df_con[con_cols]), columns=con_cols)"
   ]
  },
  {
   "cell_type": "code",
   "execution_count": 70,
   "id": "70179ea9-0764-467e-98c5-a722408b9bbd",
   "metadata": {
    "tags": []
   },
   "outputs": [
    {
     "name": "stdout",
     "output_type": "stream",
     "text": [
      "<class 'pandas.core.frame.DataFrame'>\n",
      "RangeIndex: 172290 entries, 0 to 172289\n",
      "Data columns (total 22 columns):\n",
      " #   Column                            Non-Null Count   Dtype  \n",
      "---  ------                            --------------   -----  \n",
      " 0   loan_amnt                         172290 non-null  float64\n",
      " 1   term                              172290 non-null  float64\n",
      " 2   int_rate                          172290 non-null  float64\n",
      " 3   installment                       172290 non-null  float64\n",
      " 4   emp_length                        172290 non-null  float64\n",
      " 5   annual_inc                        172290 non-null  float64\n",
      " 6   dti                               172290 non-null  float64\n",
      " 7   delinq_2yrs                       172290 non-null  float64\n",
      " 8   inq_last_6mths                    172290 non-null  float64\n",
      " 9   open_acc                          172290 non-null  float64\n",
      " 10  pub_rec                           172290 non-null  float64\n",
      " 11  revol_bal                         172290 non-null  float64\n",
      " 12  revol_util                        172290 non-null  float64\n",
      " 13  total_acc                         172290 non-null  float64\n",
      " 14  total_rec_late_fee                172290 non-null  float64\n",
      " 15  collections_12_mths_ex_med        172290 non-null  float64\n",
      " 16  acc_now_delinq                    172290 non-null  float64\n",
      " 17  tot_coll_amt                      172290 non-null  float64\n",
      " 18  tot_cur_bal                       172290 non-null  float64\n",
      " 19  total_rev_hi_lim                  172290 non-null  float64\n",
      " 20  mths_since_earliest_cr_line_date  172290 non-null  float64\n",
      " 21  mths_since_last_credit_pull_d     172290 non-null  float64\n",
      "dtypes: float64(22)\n",
      "memory usage: 28.9 MB\n"
     ]
    }
   ],
   "source": [
    "std_cols.info()"
   ]
  },
  {
   "cell_type": "code",
   "execution_count": 71,
   "id": "16ec6b42-3a1d-4c08-8f2c-f94f5d9bd105",
   "metadata": {
    "tags": []
   },
   "outputs": [
    {
     "data": {
      "text/html": [
       "<div>\n",
       "<style scoped>\n",
       "    .dataframe tbody tr th:only-of-type {\n",
       "        vertical-align: middle;\n",
       "    }\n",
       "\n",
       "    .dataframe tbody tr th {\n",
       "        vertical-align: top;\n",
       "    }\n",
       "\n",
       "    .dataframe thead th {\n",
       "        text-align: right;\n",
       "    }\n",
       "</style>\n",
       "<table border=\"1\" class=\"dataframe\">\n",
       "  <thead>\n",
       "    <tr style=\"text-align: right;\">\n",
       "      <th></th>\n",
       "      <th>loan_amnt</th>\n",
       "      <th>term</th>\n",
       "      <th>int_rate</th>\n",
       "      <th>installment</th>\n",
       "      <th>emp_length</th>\n",
       "      <th>annual_inc</th>\n",
       "      <th>dti</th>\n",
       "      <th>delinq_2yrs</th>\n",
       "      <th>inq_last_6mths</th>\n",
       "      <th>open_acc</th>\n",
       "      <th>...</th>\n",
       "      <th>revol_util</th>\n",
       "      <th>total_acc</th>\n",
       "      <th>total_rec_late_fee</th>\n",
       "      <th>collections_12_mths_ex_med</th>\n",
       "      <th>acc_now_delinq</th>\n",
       "      <th>tot_coll_amt</th>\n",
       "      <th>tot_cur_bal</th>\n",
       "      <th>total_rev_hi_lim</th>\n",
       "      <th>mths_since_earliest_cr_line_date</th>\n",
       "      <th>mths_since_last_credit_pull_d</th>\n",
       "    </tr>\n",
       "  </thead>\n",
       "  <tbody>\n",
       "    <tr>\n",
       "      <th>0</th>\n",
       "      <td>-0.272078</td>\n",
       "      <td>-0.549028</td>\n",
       "      <td>-0.201206</td>\n",
       "      <td>-0.138526</td>\n",
       "      <td>1.129554</td>\n",
       "      <td>-0.613136</td>\n",
       "      <td>-0.043316</td>\n",
       "      <td>-0.357063</td>\n",
       "      <td>-0.805824</td>\n",
       "      <td>-0.880377</td>\n",
       "      <td>...</td>\n",
       "      <td>0.539896</td>\n",
       "      <td>0.536290</td>\n",
       "      <td>-0.136015</td>\n",
       "      <td>-0.083488</td>\n",
       "      <td>-0.058123</td>\n",
       "      <td>0.686794</td>\n",
       "      <td>-0.818771</td>\n",
       "      <td>-0.735720</td>\n",
       "      <td>-0.088131</td>\n",
       "      <td>-0.682380</td>\n",
       "    </tr>\n",
       "    <tr>\n",
       "      <th>1</th>\n",
       "      <td>-1.378282</td>\n",
       "      <td>-0.549028</td>\n",
       "      <td>-0.355333</td>\n",
       "      <td>-1.387723</td>\n",
       "      <td>1.129554</td>\n",
       "      <td>-0.889698</td>\n",
       "      <td>0.951443</td>\n",
       "      <td>-0.357063</td>\n",
       "      <td>-0.805824</td>\n",
       "      <td>-1.290283</td>\n",
       "      <td>...</td>\n",
       "      <td>-0.083563</td>\n",
       "      <td>0.021367</td>\n",
       "      <td>-0.136015</td>\n",
       "      <td>-0.083488</td>\n",
       "      <td>-0.058123</td>\n",
       "      <td>-0.002124</td>\n",
       "      <td>-0.779318</td>\n",
       "      <td>-0.833811</td>\n",
       "      <td>0.967861</td>\n",
       "      <td>-0.682380</td>\n",
       "    </tr>\n",
       "    <tr>\n",
       "      <th>2</th>\n",
       "      <td>1.694506</td>\n",
       "      <td>-0.549028</td>\n",
       "      <td>-1.540749</td>\n",
       "      <td>1.756971</td>\n",
       "      <td>-0.211282</td>\n",
       "      <td>4.641546</td>\n",
       "      <td>0.163604</td>\n",
       "      <td>-0.357063</td>\n",
       "      <td>0.111951</td>\n",
       "      <td>0.759249</td>\n",
       "      <td>...</td>\n",
       "      <td>-0.066482</td>\n",
       "      <td>0.450469</td>\n",
       "      <td>-0.136015</td>\n",
       "      <td>-0.083488</td>\n",
       "      <td>-0.058123</td>\n",
       "      <td>-0.009089</td>\n",
       "      <td>4.414871</td>\n",
       "      <td>0.879281</td>\n",
       "      <td>0.469527</td>\n",
       "      <td>1.742084</td>\n",
       "    </tr>\n",
       "    <tr>\n",
       "      <th>3</th>\n",
       "      <td>1.202860</td>\n",
       "      <td>-0.549028</td>\n",
       "      <td>-0.201206</td>\n",
       "      <td>1.521745</td>\n",
       "      <td>1.129554</td>\n",
       "      <td>0.493113</td>\n",
       "      <td>0.630138</td>\n",
       "      <td>-0.357063</td>\n",
       "      <td>-0.805824</td>\n",
       "      <td>0.554296</td>\n",
       "      <td>...</td>\n",
       "      <td>0.877247</td>\n",
       "      <td>1.137033</td>\n",
       "      <td>-0.136015</td>\n",
       "      <td>-0.083488</td>\n",
       "      <td>-0.058123</td>\n",
       "      <td>0.015289</td>\n",
       "      <td>0.421270</td>\n",
       "      <td>-0.031565</td>\n",
       "      <td>1.300083</td>\n",
       "      <td>-0.539764</td>\n",
       "    </tr>\n",
       "    <tr>\n",
       "      <th>4</th>\n",
       "      <td>-0.763724</td>\n",
       "      <td>-0.549028</td>\n",
       "      <td>-0.776915</td>\n",
       "      <td>-0.731562</td>\n",
       "      <td>-1.015784</td>\n",
       "      <td>-0.742198</td>\n",
       "      <td>-0.196257</td>\n",
       "      <td>-0.357063</td>\n",
       "      <td>0.111951</td>\n",
       "      <td>-0.470471</td>\n",
       "      <td>...</td>\n",
       "      <td>-0.920535</td>\n",
       "      <td>-0.836838</td>\n",
       "      <td>2.384394</td>\n",
       "      <td>-0.083488</td>\n",
       "      <td>-0.058123</td>\n",
       "      <td>-0.009089</td>\n",
       "      <td>-0.803163</td>\n",
       "      <td>-0.290806</td>\n",
       "      <td>0.944130</td>\n",
       "      <td>-0.682380</td>\n",
       "    </tr>\n",
       "  </tbody>\n",
       "</table>\n",
       "<p>5 rows × 22 columns</p>\n",
       "</div>"
      ],
      "text/plain": [
       "   loan_amnt      term  int_rate  installment  emp_length  annual_inc  \\\n",
       "0  -0.272078 -0.549028 -0.201206    -0.138526    1.129554   -0.613136   \n",
       "1  -1.378282 -0.549028 -0.355333    -1.387723    1.129554   -0.889698   \n",
       "2   1.694506 -0.549028 -1.540749     1.756971   -0.211282    4.641546   \n",
       "3   1.202860 -0.549028 -0.201206     1.521745    1.129554    0.493113   \n",
       "4  -0.763724 -0.549028 -0.776915    -0.731562   -1.015784   -0.742198   \n",
       "\n",
       "        dti  delinq_2yrs  inq_last_6mths  open_acc  ...  revol_util  \\\n",
       "0 -0.043316    -0.357063       -0.805824 -0.880377  ...    0.539896   \n",
       "1  0.951443    -0.357063       -0.805824 -1.290283  ...   -0.083563   \n",
       "2  0.163604    -0.357063        0.111951  0.759249  ...   -0.066482   \n",
       "3  0.630138    -0.357063       -0.805824  0.554296  ...    0.877247   \n",
       "4 -0.196257    -0.357063        0.111951 -0.470471  ...   -0.920535   \n",
       "\n",
       "   total_acc  total_rec_late_fee  collections_12_mths_ex_med  acc_now_delinq  \\\n",
       "0   0.536290           -0.136015                   -0.083488       -0.058123   \n",
       "1   0.021367           -0.136015                   -0.083488       -0.058123   \n",
       "2   0.450469           -0.136015                   -0.083488       -0.058123   \n",
       "3   1.137033           -0.136015                   -0.083488       -0.058123   \n",
       "4  -0.836838            2.384394                   -0.083488       -0.058123   \n",
       "\n",
       "   tot_coll_amt  tot_cur_bal  total_rev_hi_lim  \\\n",
       "0      0.686794    -0.818771         -0.735720   \n",
       "1     -0.002124    -0.779318         -0.833811   \n",
       "2     -0.009089     4.414871          0.879281   \n",
       "3      0.015289     0.421270         -0.031565   \n",
       "4     -0.009089    -0.803163         -0.290806   \n",
       "\n",
       "   mths_since_earliest_cr_line_date  mths_since_last_credit_pull_d  \n",
       "0                         -0.088131                      -0.682380  \n",
       "1                          0.967861                      -0.682380  \n",
       "2                          0.469527                       1.742084  \n",
       "3                          1.300083                      -0.539764  \n",
       "4                          0.944130                      -0.682380  \n",
       "\n",
       "[5 rows x 22 columns]"
      ]
     },
     "execution_count": 71,
     "metadata": {},
     "output_type": "execute_result"
    }
   ],
   "source": [
    "std_cols.head()"
   ]
  },
  {
   "cell_type": "markdown",
   "id": "1d46e519-bcb6-46cd-ab1c-6b2c673c282d",
   "metadata": {
    "tags": []
   },
   "source": [
    "### FINAL DATA"
   ]
  },
  {
   "cell_type": "code",
   "execution_count": 72,
   "id": "b10fbd44-d807-4194-9a59-a73827eb03a7",
   "metadata": {},
   "outputs": [],
   "source": [
    "final_data = pd.concat([onehot_cols, std_cols], axis = 1).reset_index().drop('index', axis = 1)"
   ]
  },
  {
   "cell_type": "code",
   "execution_count": 73,
   "id": "7c99dab0-80c6-45ea-8583-3f7cd33fda1f",
   "metadata": {
    "tags": []
   },
   "outputs": [],
   "source": [
    "final_data = final_data[final_data['target'].notna()]"
   ]
  },
  {
   "cell_type": "code",
   "execution_count": 74,
   "id": "c1eb2514-da0a-4083-92a0-11be384b9498",
   "metadata": {},
   "outputs": [],
   "source": [
    "final_data.fillna(0, inplace=True)"
   ]
  },
  {
   "cell_type": "code",
   "execution_count": 75,
   "id": "b72db920-430b-4799-88b3-39cfe824a97b",
   "metadata": {},
   "outputs": [
    {
     "data": {
      "text/html": [
       "<div>\n",
       "<style scoped>\n",
       "    .dataframe tbody tr th:only-of-type {\n",
       "        vertical-align: middle;\n",
       "    }\n",
       "\n",
       "    .dataframe tbody tr th {\n",
       "        vertical-align: top;\n",
       "    }\n",
       "\n",
       "    .dataframe thead th {\n",
       "        text-align: right;\n",
       "    }\n",
       "</style>\n",
       "<table border=\"1\" class=\"dataframe\">\n",
       "  <thead>\n",
       "    <tr style=\"text-align: right;\">\n",
       "      <th></th>\n",
       "      <th>grade_A</th>\n",
       "      <th>grade_B</th>\n",
       "      <th>grade_C</th>\n",
       "      <th>grade_D</th>\n",
       "      <th>grade_E</th>\n",
       "      <th>grade_F</th>\n",
       "      <th>grade_G</th>\n",
       "      <th>home_ownership_ANY</th>\n",
       "      <th>home_ownership_MORTGAGE</th>\n",
       "      <th>home_ownership_NONE</th>\n",
       "      <th>...</th>\n",
       "      <th>revol_util</th>\n",
       "      <th>total_acc</th>\n",
       "      <th>total_rec_late_fee</th>\n",
       "      <th>collections_12_mths_ex_med</th>\n",
       "      <th>acc_now_delinq</th>\n",
       "      <th>tot_coll_amt</th>\n",
       "      <th>tot_cur_bal</th>\n",
       "      <th>total_rev_hi_lim</th>\n",
       "      <th>mths_since_earliest_cr_line_date</th>\n",
       "      <th>mths_since_last_credit_pull_d</th>\n",
       "    </tr>\n",
       "  </thead>\n",
       "  <tbody>\n",
       "    <tr>\n",
       "      <th>0</th>\n",
       "      <td>0.0</td>\n",
       "      <td>1.0</td>\n",
       "      <td>0.0</td>\n",
       "      <td>0.0</td>\n",
       "      <td>0.0</td>\n",
       "      <td>0.0</td>\n",
       "      <td>0.0</td>\n",
       "      <td>0.0</td>\n",
       "      <td>0.0</td>\n",
       "      <td>0.0</td>\n",
       "      <td>...</td>\n",
       "      <td>0.877247</td>\n",
       "      <td>1.137033</td>\n",
       "      <td>-0.136015</td>\n",
       "      <td>-0.083488</td>\n",
       "      <td>-0.058123</td>\n",
       "      <td>0.015289</td>\n",
       "      <td>0.421270</td>\n",
       "      <td>-0.031565</td>\n",
       "      <td>1.300083</td>\n",
       "      <td>-0.539764</td>\n",
       "    </tr>\n",
       "    <tr>\n",
       "      <th>1</th>\n",
       "      <td>0.0</td>\n",
       "      <td>1.0</td>\n",
       "      <td>0.0</td>\n",
       "      <td>0.0</td>\n",
       "      <td>0.0</td>\n",
       "      <td>0.0</td>\n",
       "      <td>0.0</td>\n",
       "      <td>0.0</td>\n",
       "      <td>0.0</td>\n",
       "      <td>0.0</td>\n",
       "      <td>...</td>\n",
       "      <td>0.377626</td>\n",
       "      <td>-0.836838</td>\n",
       "      <td>-0.136015</td>\n",
       "      <td>-0.083488</td>\n",
       "      <td>-0.058123</td>\n",
       "      <td>-0.009089</td>\n",
       "      <td>-0.570668</td>\n",
       "      <td>-0.350362</td>\n",
       "      <td>-0.479679</td>\n",
       "      <td>-0.682380</td>\n",
       "    </tr>\n",
       "    <tr>\n",
       "      <th>2</th>\n",
       "      <td>1.0</td>\n",
       "      <td>0.0</td>\n",
       "      <td>0.0</td>\n",
       "      <td>0.0</td>\n",
       "      <td>0.0</td>\n",
       "      <td>0.0</td>\n",
       "      <td>0.0</td>\n",
       "      <td>0.0</td>\n",
       "      <td>1.0</td>\n",
       "      <td>0.0</td>\n",
       "      <td>...</td>\n",
       "      <td>-0.476427</td>\n",
       "      <td>0.021367</td>\n",
       "      <td>-0.136015</td>\n",
       "      <td>-0.083488</td>\n",
       "      <td>-0.058123</td>\n",
       "      <td>-0.009089</td>\n",
       "      <td>-0.797150</td>\n",
       "      <td>-0.010546</td>\n",
       "      <td>-0.539004</td>\n",
       "      <td>0.030698</td>\n",
       "    </tr>\n",
       "    <tr>\n",
       "      <th>3</th>\n",
       "      <td>0.0</td>\n",
       "      <td>1.0</td>\n",
       "      <td>0.0</td>\n",
       "      <td>0.0</td>\n",
       "      <td>0.0</td>\n",
       "      <td>0.0</td>\n",
       "      <td>0.0</td>\n",
       "      <td>0.0</td>\n",
       "      <td>1.0</td>\n",
       "      <td>0.0</td>\n",
       "      <td>...</td>\n",
       "      <td>-1.958209</td>\n",
       "      <td>-0.579377</td>\n",
       "      <td>-0.136015</td>\n",
       "      <td>-0.083488</td>\n",
       "      <td>-0.058123</td>\n",
       "      <td>-0.009089</td>\n",
       "      <td>1.551782</td>\n",
       "      <td>1.320692</td>\n",
       "      <td>-0.111861</td>\n",
       "      <td>0.743775</td>\n",
       "    </tr>\n",
       "    <tr>\n",
       "      <th>4</th>\n",
       "      <td>0.0</td>\n",
       "      <td>1.0</td>\n",
       "      <td>0.0</td>\n",
       "      <td>0.0</td>\n",
       "      <td>0.0</td>\n",
       "      <td>0.0</td>\n",
       "      <td>0.0</td>\n",
       "      <td>0.0</td>\n",
       "      <td>1.0</td>\n",
       "      <td>0.0</td>\n",
       "      <td>...</td>\n",
       "      <td>-0.651508</td>\n",
       "      <td>0.021367</td>\n",
       "      <td>-0.136015</td>\n",
       "      <td>-0.083488</td>\n",
       "      <td>-0.058123</td>\n",
       "      <td>-0.009089</td>\n",
       "      <td>-0.588174</td>\n",
       "      <td>-0.416924</td>\n",
       "      <td>-0.361028</td>\n",
       "      <td>-0.682380</td>\n",
       "    </tr>\n",
       "  </tbody>\n",
       "</table>\n",
       "<p>5 rows × 54 columns</p>\n",
       "</div>"
      ],
      "text/plain": [
       "   grade_A  grade_B  grade_C  grade_D  grade_E  grade_F  grade_G  \\\n",
       "0      0.0      1.0      0.0      0.0      0.0      0.0      0.0   \n",
       "1      0.0      1.0      0.0      0.0      0.0      0.0      0.0   \n",
       "2      1.0      0.0      0.0      0.0      0.0      0.0      0.0   \n",
       "3      0.0      1.0      0.0      0.0      0.0      0.0      0.0   \n",
       "4      0.0      1.0      0.0      0.0      0.0      0.0      0.0   \n",
       "\n",
       "   home_ownership_ANY  home_ownership_MORTGAGE  home_ownership_NONE  ...  \\\n",
       "0                 0.0                      0.0                  0.0  ...   \n",
       "1                 0.0                      0.0                  0.0  ...   \n",
       "2                 0.0                      1.0                  0.0  ...   \n",
       "3                 0.0                      1.0                  0.0  ...   \n",
       "4                 0.0                      1.0                  0.0  ...   \n",
       "\n",
       "   revol_util  total_acc  total_rec_late_fee  collections_12_mths_ex_med  \\\n",
       "0    0.877247   1.137033           -0.136015                   -0.083488   \n",
       "1    0.377626  -0.836838           -0.136015                   -0.083488   \n",
       "2   -0.476427   0.021367           -0.136015                   -0.083488   \n",
       "3   -1.958209  -0.579377           -0.136015                   -0.083488   \n",
       "4   -0.651508   0.021367           -0.136015                   -0.083488   \n",
       "\n",
       "   acc_now_delinq  tot_coll_amt  tot_cur_bal  total_rev_hi_lim  \\\n",
       "0       -0.058123      0.015289     0.421270         -0.031565   \n",
       "1       -0.058123     -0.009089    -0.570668         -0.350362   \n",
       "2       -0.058123     -0.009089    -0.797150         -0.010546   \n",
       "3       -0.058123     -0.009089     1.551782          1.320692   \n",
       "4       -0.058123     -0.009089    -0.588174         -0.416924   \n",
       "\n",
       "   mths_since_earliest_cr_line_date  mths_since_last_credit_pull_d  \n",
       "0                          1.300083                      -0.539764  \n",
       "1                         -0.479679                      -0.682380  \n",
       "2                         -0.539004                       0.030698  \n",
       "3                         -0.111861                       0.743775  \n",
       "4                         -0.361028                      -0.682380  \n",
       "\n",
       "[5 rows x 54 columns]"
      ]
     },
     "execution_count": 75,
     "metadata": {},
     "output_type": "execute_result"
    }
   ],
   "source": [
    "final_data.head()"
   ]
  },
  {
   "cell_type": "code",
   "execution_count": 76,
   "id": "8dd8d79b-78ad-4b68-a2b2-5881c367ac37",
   "metadata": {
    "tags": []
   },
   "outputs": [
    {
     "name": "stdout",
     "output_type": "stream",
     "text": [
      "<class 'pandas.core.frame.DataFrame'>\n",
      "Int64Index: 172290 entries, 0 to 172289\n",
      "Data columns (total 54 columns):\n",
      " #   Column                               Non-Null Count   Dtype  \n",
      "---  ------                               --------------   -----  \n",
      " 0   grade_A                              172290 non-null  float64\n",
      " 1   grade_B                              172290 non-null  float64\n",
      " 2   grade_C                              172290 non-null  float64\n",
      " 3   grade_D                              172290 non-null  float64\n",
      " 4   grade_E                              172290 non-null  float64\n",
      " 5   grade_F                              172290 non-null  float64\n",
      " 6   grade_G                              172290 non-null  float64\n",
      " 7   home_ownership_ANY                   172290 non-null  float64\n",
      " 8   home_ownership_MORTGAGE              172290 non-null  float64\n",
      " 9   home_ownership_NONE                  172290 non-null  float64\n",
      " 10  home_ownership_OTHER                 172290 non-null  float64\n",
      " 11  home_ownership_OWN                   172290 non-null  float64\n",
      " 12  home_ownership_RENT                  172290 non-null  float64\n",
      " 13  verification_status_Not Verified     172290 non-null  float64\n",
      " 14  verification_status_Source Verified  172290 non-null  float64\n",
      " 15  verification_status_Verified         172290 non-null  float64\n",
      " 16  purpose_car                          172290 non-null  float64\n",
      " 17  purpose_credit_card                  172290 non-null  float64\n",
      " 18  purpose_debt_consolidation           172290 non-null  float64\n",
      " 19  purpose_home_improvement             172290 non-null  float64\n",
      " 20  purpose_house                        172290 non-null  float64\n",
      " 21  purpose_major_purchase               172290 non-null  float64\n",
      " 22  purpose_medical                      172290 non-null  float64\n",
      " 23  purpose_moving                       172290 non-null  float64\n",
      " 24  purpose_other                        172290 non-null  float64\n",
      " 25  purpose_renewable_energy             172290 non-null  float64\n",
      " 26  purpose_small_business               172290 non-null  float64\n",
      " 27  purpose_vacation                     172290 non-null  float64\n",
      " 28  purpose_wedding                      172290 non-null  float64\n",
      " 29  initial_list_status_f                172290 non-null  float64\n",
      " 30  initial_list_status_w                172290 non-null  float64\n",
      " 31  target                               172290 non-null  float64\n",
      " 32  loan_amnt                            172290 non-null  float64\n",
      " 33  term                                 172290 non-null  float64\n",
      " 34  int_rate                             172290 non-null  float64\n",
      " 35  installment                          172290 non-null  float64\n",
      " 36  emp_length                           172290 non-null  float64\n",
      " 37  annual_inc                           172290 non-null  float64\n",
      " 38  dti                                  172290 non-null  float64\n",
      " 39  delinq_2yrs                          172290 non-null  float64\n",
      " 40  inq_last_6mths                       172290 non-null  float64\n",
      " 41  open_acc                             172290 non-null  float64\n",
      " 42  pub_rec                              172290 non-null  float64\n",
      " 43  revol_bal                            172290 non-null  float64\n",
      " 44  revol_util                           172290 non-null  float64\n",
      " 45  total_acc                            172290 non-null  float64\n",
      " 46  total_rec_late_fee                   172290 non-null  float64\n",
      " 47  collections_12_mths_ex_med           172290 non-null  float64\n",
      " 48  acc_now_delinq                       172290 non-null  float64\n",
      " 49  tot_coll_amt                         172290 non-null  float64\n",
      " 50  tot_cur_bal                          172290 non-null  float64\n",
      " 51  total_rev_hi_lim                     172290 non-null  float64\n",
      " 52  mths_since_earliest_cr_line_date     172290 non-null  float64\n",
      " 53  mths_since_last_credit_pull_d        172290 non-null  float64\n",
      "dtypes: float64(54)\n",
      "memory usage: 72.3 MB\n"
     ]
    }
   ],
   "source": [
    "final_data.info()"
   ]
  },
  {
   "cell_type": "markdown",
   "id": "ad121f72-ac2a-4a16-b285-ccd316839626",
   "metadata": {
    "tags": []
   },
   "source": [
    "## MODELING"
   ]
  },
  {
   "cell_type": "markdown",
   "id": "61274161-56ac-4d76-9ad5-7f07b4126359",
   "metadata": {},
   "source": [
    "### DATA SPLITTING"
   ]
  },
  {
   "cell_type": "code",
   "execution_count": 77,
   "id": "d313ede7-5a58-42e1-9ba0-36a8888d9296",
   "metadata": {
    "tags": []
   },
   "outputs": [],
   "source": [
    "from sklearn.linear_model import LogisticRegression\n",
    "from sklearn.tree import DecisionTreeClassifier\n",
    "from sklearn.ensemble import RandomForestClassifier\n",
    "from sklearn.neighbors import KNeighborsClassifier\n",
    "from sklearn.naive_bayes import GaussianNB\n",
    "from sklearn.metrics import accuracy_score, confusion_matrix,classification_report"
   ]
  },
  {
   "cell_type": "code",
   "execution_count": 78,
   "id": "8e22fa60-4034-4de0-b7be-3b86694d26b7",
   "metadata": {
    "tags": []
   },
   "outputs": [],
   "source": [
    "# membagi variabel terikat y dan variabel bebas x\n",
    "X = final_data.drop('target', axis = 1)\n",
    "y = final_data['target']"
   ]
  },
  {
   "cell_type": "code",
   "execution_count": 79,
   "id": "d2e093b2-ba1a-4ac6-ae03-746dfd2580f7",
   "metadata": {},
   "outputs": [],
   "source": [
    "from sklearn.model_selection import train_test_split\n",
    "X_train, X_test, y_train, y_test = train_test_split(X, y, test_size=0.3, random_state=0)"
   ]
  },
  {
   "cell_type": "code",
   "execution_count": 80,
   "id": "8f67ce01-4f1a-411b-be71-af510f94fcd2",
   "metadata": {},
   "outputs": [
    {
     "data": {
      "text/plain": [
       "(120603, 53)"
      ]
     },
     "execution_count": 80,
     "metadata": {},
     "output_type": "execute_result"
    }
   ],
   "source": [
    "X_train.shape"
   ]
  },
  {
   "cell_type": "code",
   "execution_count": 81,
   "id": "cdeb8f73-525c-47b0-9f11-1c81a52609a0",
   "metadata": {},
   "outputs": [
    {
     "data": {
      "text/plain": [
       "(120603,)"
      ]
     },
     "execution_count": 81,
     "metadata": {},
     "output_type": "execute_result"
    }
   ],
   "source": [
    "y_train.shape"
   ]
  },
  {
   "cell_type": "code",
   "execution_count": 82,
   "id": "82c6baf8-2814-41ec-8167-658d9e3ff815",
   "metadata": {},
   "outputs": [
    {
     "name": "stdout",
     "output_type": "stream",
     "text": [
      "Classification_Report:\n",
      "              precision    recall  f1-score   support\n",
      "\n",
      "  risky loan       0.30      0.21      0.25     12452\n",
      "   good loan       0.77      0.85      0.81     39235\n",
      "\n",
      "    accuracy                           0.69     51687\n",
      "   macro avg       0.54      0.53      0.53     51687\n",
      "weighted avg       0.66      0.69      0.67     51687\n",
      "\n"
     ]
    }
   ],
   "source": [
    "# decision tree classifier\n",
    "dt = DecisionTreeClassifier()\n",
    "dt.fit(X_train, y_train)\n",
    "y_pred_dt = dt.predict(X_test)\n",
    "target_names = ['risky loan', 'good loan']\n",
    "print('Classification_Report:')\n",
    "print(classification_report(y_test, y_pred_dt, target_names = target_names))"
   ]
  },
  {
   "cell_type": "code",
   "execution_count": 83,
   "id": "61416608-6b0c-437b-a857-e6cf13f69f3c",
   "metadata": {},
   "outputs": [
    {
     "name": "stdout",
     "output_type": "stream",
     "text": [
      "Classification_Report:\n",
      "              precision    recall  f1-score   support\n",
      "\n",
      "  risky loan       0.41      0.10      0.17     12452\n",
      "   good loan       0.77      0.95      0.85     39235\n",
      "\n",
      "    accuracy                           0.75     51687\n",
      "   macro avg       0.59      0.53      0.51     51687\n",
      "weighted avg       0.68      0.75      0.69     51687\n",
      "\n"
     ]
    }
   ],
   "source": [
    "# knn classifier\n",
    "knn = KNeighborsClassifier(n_neighbors=20)\n",
    "knn.fit(X_train, y_train)\n",
    "y_pred_knn = knn.predict(X_test)\n",
    "target_names = ['risky loan', 'good loan']\n",
    "print('Classification_Report:')\n",
    "print(classification_report(y_test, y_pred_knn, target_names = target_names))"
   ]
  },
  {
   "cell_type": "code",
   "execution_count": 84,
   "id": "a175aa50-018a-4f94-acb8-a6e097a0e2b6",
   "metadata": {},
   "outputs": [
    {
     "name": "stdout",
     "output_type": "stream",
     "text": [
      "Classification_Report:\n",
      "              precision    recall  f1-score   support\n",
      "\n",
      "  risky loan       0.51      0.02      0.05     12452\n",
      "   good loan       0.76      0.99      0.86     39235\n",
      "\n",
      "    accuracy                           0.76     51687\n",
      "   macro avg       0.64      0.51      0.45     51687\n",
      "weighted avg       0.70      0.76      0.67     51687\n",
      "\n"
     ]
    }
   ],
   "source": [
    "# logistic regression\n",
    "lr= LogisticRegression(max_iter=600)\n",
    "lr.fit(X_train, y_train)\n",
    "y_pred_lr = lr.predict(X_test)\n",
    "target_names = ['risky loan', 'good loan']\n",
    "print('Classification_Report:')\n",
    "print(classification_report(y_test, y_pred_lr, target_names = target_names))"
   ]
  },
  {
   "cell_type": "code",
   "execution_count": 96,
   "id": "9c024376-94da-4bdb-9ae9-31216f7fd2df",
   "metadata": {},
   "outputs": [
    {
     "data": {
      "text/html": [
       "<div>\n",
       "<style scoped>\n",
       "    .dataframe tbody tr th:only-of-type {\n",
       "        vertical-align: middle;\n",
       "    }\n",
       "\n",
       "    .dataframe tbody tr th {\n",
       "        vertical-align: top;\n",
       "    }\n",
       "\n",
       "    .dataframe thead th {\n",
       "        text-align: right;\n",
       "    }\n",
       "</style>\n",
       "<table border=\"1\" class=\"dataframe\">\n",
       "  <thead>\n",
       "    <tr style=\"text-align: right;\">\n",
       "      <th></th>\n",
       "      <th>feature</th>\n",
       "      <th>importance</th>\n",
       "    </tr>\n",
       "  </thead>\n",
       "  <tbody>\n",
       "    <tr>\n",
       "      <th>0</th>\n",
       "      <td>grade_A</td>\n",
       "      <td>0.445632</td>\n",
       "    </tr>\n",
       "    <tr>\n",
       "      <th>1</th>\n",
       "      <td>grade_B</td>\n",
       "      <td>0.263010</td>\n",
       "    </tr>\n",
       "    <tr>\n",
       "      <th>8</th>\n",
       "      <td>home_ownership_MORTGAGE</td>\n",
       "      <td>0.180100</td>\n",
       "    </tr>\n",
       "    <tr>\n",
       "      <th>13</th>\n",
       "      <td>verification_status_Not Verified</td>\n",
       "      <td>0.156075</td>\n",
       "    </tr>\n",
       "    <tr>\n",
       "      <th>29</th>\n",
       "      <td>initial_list_status_f</td>\n",
       "      <td>0.150682</td>\n",
       "    </tr>\n",
       "    <tr>\n",
       "      <th>30</th>\n",
       "      <td>initial_list_status_w</td>\n",
       "      <td>0.121207</td>\n",
       "    </tr>\n",
       "    <tr>\n",
       "      <th>18</th>\n",
       "      <td>purpose_debt_consolidation</td>\n",
       "      <td>0.098108</td>\n",
       "    </tr>\n",
       "    <tr>\n",
       "      <th>17</th>\n",
       "      <td>purpose_credit_card</td>\n",
       "      <td>0.078790</td>\n",
       "    </tr>\n",
       "    <tr>\n",
       "      <th>15</th>\n",
       "      <td>verification_status_Verified</td>\n",
       "      <td>0.075513</td>\n",
       "    </tr>\n",
       "    <tr>\n",
       "      <th>34</th>\n",
       "      <td>installment</td>\n",
       "      <td>0.069145</td>\n",
       "    </tr>\n",
       "    <tr>\n",
       "      <th>24</th>\n",
       "      <td>purpose_other</td>\n",
       "      <td>0.068059</td>\n",
       "    </tr>\n",
       "    <tr>\n",
       "      <th>11</th>\n",
       "      <td>home_ownership_OWN</td>\n",
       "      <td>0.055831</td>\n",
       "    </tr>\n",
       "    <tr>\n",
       "      <th>19</th>\n",
       "      <td>purpose_home_improvement</td>\n",
       "      <td>0.049719</td>\n",
       "    </tr>\n",
       "    <tr>\n",
       "      <th>12</th>\n",
       "      <td>home_ownership_RENT</td>\n",
       "      <td>0.049012</td>\n",
       "    </tr>\n",
       "    <tr>\n",
       "      <th>16</th>\n",
       "      <td>purpose_car</td>\n",
       "      <td>0.047659</td>\n",
       "    </tr>\n",
       "    <tr>\n",
       "      <th>32</th>\n",
       "      <td>term</td>\n",
       "      <td>0.046118</td>\n",
       "    </tr>\n",
       "    <tr>\n",
       "      <th>14</th>\n",
       "      <td>verification_status_Source Verified</td>\n",
       "      <td>0.045405</td>\n",
       "    </tr>\n",
       "    <tr>\n",
       "      <th>28</th>\n",
       "      <td>purpose_wedding</td>\n",
       "      <td>0.043407</td>\n",
       "    </tr>\n",
       "    <tr>\n",
       "      <th>21</th>\n",
       "      <td>purpose_major_purchase</td>\n",
       "      <td>0.041972</td>\n",
       "    </tr>\n",
       "    <tr>\n",
       "      <th>20</th>\n",
       "      <td>purpose_house</td>\n",
       "      <td>0.039291</td>\n",
       "    </tr>\n",
       "  </tbody>\n",
       "</table>\n",
       "</div>"
      ],
      "text/plain": [
       "                                feature  importance\n",
       "0                               grade_A    0.445632\n",
       "1                               grade_B    0.263010\n",
       "8               home_ownership_MORTGAGE    0.180100\n",
       "13     verification_status_Not Verified    0.156075\n",
       "29                initial_list_status_f    0.150682\n",
       "30                initial_list_status_w    0.121207\n",
       "18           purpose_debt_consolidation    0.098108\n",
       "17                  purpose_credit_card    0.078790\n",
       "15         verification_status_Verified    0.075513\n",
       "34                          installment    0.069145\n",
       "24                        purpose_other    0.068059\n",
       "11                   home_ownership_OWN    0.055831\n",
       "19             purpose_home_improvement    0.049719\n",
       "12                  home_ownership_RENT    0.049012\n",
       "16                          purpose_car    0.047659\n",
       "32                                 term    0.046118\n",
       "14  verification_status_Source Verified    0.045405\n",
       "28                      purpose_wedding    0.043407\n",
       "21               purpose_major_purchase    0.041972\n",
       "20                        purpose_house    0.039291"
      ]
     },
     "execution_count": 96,
     "metadata": {},
     "output_type": "execute_result"
    }
   ],
   "source": [
    "lr.fit(X / np.std(X, 0), y)\n",
    "importances = pd.DataFrame(data={\n",
    "    'feature': X_train.columns,\n",
    "    'importance': lr.coef_[0]\n",
    "})\n",
    "importances = importances.sort_values(by='importance', ascending=False)\n",
    "importances.head(20)"
   ]
  },
  {
   "cell_type": "code",
   "execution_count": 85,
   "id": "4cff998c-0936-443c-9077-410ffbe48882",
   "metadata": {
    "tags": []
   },
   "outputs": [
    {
     "name": "stdout",
     "output_type": "stream",
     "text": [
      "Classification_Report:\n",
      "              precision    recall  f1-score   support\n",
      "\n",
      "  risky loan       0.41      0.18      0.25     12452\n",
      "   good loan       0.78      0.92      0.84     39235\n",
      "\n",
      "    accuracy                           0.74     51687\n",
      "   macro avg       0.60      0.55      0.55     51687\n",
      "weighted avg       0.69      0.74      0.70     51687\n",
      "\n"
     ]
    }
   ],
   "source": [
    "# Naive Bayes\n",
    "nb = GaussianNB()\n",
    "nb.fit(X_train, y_train)\n",
    "y_pred_nb = nb.predict(X_test)\n",
    "target_names = ['risky loan', 'good loan']\n",
    "print('Classification_Report:')\n",
    "print(classification_report(y_test, y_pred_nb, target_names = target_names))"
   ]
  },
  {
   "cell_type": "code",
   "execution_count": 86,
   "id": "6645c4f7-f328-455a-a1cd-70dc416ed9ab",
   "metadata": {
    "tags": []
   },
   "outputs": [
    {
     "name": "stdout",
     "output_type": "stream",
     "text": [
      "Classification_Report:\n",
      "              precision    recall  f1-score   support\n",
      "\n",
      "  risky loan       0.48      0.07      0.12     12452\n",
      "   good loan       0.77      0.98      0.86     39235\n",
      "\n",
      "    accuracy                           0.76     51687\n",
      "   macro avg       0.63      0.52      0.49     51687\n",
      "weighted avg       0.70      0.76      0.68     51687\n",
      "\n"
     ]
    }
   ],
   "source": [
    "# random forest classifier\n",
    "rf = RandomForestClassifier()\n",
    "rf.fit(X_train,y_train)\n",
    "y_pred_rf = rf.predict(X_test)\n",
    "target_names = ['risky loan', 'good loan']\n",
    "print('Classification_Report:')\n",
    "print(classification_report(y_test, y_pred_rf, target_names = target_names))"
   ]
  },
  {
   "cell_type": "code",
   "execution_count": 97,
   "id": "8f4bafe6-6845-40e0-ac01-0da3714f1196",
   "metadata": {
    "tags": []
   },
   "outputs": [
    {
     "data": {
      "text/html": [
       "<div>\n",
       "<style scoped>\n",
       "    .dataframe tbody tr th:only-of-type {\n",
       "        vertical-align: middle;\n",
       "    }\n",
       "\n",
       "    .dataframe tbody tr th {\n",
       "        vertical-align: top;\n",
       "    }\n",
       "\n",
       "    .dataframe thead th {\n",
       "        text-align: right;\n",
       "    }\n",
       "</style>\n",
       "<table border=\"1\" class=\"dataframe\">\n",
       "  <thead>\n",
       "    <tr style=\"text-align: right;\">\n",
       "      <th></th>\n",
       "      <th>feature</th>\n",
       "      <th>importance</th>\n",
       "    </tr>\n",
       "  </thead>\n",
       "  <tbody>\n",
       "    <tr>\n",
       "      <th>37</th>\n",
       "      <td>dti</td>\n",
       "      <td>0.060159</td>\n",
       "    </tr>\n",
       "    <tr>\n",
       "      <th>49</th>\n",
       "      <td>tot_cur_bal</td>\n",
       "      <td>0.059906</td>\n",
       "    </tr>\n",
       "    <tr>\n",
       "      <th>43</th>\n",
       "      <td>revol_util</td>\n",
       "      <td>0.059089</td>\n",
       "    </tr>\n",
       "    <tr>\n",
       "      <th>42</th>\n",
       "      <td>revol_bal</td>\n",
       "      <td>0.058624</td>\n",
       "    </tr>\n",
       "    <tr>\n",
       "      <th>51</th>\n",
       "      <td>mths_since_earliest_cr_line_date</td>\n",
       "      <td>0.057895</td>\n",
       "    </tr>\n",
       "    <tr>\n",
       "      <th>50</th>\n",
       "      <td>total_rev_hi_lim</td>\n",
       "      <td>0.057371</td>\n",
       "    </tr>\n",
       "    <tr>\n",
       "      <th>34</th>\n",
       "      <td>installment</td>\n",
       "      <td>0.057349</td>\n",
       "    </tr>\n",
       "    <tr>\n",
       "      <th>36</th>\n",
       "      <td>annual_inc</td>\n",
       "      <td>0.054320</td>\n",
       "    </tr>\n",
       "    <tr>\n",
       "      <th>33</th>\n",
       "      <td>int_rate</td>\n",
       "      <td>0.052294</td>\n",
       "    </tr>\n",
       "    <tr>\n",
       "      <th>44</th>\n",
       "      <td>total_acc</td>\n",
       "      <td>0.048863</td>\n",
       "    </tr>\n",
       "    <tr>\n",
       "      <th>31</th>\n",
       "      <td>loan_amnt</td>\n",
       "      <td>0.047877</td>\n",
       "    </tr>\n",
       "    <tr>\n",
       "      <th>40</th>\n",
       "      <td>open_acc</td>\n",
       "      <td>0.041392</td>\n",
       "    </tr>\n",
       "    <tr>\n",
       "      <th>52</th>\n",
       "      <td>mths_since_last_credit_pull_d</td>\n",
       "      <td>0.033548</td>\n",
       "    </tr>\n",
       "    <tr>\n",
       "      <th>35</th>\n",
       "      <td>emp_length</td>\n",
       "      <td>0.030637</td>\n",
       "    </tr>\n",
       "    <tr>\n",
       "      <th>0</th>\n",
       "      <td>grade_A</td>\n",
       "      <td>0.029227</td>\n",
       "    </tr>\n",
       "    <tr>\n",
       "      <th>1</th>\n",
       "      <td>grade_B</td>\n",
       "      <td>0.021330</td>\n",
       "    </tr>\n",
       "    <tr>\n",
       "      <th>39</th>\n",
       "      <td>inq_last_6mths</td>\n",
       "      <td>0.020330</td>\n",
       "    </tr>\n",
       "    <tr>\n",
       "      <th>4</th>\n",
       "      <td>grade_E</td>\n",
       "      <td>0.017144</td>\n",
       "    </tr>\n",
       "    <tr>\n",
       "      <th>48</th>\n",
       "      <td>tot_coll_amt</td>\n",
       "      <td>0.013341</td>\n",
       "    </tr>\n",
       "    <tr>\n",
       "      <th>38</th>\n",
       "      <td>delinq_2yrs</td>\n",
       "      <td>0.011741</td>\n",
       "    </tr>\n",
       "  </tbody>\n",
       "</table>\n",
       "</div>"
      ],
      "text/plain": [
       "                             feature  importance\n",
       "37                               dti    0.060159\n",
       "49                       tot_cur_bal    0.059906\n",
       "43                        revol_util    0.059089\n",
       "42                         revol_bal    0.058624\n",
       "51  mths_since_earliest_cr_line_date    0.057895\n",
       "50                  total_rev_hi_lim    0.057371\n",
       "34                       installment    0.057349\n",
       "36                        annual_inc    0.054320\n",
       "33                          int_rate    0.052294\n",
       "44                         total_acc    0.048863\n",
       "31                         loan_amnt    0.047877\n",
       "40                          open_acc    0.041392\n",
       "52     mths_since_last_credit_pull_d    0.033548\n",
       "35                        emp_length    0.030637\n",
       "0                            grade_A    0.029227\n",
       "1                            grade_B    0.021330\n",
       "39                    inq_last_6mths    0.020330\n",
       "4                            grade_E    0.017144\n",
       "48                      tot_coll_amt    0.013341\n",
       "38                       delinq_2yrs    0.011741"
      ]
     },
     "execution_count": 97,
     "metadata": {},
     "output_type": "execute_result"
    }
   ],
   "source": [
    "arr_feature_importances = rf.feature_importances_\n",
    "arr_feature_names = X_train.columns.values\n",
    "df_feature_importance = pd.DataFrame(index=range(len(arr_feature_importances)), columns=['feature', 'importance'])\n",
    "df_feature_importance['feature'] = arr_feature_names\n",
    "df_feature_importance['importance'] = arr_feature_importances\n",
    "df_all_features = df_feature_importance.sort_values(by='importance', ascending=False)\n",
    "df_all_features.head(20)"
   ]
  },
  {
   "cell_type": "markdown",
   "id": "b2f24f7b-2cab-4862-9475-3ca23b609b30",
   "metadata": {
    "jp-MarkdownHeadingCollapsed": true,
    "tags": []
   },
   "source": [
    "## SUMMARY"
   ]
  },
  {
   "cell_type": "markdown",
   "id": "bbd43792-808c-4001-aa54-1638d1326220",
   "metadata": {},
   "source": [
    "Dari kedua model klasifikasi yang telah dibuat menggunakan Logistic Regression dan Random Forest Classifier, diperoleh akurasi yang sama yaitu 76% dan tergolong baik. Jadi, model ini dapat digunakan untuk memprediksi data baru dalam rangka pengambilan keputusan apakah pengajuan peminjam tersebut dapat diterima atau ditolak berdasarkan tingkat risikonya. \n",
    "Kesalahan prediksi dari kedua model tersebut dipengaruhi oleh feature importance. Untuk model Logistic Regression, fitur yang paling penting adalah fitur kelas, kepemilikan rumah dan status verifikasi. Sedangkan, untuk model Random Forest Classifier, fitur yang paling penting adalah rasio antara total pembayaran utang bulanan peminjam dengan pendapatan bulanan peminjam, dan total saldo dari semua akun peminjam tersebut.\n"
   ]
  }
 ],
 "metadata": {
  "kernelspec": {
   "display_name": "Python 3 (ipykernel)",
   "language": "python",
   "name": "python3"
  },
  "language_info": {
   "codemirror_mode": {
    "name": "ipython",
    "version": 3
   },
   "file_extension": ".py",
   "mimetype": "text/x-python",
   "name": "python",
   "nbconvert_exporter": "python",
   "pygments_lexer": "ipython3",
   "version": "3.9.12"
  }
 },
 "nbformat": 4,
 "nbformat_minor": 5
}
